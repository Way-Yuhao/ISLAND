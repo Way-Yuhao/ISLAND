{
 "cells": [
  {
   "cell_type": "code",
   "execution_count": 16,
   "id": "2d8376c1-7f16-4301-b3b1-16b157c162ce",
   "metadata": {
    "tags": []
   },
   "outputs": [],
   "source": [
    "import os\n",
    "import os.path as p\n",
    "import sys\n",
    "import cv2\n",
    "import ee\n",
    "import geemap\n",
    "import seaborn as sns\n",
    "from natsort import natsorted\n",
    "module_path = os.path.abspath(os.path.join('..'))\n",
    "if module_path not in sys.path:\n",
    "    sys.path.append(module_path)\n",
    "from util.helper import get_scene_id\n",
    "root_ = '/Users/yuhaoliu/mnt/r10/Code/UrbanSurfTemp/data/'"
   ]
  },
  {
   "cell_type": "markdown",
   "id": "76c1d73b-2ecb-4d6d-b6b5-ad2f4b427363",
   "metadata": {},
   "source": [
    "### Outputs"
   ]
  },
  {
   "cell_type": "code",
   "execution_count": 35,
   "id": "3fe09920-9978-466a-bb2e-795e55eddf6b",
   "metadata": {
    "tags": []
   },
   "outputs": [
    {
     "name": "stdout",
     "output_type": "stream",
     "text": [
      "['r_occlusion0.07.tif', 'r_occlusion0.14.tif', 'r_occlusion0.33.tif', 'r_occlusion0.74.tif', 'r_occlusion0.75.tif', 'r_occlusion0.90.tif', 'r_occlusion0.99.tif']\n",
      "['occlusion0.07.tif', 'occlusion0.14.tif', 'occlusion0.33.tif', 'occlusion0.74.tif', 'occlusion0.75.tif', 'occlusion0.90.tif', 'occlusion0.99.tif']\n"
     ]
    }
   ],
   "source": [
    "city = 'Houston'\n",
    "date_ = '20181205'\n",
    "scene_id = get_scene_id(city)\n",
    "dir_path = p.join(root_, city, 'analysis', f'occlusion_progression_{date_}')\n",
    "files = os.listdir(dir_path)\n",
    "files = natsorted([f for f in files if 'tif' in f and 'r_' in f and 'aux' not in f])\n",
    "bitmask_files = os.listdir(dir_path)\n",
    "bitmask_files = natsorted([f for f in bitmask_files if 'tif' in f and 'r_' not in f and 'aux' not in f])\n",
    "print(files)\n",
    "print(bitmask_files)"
   ]
  },
  {
   "cell_type": "code",
   "execution_count": 38,
   "id": "69dd9d79-01fd-4308-a464-dc08c407a8ab",
   "metadata": {
    "tags": []
   },
   "outputs": [
    {
     "data": {
      "application/vnd.jupyter.widget-view+json": {
       "model_id": "08e6ddd40b3b49a6b65a36687340379d",
       "version_major": 2,
       "version_minor": 0
      },
      "text/plain": [
       "Map(center=[20, 0], controls=(WidgetControl(options=['position', 'transparent_bg'], widget=HBox(children=(Togg…"
      ]
     },
     "metadata": {},
     "output_type": "display_data"
    }
   ],
   "source": [
    "vis = {\n",
    "  'min': 260.0,\n",
    "  'max': 300.0,\n",
    "  'palette' : sns.color_palette('magma', 20).as_hex(),\n",
    "}\n",
    "vis_rgb = {'min': 0.0, 'max': 0.4}\n",
    "\n",
    "Map = geemap.Map()\n",
    "for f in reversed(files):\n",
    "    layer_path = p.join(dir_path, f)\n",
    "    Map.add_raster(source=layer_path, layer_name=f[:-4], palette=vis['palette'], vmin=vis['min'], vmax=vis['max'])\n",
    "input_path = p.join(root_, city, 'bt_series', f'LC08_B10_{date_}.tif')\n",
    "Map.add_raster(source=input_path, layer_name='ground_truth', palette=vis['palette'], vmin=vis['min'], vmax=vis['max'])\n",
    "Map.add_colorbar(vis, label='Brightness Temperature')\n",
    "Map"
   ]
  },
  {
   "cell_type": "markdown",
   "id": "53cf286e-9c9a-4725-ab8b-4e4cff9ca838",
   "metadata": {},
   "source": [
    "### Bitmask"
   ]
  },
  {
   "cell_type": "code",
   "execution_count": 23,
   "id": "d0985927-64d9-4c3d-b22b-ac3fb539b06b",
   "metadata": {
    "tags": []
   },
   "outputs": [
    {
     "name": "stdout",
     "output_type": "stream",
     "text": [
      "[[0. 0. 0. ... 0. 0. 0.]\n",
      " [0. 0. 0. ... 0. 0. 0.]\n",
      " [0. 0. 0. ... 0. 0. 0.]\n",
      " ...\n",
      " [0. 0. 0. ... 0. 0. 0.]\n",
      " [0. 0. 0. ... 0. 0. 0.]\n",
      " [0. 0. 0. ... 0. 0. 0.]]\n"
     ]
    }
   ],
   "source": [
    "img = p.join(dir_path, bitmask_files[0])\n",
    "img = cv2.imread(img, -1)\n",
    "print(img)"
   ]
  },
  {
   "cell_type": "code",
   "execution_count": 37,
   "id": "a51f4ad4-4a80-4e19-826f-8d9b78d620bc",
   "metadata": {
    "tags": []
   },
   "outputs": [
    {
     "data": {
      "application/vnd.jupyter.widget-view+json": {
       "model_id": "b43d43a7a0be4126a8e54d71e63790cf",
       "version_major": 2,
       "version_minor": 0
      },
      "text/plain": [
       "Map(center=[20, 0], controls=(WidgetControl(options=['position', 'transparent_bg'], widget=HBox(children=(Togg…"
      ]
     },
     "metadata": {},
     "output_type": "display_data"
    }
   ],
   "source": [
    "Map2 = geemap.Map()\n",
    "for f in reversed(bitmask_files):\n",
    "    layer_path = p.join(dir_path, f)\n",
    "    Map2.add_raster(source=layer_path, layer_name=f[:-4])\n",
    "Map2"
   ]
  }
 ],
 "metadata": {
  "kernelspec": {
   "display_name": "Python 3 (ipykernel)",
   "language": "python",
   "name": "python3"
  },
  "language_info": {
   "codemirror_mode": {
    "name": "ipython",
    "version": 3
   },
   "file_extension": ".py",
   "mimetype": "text/x-python",
   "name": "python",
   "nbconvert_exporter": "python",
   "pygments_lexer": "ipython3",
   "version": "3.11.0"
  }
 },
 "nbformat": 4,
 "nbformat_minor": 5
}
