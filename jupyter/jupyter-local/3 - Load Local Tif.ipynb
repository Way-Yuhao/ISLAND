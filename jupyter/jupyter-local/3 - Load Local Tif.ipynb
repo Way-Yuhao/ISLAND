{
 "cells": [
  {
   "cell_type": "markdown",
   "id": "7b6eee94-f9a6-40b9-bf0e-59af3bd76746",
   "metadata": {},
   "source": [
    "## Hot zones"
   ]
  },
  {
   "cell_type": "code",
   "execution_count": 7,
   "id": "e1be2201-42a5-4677-a4da-2791621e9796",
   "metadata": {
    "tags": []
   },
   "outputs": [],
   "source": [
    "import os\n",
    "import os.path as p\n",
    "import sys\n",
    "import ee\n",
    "import geemap\n",
    "import seaborn as sns\n",
    "from matplotlib import pyplot as plt\n",
    "\n",
    "module_path = os.path.abspath(os.path.join('..'))\n",
    "if module_path not in sys.path:\n",
    "    sys.path.append(module_path)\n",
    "from util.helper import get_scene_id\n",
    "root_ = '/Users/yuhaoliu/mnt/r10/Code/UrbanSurfTemp/data/'"
   ]
  },
  {
   "cell_type": "code",
   "execution_count": 21,
   "id": "7a125ce7-7047-4874-8669-d1977073497a",
   "metadata": {
    "tags": []
   },
   "outputs": [
    {
     "data": {
      "application/vnd.jupyter.widget-view+json": {
       "model_id": "381ba0e580a6402799b1ffd30a4d9ed4",
       "version_major": 2,
       "version_minor": 0
      },
      "text/plain": [
       "Map(center=[20, 0], controls=(WidgetControl(options=['position', 'transparent_bg'], widget=HBox(children=(Togg…"
      ]
     },
     "execution_count": 21,
     "metadata": {},
     "output_type": "execute_result"
    }
   ],
   "source": [
    "city = 'San Antonio'\n",
    "threashold = 310\n",
    "vis = {\n",
    "  'min': 0,\n",
    "  'max': 100,\n",
    "  'palette' : sns.color_palette('inferno', 20).as_hex(),\n",
    "}\n",
    "Map = geemap.Map()\n",
    "dataset = ee.ImageCollection('USGS/NLCD_RELEASES/2019_REL/NLCD')\n",
    "nlcd_2019 = dataset.filter(ee.Filter.eq('system:index', '2019')).first()\n",
    "landcover_2019 = nlcd_2019.select('landcover')\n",
    "san_antinio_hotzone = p.join(root_, f'{city}/analysis/hotzones_{threashold}k.tif')\n",
    "# print(san_antinio_hotzone)\n",
    "Map.addLayer(landcover_2019, None, 'landcover')\n",
    "Map.add_raster(source=san_antinio_hotzone, layer_name='Hotzones', palette=vis['palette'])\n",
    "Map.add_colorbar(vis, label=f'Number of days exceeding {threashold} K')\n",
    "Map"
   ]
  },
  {
   "cell_type": "code",
   "execution_count": 22,
   "id": "f93ce531-7800-4570-b32e-e4eff7afa612",
   "metadata": {
    "tags": []
   },
   "outputs": [
    {
     "data": {
      "application/vnd.jupyter.widget-view+json": {
       "model_id": "dbebf13ada4a43569fdfa74fd89851c5",
       "version_major": 2,
       "version_minor": 0
      },
      "text/plain": [
       "Map(center=[20, 0], controls=(WidgetControl(options=['position', 'transparent_bg'], widget=HBox(children=(Togg…"
      ]
     },
     "execution_count": 22,
     "metadata": {},
     "output_type": "execute_result"
    }
   ],
   "source": [
    "city = 'Houston'\n",
    "threashold = 310\n",
    "vis = {\n",
    "  'min': 0,\n",
    "  'max': 100,\n",
    "  'palette' : sns.color_palette('inferno', 20).as_hex(),\n",
    "}\n",
    "Map = geemap.Map()\n",
    "dataset = ee.ImageCollection('USGS/NLCD_RELEASES/2019_REL/NLCD')\n",
    "nlcd_2019 = dataset.filter(ee.Filter.eq('system:index', '2019')).first()\n",
    "landcover_2019 = nlcd_2019.select('landcover')\n",
    "san_antinio_hotzone = p.join(root_, f'{city}/analysis/hotzones_{threashold}k.tif')\n",
    "# print(san_antinio_hotzone)\n",
    "Map.addLayer(landcover_2019, None, 'landcover')\n",
    "Map.add_raster(source=san_antinio_hotzone, layer_name='Hotzones', palette=vis['palette'])\n",
    "Map.add_colorbar(vis, label=f'Number of days exceeding {threashold} K')\n",
    "Map"
   ]
  },
  {
   "cell_type": "code",
   "execution_count": 23,
   "id": "c231224e-1efe-408c-91f0-d03422dabcd0",
   "metadata": {
    "tags": []
   },
   "outputs": [
    {
     "data": {
      "application/vnd.jupyter.widget-view+json": {
       "model_id": "569f34076ec94077a96f617514901381",
       "version_major": 2,
       "version_minor": 0
      },
      "text/plain": [
       "Map(center=[20, 0], controls=(WidgetControl(options=['position', 'transparent_bg'], widget=HBox(children=(Togg…"
      ]
     },
     "execution_count": 23,
     "metadata": {},
     "output_type": "execute_result"
    }
   ],
   "source": [
    "city = 'Los Angeles'\n",
    "threashold = 320\n",
    "vis = {\n",
    "  'min': 0,\n",
    "  'max': 50,\n",
    "  'palette' : sns.color_palette('inferno', 20).as_hex(),\n",
    "}\n",
    "Map = geemap.Map()\n",
    "dataset = ee.ImageCollection('USGS/NLCD_RELEASES/2019_REL/NLCD')\n",
    "nlcd_2019 = dataset.filter(ee.Filter.eq('system:index', '2019')).first()\n",
    "landcover_2019 = nlcd_2019.select('landcover')\n",
    "san_antinio_hotzone = p.join(root_, f'{city}/analysis/hotzones_{threashold}k.tif')\n",
    "# print(san_antinio_hotzone)\n",
    "Map.addLayer(landcover_2019, None, 'landcover')\n",
    "Map.add_raster(source=san_antinio_hotzone, layer_name='Hotzones', palette=vis['palette'])\n",
    "Map.add_colorbar(vis, label=f'Number of days exceeding {threashold} K')\n",
    "Map"
   ]
  }
 ],
 "metadata": {
  "kernelspec": {
   "display_name": "Python 3 (ipykernel)",
   "language": "python",
   "name": "python3"
  },
  "language_info": {
   "codemirror_mode": {
    "name": "ipython",
    "version": 3
   },
   "file_extension": ".py",
   "mimetype": "text/x-python",
   "name": "python",
   "nbconvert_exporter": "python",
   "pygments_lexer": "ipython3",
   "version": "3.11.0"
  }
 },
 "nbformat": 4,
 "nbformat_minor": 5
}
