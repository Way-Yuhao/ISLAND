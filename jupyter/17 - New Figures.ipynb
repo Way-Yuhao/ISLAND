{
 "cells": [
  {
   "cell_type": "code",
   "execution_count": 14,
   "id": "initial_id",
   "metadata": {
    "tags": []
   },
   "outputs": [],
   "source": [
    "import sys\n",
    "import os\n",
    "import os.path as p\n",
    "\n",
    "service_prefix = ''\n",
    "os.environ['LOCALTILESERVER_CLIENT_PREFIX'] = f\"{service_prefix}/proxy/{{port}}\"\n",
    "module_path = os.path.abspath(os.path.join('..'))\n",
    "if module_path not in sys.path:\n",
    "    sys.path.append(module_path)\n",
    "import geemap\n",
    "import ee\n",
    "import seaborn as sns\n",
    "from natsort import natsorted\n",
    "import numpy as np\n",
    "import pandas as pd\n",
    "import seaborn as sns\n",
    "from tqdm import tqdm\n",
    "import shutil\n",
    "from matplotlib import pyplot as plt\n",
    "import cv2\n",
    "from datetime import date, timedelta, datetime\n",
    "from rich.progress import track\n",
    "from config.config import *\n",
    "from interpolators.lst_interpolator import LST_Interpolator as Interpolator\n",
    "from util.helper import rprint, yprint, hash_, pjoin, save_cmap, get_season, deprecated\n",
    "from util.geo_reference import save_geotiff\n",
    "from util.occlusion_sampler import OcclusionSampler"
   ]
  },
  {
   "cell_type": "code",
   "execution_count": 25,
   "id": "737a966d-0a25-46e6-aec9-6d0deabe1f6a",
   "metadata": {},
   "outputs": [
    {
     "data": {
      "application/vnd.jupyter.widget-view+json": {
       "model_id": "7825938903b24f028604b085fbdda664",
       "version_major": 2,
       "version_minor": 0
      },
      "text/plain": [
       "Map(center=[20, 0], controls=(WidgetControl(options=['position', 'transparent_bg'], widget=HBox(children=(Togg…"
      ]
     },
     "metadata": {},
     "output_type": "display_data"
    }
   ],
   "source": [
    "vis = {\n",
    "  'min': 270,\n",
    "  'max': 330,\n",
    "  'palette' : sns.color_palette('inferno', 20).as_hex(),\n",
    "}\n",
    "\n",
    "date_ = '20190816'\n",
    "city = 'San Antonio'\n",
    "scene_id = '027040'\n",
    "landsat_img = ee.Image(f'LANDSAT/LC08/C02/T1_L2/LC08_{scene_id}_{date_}').select('ST_B10').multiply(0.00341802).add(149)\n",
    "output = f\"/home/yuhaoliu/Data/ISLAND/cities/{city}/output_referenced/lst/lst_{date_}.tif\"\n",
    "input_ = f\"/home/yuhaoliu/Data/ISLAND/cities/{city}/lst/LC08_ST_B10_{date_}.tif\"\n",
    "# nlcd = \"/home/yuhaoliu/Data/ISLAND/cities/Houston/nlcd_2021_color.tif\"\n",
    "Map = geemap.Map()\n",
    "Map.add_raster(output, layer_name='output',palette=vis['palette'], vmax=vis['max'], vmin=vis['min'])\n",
    "Map.add_raster(input_, layer_name='input',palette=vis['palette'], vmax=vis['max'], vmin=vis['min'])\n",
    "Map.addLayer(landsat_img, vis, 'landsat')\n",
    "# Map.add_raster(nlcd, layer_name='nlcd')\n",
    "Map"
   ]
  },
  {
   "cell_type": "code",
   "execution_count": 20,
   "id": "aaa31655-5f5f-48ff-8170-0d06b1b07ba0",
   "metadata": {},
   "outputs": [],
   "source": [
    "output_img = cv2.imread(output, -1)\n",
    "input_img = cv2.imread(input_, -1)"
   ]
  },
  {
   "cell_type": "code",
   "execution_count": 24,
   "id": "9abfc80a-ac16-4db3-9e42-bb48ecebb584",
   "metadata": {},
   "outputs": [
    {
     "data": {
      "text/plain": [
       "149.0"
      ]
     },
     "execution_count": 24,
     "metadata": {},
     "output_type": "execute_result"
    }
   ],
   "source": [
    "input_img.min()"
   ]
  }
 ],
 "metadata": {
  "kernelspec": {
   "display_name": "Python 3 (ipykernel)",
   "language": "python",
   "name": "python3"
  },
  "language_info": {
   "codemirror_mode": {
    "name": "ipython",
    "version": 3
   },
   "file_extension": ".py",
   "mimetype": "text/x-python",
   "name": "python",
   "nbconvert_exporter": "python",
   "pygments_lexer": "ipython3",
   "version": "3.9.13"
  }
 },
 "nbformat": 4,
 "nbformat_minor": 5
}
