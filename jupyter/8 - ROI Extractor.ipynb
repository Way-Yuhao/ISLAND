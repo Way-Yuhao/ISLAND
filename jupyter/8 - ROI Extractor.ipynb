{
 "cells": [
  {
   "cell_type": "code",
   "execution_count": 1,
   "metadata": {
    "pycharm": {
     "name": "#%%\n"
    }
   },
   "outputs": [],
   "source": [
    "import ee\n",
    "import geemap\n",
    "from datetime import date, timedelta, datetime\n",
    "from omegaconf import DictConfig, OmegaConf"
   ]
  },
  {
   "cell_type": "code",
   "execution_count": 2,
   "metadata": {},
   "outputs": [
    {
     "data": {
      "text/html": [
       "<p>To authorize access needed by Earth Engine, open the following\n",
       "        URL in a web browser and follow the instructions:</p>\n",
       "        <p><a href=https://code.earthengine.google.com/client-auth?scopes=https%3A//www.googleapis.com/auth/earthengine%20https%3A//www.googleapis.com/auth/devstorage.full_control&request_id=1mkbYTNxaFmOYYlTde3h01DOELiwxR2CiGdznzES1Z8&tc=z-uX3KPZdwsVNCLjjjP7gMRoIvYM06KIr7JtwP02lRo&cc=uFBrChb0eV5kWDqI9GvvoAD_o3oS4RtKFsGAFsYEn2Q>https://code.earthengine.google.com/client-auth?scopes=https%3A//www.googleapis.com/auth/earthengine%20https%3A//www.googleapis.com/auth/devstorage.full_control&request_id=1mkbYTNxaFmOYYlTde3h01DOELiwxR2CiGdznzES1Z8&tc=z-uX3KPZdwsVNCLjjjP7gMRoIvYM06KIr7JtwP02lRo&cc=uFBrChb0eV5kWDqI9GvvoAD_o3oS4RtKFsGAFsYEn2Q</a></p>\n",
       "        <p>The authorization workflow will generate a code, which you should paste in the box below.</p>\n",
       "        "
      ],
      "text/plain": [
       "<IPython.core.display.HTML object>"
      ]
     },
     "metadata": {},
     "output_type": "display_data"
    },
    {
     "name": "stdin",
     "output_type": "stream",
     "text": [
      "Enter verification code:  4/1AeaYSHCIXn5CX0gV_19NOjtqcBeJrM4-181N1YUKo0kpF-JwtlEzHGJX2C0\n"
     ]
    },
    {
     "name": "stdout",
     "output_type": "stream",
     "text": [
      "\n",
      "Successfully saved authorization token.\n"
     ]
    }
   ],
   "source": [
    "ee.Authenticate()"
   ]
  },
  {
   "cell_type": "markdown",
   "metadata": {},
   "source": [
    "# Extracting Scene ID"
   ]
  },
  {
   "cell_type": "markdown",
   "metadata": {},
   "source": [
    "Acquiring WRS: https://landsat.usgs.gov/landsat_acq#convertPathRow (you can obtain scene_id here)</br> \n",
    "Landsat Naming Conventions: https://gisgeography.com/landsat-file-naming-convention/ </br>\n",
    "LAndsat 7/8/9 Acquisition Calendar: https://landsat.usgs.gov/landsat_acq#convertPathRow </br>"
   ]
  },
  {
   "cell_type": "markdown",
   "metadata": {},
   "source": [
    "# Extracting Region of Interest (ROI) for cities"
   ]
  },
  {
   "cell_type": "code",
   "execution_count": 3,
   "metadata": {
    "pycharm": {
     "name": "#%%\n"
    }
   },
   "outputs": [],
   "source": [
    "def acquire_reference_date(start_date, scene_id):\n",
    "    \"\"\"\n",
    "    Find the first date after which a LANDSAT 8 image is valid for a given scene id\n",
    "    :param start_date:\n",
    "    :param scene_id:\n",
    "    :return:\n",
    "    \"\"\"\n",
    "    reference_date = None\n",
    "    cur_date = datetime.strptime(start_date, '%Y%m%d')\n",
    "    while reference_date is None:\n",
    "        cur_date_str = datetime.strftime(cur_date, '%Y%m%d')\n",
    "        try:\n",
    "            img = ee.Image(f'LANDSAT/LC08/C02/T1_TOA/LC08_{scene_id}_{cur_date_str}')\n",
    "            img.getInfo()\n",
    "        except ee.EEException as e:  # image does not exist\n",
    "            cur_date = cur_date + timedelta(days=1)\n",
    "            continue\n",
    "        # image exists, in the case of no exception\n",
    "        reference_date = cur_date_str\n",
    "        return reference_date"
   ]
  },
  {
   "cell_type": "code",
   "execution_count": 4,
   "metadata": {
    "pycharm": {
     "name": "#%%\n"
    }
   },
   "outputs": [
    {
     "name": "stdout",
     "output_type": "stream",
     "text": [
      "Please provide a scene_id for corresponding to a LANDSAT8 image\n"
     ]
    },
    {
     "name": "stdin",
     "output_type": "stream",
     "text": [
      " 023032\n"
     ]
    }
   ],
   "source": [
    "ee.Initialize()\n",
    "sr_vis = {'bands': ['SR_B4', 'SR_B3', 'SR_B2'], 'min': 0.0, 'max': 0.3,} # for LANDSAT8 surface reflectance RGB\n",
    "print('Please provide a scene_id for corresponding to a LANDSAT8 image')\n",
    "scene_id = input()\n",
    "if len(scene_id) == 5:\n",
    "    scene_id = '0' + scene_id\n",
    "    print('zero padded to ', scene_id)"
   ]
  },
  {
   "cell_type": "code",
   "execution_count": 5,
   "metadata": {
    "pycharm": {
     "name": "#%%\n"
    }
   },
   "outputs": [
    {
     "name": "stdout",
     "output_type": "stream",
     "text": [
      "Please draw a rectangular bounding box within the image\n"
     ]
    },
    {
     "data": {
      "application/vnd.jupyter.widget-view+json": {
       "model_id": "e4e6d4fd7d7248d5a22f44f316c0c797",
       "version_major": 2,
       "version_minor": 0
      },
      "text/plain": [
       "Map(center=[39, -98], controls=(WidgetControl(options=['position', 'transparent_bg'], widget=HBox(children=(To…"
      ]
     },
     "metadata": {},
     "output_type": "display_data"
    }
   ],
   "source": [
    "ref_date = acquire_reference_date(start_date='20180701', scene_id=scene_id)\n",
    "Map = geemap.Map(center=(39, -98), zoom=4)\n",
    "img = ee.Image(f'LANDSAT/LC08/C02/T1_TOA/LC08_{scene_id}_{ref_date}').select(['B4', 'B3', 'B2'])\n",
    "Map.addLayer(img, {'min': 0.0, 'max': 0.4})\n",
    "print('Please draw a rectangular bounding box within the image')\n",
    "Map"
   ]
  },
  {
   "cell_type": "code",
   "execution_count": 27,
   "metadata": {
    "pycharm": {
     "name": "#%%\n"
    }
   },
   "outputs": [
    {
     "name": "stdout",
     "output_type": "stream",
     "text": [
      "[[[-81.003595, 35.034301], [-80.609429, 35.034301], [-80.609429, 35.373182], [-81.003595, 35.373182], [-81.003595, 35.034301]]]\n"
     ]
    }
   ],
   "source": [
    "meta_ = Map.user_rois.getInfo()\n",
    "coord = meta_['features'][0]['geometry']['coordinates']\n",
    "print(coord)"
   ]
  },
  {
   "cell_type": "code",
   "execution_count": 11,
   "metadata": {},
   "outputs": [],
   "source": [
    "# img.getInfo()"
   ]
  },
  {
   "cell_type": "markdown",
   "metadata": {},
   "source": [
    "# Extracting ROI for SURFRAD"
   ]
  },
  {
   "cell_type": "code",
   "execution_count": null,
   "metadata": {},
   "outputs": [
    {
     "name": "stdout",
     "output_type": "stream",
     "text": [
      "BND\n",
      "TBL\n",
      "DRA\n",
      "FPK\n",
      "GWN\n",
      "PSU\n",
      "SXF\n",
      "SGP\n"
     ]
    }
   ],
   "source": [
    "config = OmegaConf.load('../config/surfrad.yaml')\n",
    "for station in config.stations:\n",
    "    print(station)"
   ]
  },
  {
   "cell_type": "markdown",
   "metadata": {},
   "source": [
    "#### Now repeat for each station, place a pin, and draw a bounding box"
   ]
  },
  {
   "cell_type": "code",
   "execution_count": 24,
   "metadata": {},
   "outputs": [
    {
     "name": "stdout",
     "output_type": "stream",
     "text": [
      "Please draw a rectangular bounding box within the image\n"
     ]
    },
    {
     "data": {
      "application/vnd.jupyter.widget-view+json": {
       "model_id": "42fb9aeba85f46c0b3fc6888f69d5ecd",
       "version_major": 2,
       "version_minor": 0
      },
      "text/plain": [
       "Map(center=[43.73403, -96.62328], controls=(WidgetControl(options=['position', 'transparent_bg'], widget=HBox(…"
      ]
     },
     "metadata": {},
     "output_type": "display_data"
    }
   ],
   "source": [
    "station = 'SXF'\n",
    "lon, lat = config['stations'][station]['Longitude'], config['stations'][station]['Latitude']\n",
    "scene_id = config['stations'][station]['scene_id']\n",
    "ref_date = acquire_reference_date(start_date='20180701', scene_id=scene_id)\n",
    "Map = geemap.Map()\n",
    "Map.set_center(lon, lat, 15)\n",
    "img = ee.Image(f'LANDSAT/LC08/C02/T1_TOA/LC08_{scene_id}_{ref_date}').select(['B4', 'B3', 'B2'])\n",
    "Map.addLayer(img, {'min': 0.0, 'max': 0.4})\n",
    "print('Please draw a rectangular bounding box within the image')\n",
    "Map"
   ]
  },
  {
   "cell_type": "code",
   "execution_count": 23,
   "metadata": {},
   "outputs": [
    {
     "name": "stdout",
     "output_type": "stream",
     "text": [
      "[[[-90.631714, 34.052339], [-89.689636, 34.052339], [-89.689636, 34.790616], [-90.631714, 34.790616], [-90.631714, 34.052339]]]\n"
     ]
    }
   ],
   "source": [
    "meta_ = Map.user_rois.getInfo()\n",
    "coord = meta_['features'][1]['geometry']['coordinates']\n",
    "print(coord)"
   ]
  },
  {
   "cell_type": "markdown",
   "metadata": {},
   "source": [
    "# Additionals"
   ]
  },
  {
   "cell_type": "code",
   "execution_count": 13,
   "metadata": {
    "pycharm": {
     "name": "#%%\n"
    }
   },
   "outputs": [],
   "source": [
    "import pandas as pd"
   ]
  },
  {
   "cell_type": "code",
   "execution_count": 19,
   "metadata": {},
   "outputs": [
    {
     "data": {
      "text/html": [
       "<div>\n",
       "<style scoped>\n",
       "    .dataframe tbody tr th:only-of-type {\n",
       "        vertical-align: middle;\n",
       "    }\n",
       "\n",
       "    .dataframe tbody tr th {\n",
       "        vertical-align: top;\n",
       "    }\n",
       "\n",
       "    .dataframe thead th {\n",
       "        text-align: right;\n",
       "    }\n",
       "</style>\n",
       "<table border=\"1\" class=\"dataframe\">\n",
       "  <thead>\n",
       "    <tr style=\"text-align: right;\">\n",
       "      <th></th>\n",
       "      <th>2021 rank</th>\n",
       "      <th>City</th>\n",
       "      <th>State[c]</th>\n",
       "      <th>Scene ID</th>\n",
       "      <th>Notes</th>\n",
       "    </tr>\n",
       "  </thead>\n",
       "  <tbody>\n",
       "    <tr>\n",
       "      <th>0</th>\n",
       "      <td>1</td>\n",
       "      <td>New York</td>\n",
       "      <td>New York</td>\n",
       "      <td>13032</td>\n",
       "      <td>NaN</td>\n",
       "    </tr>\n",
       "    <tr>\n",
       "      <th>1</th>\n",
       "      <td>2</td>\n",
       "      <td>Los Angeles</td>\n",
       "      <td>California</td>\n",
       "      <td>41036</td>\n",
       "      <td>cut off Long Beach</td>\n",
       "    </tr>\n",
       "    <tr>\n",
       "      <th>2</th>\n",
       "      <td>3</td>\n",
       "      <td>Chicago</td>\n",
       "      <td>Illinois</td>\n",
       "      <td>23031</td>\n",
       "      <td>NaN</td>\n",
       "    </tr>\n",
       "    <tr>\n",
       "      <th>3</th>\n",
       "      <td>4</td>\n",
       "      <td>Houston</td>\n",
       "      <td>Texas</td>\n",
       "      <td>25039</td>\n",
       "      <td>NaN</td>\n",
       "    </tr>\n",
       "    <tr>\n",
       "      <th>4</th>\n",
       "      <td>5</td>\n",
       "      <td>Phoenix</td>\n",
       "      <td>Arizona</td>\n",
       "      <td>37037</td>\n",
       "      <td>NaN</td>\n",
       "    </tr>\n",
       "    <tr>\n",
       "      <th>5</th>\n",
       "      <td>6</td>\n",
       "      <td>Philadelphia</td>\n",
       "      <td>Pennsylvania</td>\n",
       "      <td>14032</td>\n",
       "      <td>NaN</td>\n",
       "    </tr>\n",
       "    <tr>\n",
       "      <th>6</th>\n",
       "      <td>7</td>\n",
       "      <td>San Antonio</td>\n",
       "      <td>Texas</td>\n",
       "      <td>27040</td>\n",
       "      <td>NaN</td>\n",
       "    </tr>\n",
       "    <tr>\n",
       "      <th>7</th>\n",
       "      <td>8</td>\n",
       "      <td>San Diego</td>\n",
       "      <td>California</td>\n",
       "      <td>40037</td>\n",
       "      <td>NaN</td>\n",
       "    </tr>\n",
       "    <tr>\n",
       "      <th>8</th>\n",
       "      <td>9</td>\n",
       "      <td>Dallas</td>\n",
       "      <td>Texas</td>\n",
       "      <td>27037</td>\n",
       "      <td>image includes Fort Worth</td>\n",
       "    </tr>\n",
       "    <tr>\n",
       "      <th>9</th>\n",
       "      <td>10</td>\n",
       "      <td>San Jose</td>\n",
       "      <td>California</td>\n",
       "      <td>44034</td>\n",
       "      <td>same as San Francisco</td>\n",
       "    </tr>\n",
       "    <tr>\n",
       "      <th>10</th>\n",
       "      <td>11</td>\n",
       "      <td>Austin</td>\n",
       "      <td>Texas</td>\n",
       "      <td>27039</td>\n",
       "      <td>NaN</td>\n",
       "    </tr>\n",
       "    <tr>\n",
       "      <th>11</th>\n",
       "      <td>12</td>\n",
       "      <td>Jacksonville</td>\n",
       "      <td>Florida</td>\n",
       "      <td>16039</td>\n",
       "      <td>NaN</td>\n",
       "    </tr>\n",
       "    <tr>\n",
       "      <th>12</th>\n",
       "      <td>13</td>\n",
       "      <td>Fort Worth</td>\n",
       "      <td>Texas</td>\n",
       "      <td>27037</td>\n",
       "      <td>NaN</td>\n",
       "    </tr>\n",
       "    <tr>\n",
       "      <th>13</th>\n",
       "      <td>14</td>\n",
       "      <td>Columbus</td>\n",
       "      <td>Ohio</td>\n",
       "      <td>19032</td>\n",
       "      <td>NaN</td>\n",
       "    </tr>\n",
       "    <tr>\n",
       "      <th>14</th>\n",
       "      <td>15</td>\n",
       "      <td>Indianapolis</td>\n",
       "      <td>Indiana</td>\n",
       "      <td>21032</td>\n",
       "      <td>NaN</td>\n",
       "    </tr>\n",
       "    <tr>\n",
       "      <th>15</th>\n",
       "      <td>16</td>\n",
       "      <td>Charlotte</td>\n",
       "      <td>North Carolina</td>\n",
       "      <td>17036</td>\n",
       "      <td>NaN</td>\n",
       "    </tr>\n",
       "    <tr>\n",
       "      <th>16</th>\n",
       "      <td>17</td>\n",
       "      <td>San Francisco</td>\n",
       "      <td>California</td>\n",
       "      <td>44034</td>\n",
       "      <td>NaN</td>\n",
       "    </tr>\n",
       "    <tr>\n",
       "      <th>17</th>\n",
       "      <td>18</td>\n",
       "      <td>Seattle</td>\n",
       "      <td>Washington</td>\n",
       "      <td>46027</td>\n",
       "      <td>NaN</td>\n",
       "    </tr>\n",
       "    <tr>\n",
       "      <th>18</th>\n",
       "      <td>19</td>\n",
       "      <td>Denver</td>\n",
       "      <td>Colorado</td>\n",
       "      <td>33032</td>\n",
       "      <td>tri-image intersect, &gt;50%</td>\n",
       "    </tr>\n",
       "    <tr>\n",
       "      <th>19</th>\n",
       "      <td>20</td>\n",
       "      <td>Oklahoma City</td>\n",
       "      <td>Oklahoma</td>\n",
       "      <td>28035</td>\n",
       "      <td>NaN</td>\n",
       "    </tr>\n",
       "  </tbody>\n",
       "</table>\n",
       "</div>"
      ],
      "text/plain": [
       "    2021 rank           City        State[c]  Scene ID  \\\n",
       "0           1       New York        New York     13032   \n",
       "1           2    Los Angeles      California     41036   \n",
       "2           3        Chicago        Illinois     23031   \n",
       "3           4        Houston           Texas     25039   \n",
       "4           5        Phoenix         Arizona     37037   \n",
       "5           6   Philadelphia    Pennsylvania     14032   \n",
       "6           7    San Antonio           Texas     27040   \n",
       "7           8      San Diego      California     40037   \n",
       "8           9         Dallas           Texas     27037   \n",
       "9          10       San Jose      California     44034   \n",
       "10         11         Austin           Texas     27039   \n",
       "11         12   Jacksonville         Florida     16039   \n",
       "12         13     Fort Worth           Texas     27037   \n",
       "13         14       Columbus            Ohio     19032   \n",
       "14         15   Indianapolis         Indiana     21032   \n",
       "15         16      Charlotte  North Carolina     17036   \n",
       "16         17  San Francisco      California     44034   \n",
       "17         18        Seattle      Washington     46027   \n",
       "18         19         Denver        Colorado     33032   \n",
       "19         20  Oklahoma City        Oklahoma     28035   \n",
       "\n",
       "                        Notes  \n",
       "0                         NaN  \n",
       "1          cut off Long Beach  \n",
       "2                         NaN  \n",
       "3                         NaN  \n",
       "4                         NaN  \n",
       "5                         NaN  \n",
       "6                         NaN  \n",
       "7                         NaN  \n",
       "8   image includes Fort Worth  \n",
       "9       same as San Francisco  \n",
       "10                        NaN  \n",
       "11                        NaN  \n",
       "12                        NaN  \n",
       "13                        NaN  \n",
       "14                        NaN  \n",
       "15                        NaN  \n",
       "16                        NaN  \n",
       "17                        NaN  \n",
       "18  tri-image intersect, >50%  \n",
       "19                        NaN  "
      ]
     },
     "execution_count": 19,
     "metadata": {},
     "output_type": "execute_result"
    }
   ],
   "source": [
    "df = pd.read_csv('../data/us_cities.csv')\n",
    "df"
   ]
  }
 ],
 "metadata": {
  "kernelspec": {
   "display_name": "Python 3 (ipykernel)",
   "language": "python",
   "name": "python3"
  },
  "language_info": {
   "codemirror_mode": {
    "name": "ipython",
    "version": 3
   },
   "file_extension": ".py",
   "mimetype": "text/x-python",
   "name": "python",
   "nbconvert_exporter": "python",
   "pygments_lexer": "ipython3",
   "version": "3.9.13"
  }
 },
 "nbformat": 4,
 "nbformat_minor": 4
}
