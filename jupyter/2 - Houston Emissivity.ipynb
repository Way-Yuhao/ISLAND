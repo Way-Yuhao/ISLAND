{
 "cells": [
  {
   "cell_type": "code",
   "execution_count": 3,
   "id": "2739af14",
   "metadata": {},
   "outputs": [],
   "source": [
    "import os \n",
    "import ee\n",
    "import geemap"
   ]
  },
  {
   "cell_type": "code",
   "execution_count": 5,
   "id": "1a63812b",
   "metadata": {},
   "outputs": [
    {
     "data": {
      "application/vnd.jupyter.widget-view+json": {
       "model_id": "d6e789aa275243dd918549261d2302f4",
       "version_major": 2,
       "version_minor": 0
      },
      "text/plain": [
       "Map(center=[29.7662, -95.241], controls=(WidgetControl(options=['position', 'transparent_bg'], widget=HBox(chi…"
      ]
     },
     "metadata": {},
     "output_type": "display_data"
    }
   ],
   "source": [
    "Map = geemap.Map(center=(29.7662, -95.2410), zoom=9)\n",
    "Map"
   ]
  },
  {
   "cell_type": "code",
   "execution_count": 21,
   "id": "c6b70642",
   "metadata": {},
   "outputs": [],
   "source": [
    "# roi = Map.draw_last_feature.geometry()\n",
    "# print(roi.get(0))"
   ]
  },
  {
   "cell_type": "code",
   "execution_count": null,
   "id": "9201ad6c",
   "metadata": {},
   "outputs": [],
   "source": [
    "# dataset_land_cover = ee.Image('USGS/NLCD/NLCD2016').select('landcover')\n",
    "# Map.addLayer(dataset_land_cover, {}, \"NLCD/Land Cover (2016)\")\n",
    "# Map.add_legend(builtin_legend='NLCD', legend_title=\"Land Cover\", layer_name=\"NLCD/Land Cover (2016)\")"
   ]
  },
  {
   "cell_type": "code",
   "execution_count": null,
   "id": "b0a4386e",
   "metadata": {},
   "outputs": [],
   "source": [
    "# dataset_land_cover = ee.Image('USGS/NLCD/NLCD2016').select('impervious_descriptor')\n",
    "# Map.addLayer(dataset_land_cover, {}, \"NLCD/Impervious Descriptor (2016)\")\n",
    "\n",
    "# ee_class_table = \"\"\"\n",
    "# Value\tColor\tDescription\n",
    "# 0\t00000\tUnclassified\n",
    "# 20\tff0000\tPrimary road\n",
    "# 21\tffff00\tSecondary road\n",
    "# 22\t0000ff\tTertiary road\n",
    "# 23\tffffff\tThinned road\n",
    "# 24\tffc0c5\tNon-road non-energy impervious\n",
    "# 25\teb82eb\tMicrosoft buildings\n",
    "# 26\t9f1feb\tLCMAP impervious\n",
    "# 27\t40dfd0\tWind turbixnes\n",
    "# 28\t79ff00\tWell pads\n",
    "# 29\t005f00\tOther energy production\n",
    "# \"\"\"\n",
    "# legend_dict = geemap.legend_from_ee(ee_class_table)\n",
    "# Map.add_legend(legend_title=\"Impervious Descriptors\", legend_dict=legend_dict, layer_name=\"NLCD/Impervious Descriptor (2016)\")\n"
   ]
  },
  {
   "cell_type": "markdown",
   "id": "f05f95b3",
   "metadata": {},
   "source": [
    "## Land cover vs. existing emissivity map"
   ]
  },
  {
   "cell_type": "code",
   "execution_count": 6,
   "id": "c828cd64",
   "metadata": {},
   "outputs": [
    {
     "data": {
      "application/vnd.jupyter.widget-view+json": {
       "model_id": "877da4a1b5004458a19bfd976d9f985f",
       "version_major": 2,
       "version_minor": 0
      },
      "text/plain": [
       "Map(center=[20, 0], controls=(ZoomControl(options=['position', 'zoom_in_text', 'zoom_in_title', 'zoom_out_text…"
      ]
     },
     "metadata": {},
     "output_type": "display_data"
    }
   ],
   "source": [
    "nlcd_2016 = ee.Image('USGS/NLCD/NLCD2016').select('landcover')\n",
    "right_layer = geemap.ee_tile_layer(nlcd_2016, {}, 'NLCD 2016')\n",
    "\n",
    "Map = geemap.Map()\n",
    "Map.split_map(left_layer='HYBRID', right_layer=right_layer)\n",
    "Map.add_legend(builtin_legend='NLCD', legend_title=\"Land Cover\", layer_name=\"NLCD/Land Cover (2016)\")\n",
    "Map"
   ]
  },
  {
   "cell_type": "markdown",
   "id": "6a576968",
   "metadata": {},
   "source": [
    "## Landcover: 2016 vs. 2019"
   ]
  },
  {
   "cell_type": "code",
   "execution_count": 9,
   "id": "08365c88",
   "metadata": {},
   "outputs": [],
   "source": [
    "# Import the NLCD collection.\n",
    "dataset = ee.ImageCollection('USGS/NLCD_RELEASES/2019_REL/NLCD')\n",
    "\n",
    "# The collection contains images for multiple years and regions in the USA.\n",
    "# print('Products:', dataset.aggregate_array('system:index'))\n",
    "\n",
    "# Filter the collection to the 2016 product.\n",
    "nlcd2019 = dataset.filter(ee.Filter.eq('system:index', '2019')).first()\n",
    "\n",
    "# Each product has multiple bands for describing aspects of land cover.\n",
    "# print('Bands:', nlcd2019.bandNames())\n",
    "\n",
    "# Select the land cover band.\n",
    "landcover_2019 = nlcd2019.select('landcover')\n",
    "\n",
    "# Display land cover on the map.\n",
    "# Map.setCenter(-95, 38, 5)\n",
    "# Map.addLayer(landcover, None, 'Landcover')\n"
   ]
  },
  {
   "cell_type": "code",
   "execution_count": 10,
   "id": "65177a1b",
   "metadata": {
    "scrolled": false
   },
   "outputs": [
    {
     "data": {
      "application/vnd.jupyter.widget-view+json": {
       "model_id": "6b4fb6a8826941a682455741e85343fa",
       "version_major": 2,
       "version_minor": 0
      },
      "text/plain": [
       "Map(center=[20, 0], controls=(ZoomControl(options=['position', 'zoom_in_text', 'zoom_in_title', 'zoom_out_text…"
      ]
     },
     "metadata": {},
     "output_type": "display_data"
    }
   ],
   "source": [
    "nlcd_2016 = ee.Image('USGS/NLCD/NLCD2016').select('landcover')\n",
    "left_layer = geemap.ee_tile_layer(nlcd_2016, {}, 'NLCD 2016')\n",
    "right_layer = geemap.ee_tile_layer(landcover_2019, {}, 'NLCD 2019')\n",
    "Map = geemap.Map()\n",
    "Map.split_map(left_layer=left_layer, right_layer=right_layer)\n",
    "Map"
   ]
  },
  {
   "cell_type": "markdown",
   "id": "7151f012",
   "metadata": {},
   "source": [
    "Left: Landcover from 2016; Right: land cover from 2019"
   ]
  },
  {
   "cell_type": "markdown",
   "id": "082d888c",
   "metadata": {},
   "source": [
    "## Landcover vs. LANDSAT 8 RGB"
   ]
  },
  {
   "cell_type": "code",
   "execution_count": 7,
   "id": "107ba199",
   "metadata": {},
   "outputs": [
    {
     "data": {
      "application/vnd.jupyter.widget-view+json": {
       "model_id": "e03d8cfee9e848ba9149da357b21e353",
       "version_major": 2,
       "version_minor": 0
      },
      "text/plain": [
       "Map(center=[29.7662, -95.241], controls=(WidgetControl(options=['position', 'transparent_bg'], widget=HBox(chi…"
      ]
     },
     "metadata": {},
     "output_type": "display_data"
    }
   ],
   "source": [
    "Map = geemap.Map(center=(29.7662, -95.2410), zoom=9)\n",
    "Map"
   ]
  },
  {
   "cell_type": "code",
   "execution_count": 8,
   "id": "59eeaaf9",
   "metadata": {},
   "outputs": [],
   "source": [
    "landsat8_2019 = ee.ImageCollection(\"LANDSAT/LC08/C02/T1_RT_TOA\").filterDate('2021-08-01', '2021-09-25')\n",
    "trueColor432Vis = {\n",
    "  min: 0.0,\n",
    "  max: 0.4,}  \n",
    "trueColor432 = landsat8_2019.select(['B4', 'B3', 'B2'])\n",
    "Map.addLayer(trueColor432, trueColor432Vis, 'Landsat8-RGB')\n",
    "# Map"
   ]
  },
  {
   "cell_type": "code",
   "execution_count": 12,
   "id": "317831a4",
   "metadata": {},
   "outputs": [
    {
     "data": {
      "application/vnd.jupyter.widget-view+json": {
       "model_id": "ee2c1e9f2a3d457e9d744c06bf6a9205",
       "version_major": 2,
       "version_minor": 0
      },
      "text/plain": [
       "Map(center=[20, 0], controls=(ZoomControl(options=['position', 'zoom_in_text', 'zoom_in_title', 'zoom_out_text…"
      ]
     },
     "metadata": {},
     "output_type": "display_data"
    }
   ],
   "source": [
    "left_layer = geemap.ee_tile_layer(landsat8_2019.select(['B4', 'B3', 'B2']), {min: 0.0, max: 0.4,}, 'Landsat8')\n",
    "right_layer = geemap.ee_tile_layer(landcover_2019, {}, 'NLCD 2019')\n",
    "Map = geemap.Map()\n",
    "Map.split_map(left_layer=left_layer, right_layer=right_layer)\n",
    "Map.add_legend(builtin_legend='NLCD', legend_title=\"Land Cover\", layer_name=\"NLCD/Land Cover (2016)\")\n",
    "Map"
   ]
  },
  {
   "cell_type": "markdown",
   "id": "4536b6a2",
   "metadata": {},
   "source": [
    "## Emissivity of LANDSAT8 BAND10 estimated from ASTER GED"
   ]
  },
  {
   "cell_type": "code",
   "execution_count": 27,
   "id": "897d18af",
   "metadata": {
    "scrolled": false
   },
   "outputs": [
    {
     "data": {
      "application/vnd.jupyter.widget-view+json": {
       "model_id": "966e7dc6c9ca4911a3cf79f20a7279fc",
       "version_major": 2,
       "version_minor": 0
      },
      "text/plain": [
       "Map(center=[29.7662, -95.241], controls=(WidgetControl(options=['position', 'transparent_bg'], widget=HBox(chi…"
      ]
     },
     "metadata": {},
     "output_type": "display_data"
    }
   ],
   "source": [
    "Map = geemap.Map(center=(29.7662, -95.2410), zoom=9)\n",
    "Map"
   ]
  },
  {
   "cell_type": "code",
   "execution_count": 26,
   "id": "15cb7c0d",
   "metadata": {},
   "outputs": [
    {
     "data": {
      "application/vnd.jupyter.widget-view+json": {
       "model_id": "1cdb78f0220144069e0ea8535b16d8b3",
       "version_major": 2,
       "version_minor": 0
      },
      "text/plain": [
       "Map(center=[29.7662, -95.241], controls=(WidgetControl(options=['position', 'transparent_bg'], widget=HBox(chi…"
      ]
     },
     "metadata": {},
     "output_type": "display_data"
    }
   ],
   "source": [
    "Map = geemap.Map(center=(29.7662, -95.2410), zoom=9)\n",
    "vis_params_em = {'palette': ['0d0887', 'cc4778', 'f0f921'], 'min': 0.9, 'max': 1.0, 'opacity': 1.0}\n",
    "houston_emis = ee.Image(\"LANDSAT/LC08/C02/T1_L2/LC08_025039_20210807\").select('ST_EMIS').multiply(1/10000.)\n",
    "Map.add_colorbar(vis_params_em, layer_name=\"houston_emis\", label=\"Emissivity\")\n",
    "Map.addLayer(houston_emis, vis_params_em, \"Emissivity\")\n",
    "Map"
   ]
  },
  {
   "cell_type": "markdown",
   "id": "5816c021",
   "metadata": {},
   "source": [
    "Problem with **ASTER GED V3**:\n",
    "* 1 singular **static map** representing the average emissivity from 2000 - 2008\n",
    "* Lower resolution at 100m\n",
    "* Algorithm designed and validated for **natural** environments\n",
    "\n",
    "There is an adjustment mechanism named **ASTER GED V4**, for dynamic annual & inter-annual adjustment upon V3, however:\n",
    "* Even lower resolution: **5km**\n",
    "* As time progresses, error of both V3 and V4 increases\n",
    "* Algorithm is more error prune for **mixed vegetation pixels**, followed by fully vegetated pixels. For desert the total uncertainty was only due to algorithm uncertainty.\n",
    "* Original author did not discuss this product in urban context. \n",
    "\n",
    "Arguments above are summed up from Hulley et al 2015 (2 papers under the same author)"
   ]
  },
  {
   "cell_type": "markdown",
   "id": "b3ccb39f",
   "metadata": {},
   "source": [
    "## LANDSAT8 Band 10 Surface Temperature"
   ]
  },
  {
   "cell_type": "code",
   "execution_count": 28,
   "id": "7f41ea5d",
   "metadata": {
    "scrolled": false
   },
   "outputs": [
    {
     "data": {
      "application/vnd.jupyter.widget-view+json": {
       "model_id": "d0534eff9dfb4e5ea3645045030e8473",
       "version_major": 2,
       "version_minor": 0
      },
      "text/plain": [
       "Map(center=[29.7662, -95.241], controls=(WidgetControl(options=['position', 'transparent_bg'], widget=HBox(chi…"
      ]
     },
     "metadata": {},
     "output_type": "display_data"
    }
   ],
   "source": [
    "def applyScaleFactors(image):\n",
    "  # opticalBands = image.select('SR_B.').multiply(0.0000275).add(-0.2)\n",
    "  thermalBands = image.select('ST_B.*').multiply(0.00341802).add(149.0).add(-273.15)\n",
    "  return image.addBands(thermalBands, None, True)\n",
    "\n",
    "Map = geemap.Map(center=(29.7662, -95.2410), zoom=9)\n",
    "houston_temp = ee.Image(\"LANDSAT/LC08/C02/T1_L2/LC08_025039_20210807\").select('ST_B10')\n",
    "houston_temp = applyScaleFactors(houston_temp)\n",
    "vis_params_temp = { 'palette': ['0d0887', 'cc4778', 'f0f921'], 'min': 20, 'max': 70, 'opacity': 1.0}\n",
    "Map.add_colorbar(vis_params_temp, label=\"Surface Temperature (C)\", layer_name=\"houston_temp\")\n",
    "Map.addLayer(houston_temp, vis_params_temp, \"Surface Temperature\")\n",
    "Map"
   ]
  },
  {
   "cell_type": "markdown",
   "id": "e2a46fad",
   "metadata": {},
   "source": [
    "Problem: \n",
    "* **Resolution too low** (~100m), according to ASTERGED guide\n",
    "* Data products **must contain both optical and thermal data** to be successfully processed to surface temperature, as ASTER NDVI is required to temporally adjust the ASTER GED product to the target Landsat scene. Therefore, night time acquisitions cannot be processed to surface temperature.\n",
    "* A known **error** exists in the surface temperature retrievals relative to **clouds and possibly cloud shadows**. The characterization of these issues has been documented by Cook et al., (2014).\n"
   ]
  },
  {
   "cell_type": "code",
   "execution_count": 29,
   "id": "b57ea06b",
   "metadata": {
    "scrolled": false
   },
   "outputs": [
    {
     "data": {
      "application/vnd.jupyter.widget-view+json": {
       "model_id": "49cd6bd10ab74d4882a94f961e9d8492",
       "version_major": 2,
       "version_minor": 0
      },
      "text/plain": [
       "Map(center=[29.7163243, -95.4109632], controls=(ZoomControl(options=['position', 'zoom_in_text', 'zoom_in_titl…"
      ]
     },
     "metadata": {},
     "output_type": "display_data"
    }
   ],
   "source": [
    "Map = geemap.Map(center=(29.7163243, -95.4109632,), zoom=15) # coordinates for Rice University\n",
    "Map.split_map(left_layer='HYBRID', right_layer=geemap.ee_tile_layer(houston_temp, vis_params_temp, \"Surface Temperature\"))\n",
    "Map"
   ]
  },
  {
   "cell_type": "markdown",
   "id": "64a5af48",
   "metadata": {},
   "source": [
    "## Is one tile sufficient across cycles?"
   ]
  },
  {
   "cell_type": "code",
   "execution_count": 17,
   "id": "9657ba78",
   "metadata": {},
   "outputs": [
    {
     "data": {
      "application/vnd.jupyter.widget-view+json": {
       "model_id": "5ca60b0c8ad248549b2d7ff0256f124f",
       "version_major": 2,
       "version_minor": 0
      },
      "text/plain": [
       "Map(center=[29.7662, -95.241], controls=(WidgetControl(options=['position', 'transparent_bg'], widget=HBox(chi…"
      ]
     },
     "metadata": {},
     "output_type": "display_data"
    }
   ],
   "source": [
    "Map = geemap.Map(center=(29.7662, -95.2410), zoom=9)\n",
    "cycle1 = ee.Image(\"LANDSAT/LC08/C02/T1_L2/LC08_025039_20210807\").select('SR_B1')\n",
    "cycle2 = ee.Image(\"LANDSAT/LC08/C02/T1_L2/LC08_025039_20210823\").select('SR_B1')\n",
    "cycle3 = ee.Image(\"LANDSAT/LC08/C02/T1_L2/LC08_025039_20210908\").select('SR_B1')\n",
    "cycle4 = ee.Image(\"LANDSAT/LC08/C02/T1_L2/LC08_025039_20210924\").select('SR_B1')\n",
    "Map.addLayer(cycle1)\n",
    "Map.addLayer(cycle2)\n",
    "Map.addLayer(cycle3)\n",
    "Map.addLayer(cycle4)\n",
    "Map"
   ]
  },
  {
   "cell_type": "markdown",
   "id": "0ae8f256",
   "metadata": {},
   "source": [
    "Yes. The boundary of each tile only drifts by ~ pixels, if at all.\n"
   ]
  },
  {
   "cell_type": "markdown",
   "id": "3eb05c27",
   "metadata": {},
   "source": [
    "## Is every band of LANDSAT 8 affected by cloud?"
   ]
  },
  {
   "cell_type": "code",
   "execution_count": 22,
   "id": "d4a29914",
   "metadata": {},
   "outputs": [],
   "source": [
    "def scaled(image):  # for LANDSAT8 surfance reflectance\n",
    "  opticalBands = image.select('SR_B.').multiply(0.0000275).add(-0.2)\n",
    "  thermalBands = image.select('ST_B.*').multiply(0.00341802).add(149.0)\n",
    "  return image.addBands(opticalBands, None, True).addBands(thermalBands, None, True)"
   ]
  },
  {
   "cell_type": "code",
   "execution_count": 23,
   "id": "6312106a",
   "metadata": {},
   "outputs": [
    {
     "data": {
      "application/vnd.jupyter.widget-view+json": {
       "model_id": "a32d95676d2f435f9efd7206eaec4e24",
       "version_major": 2,
       "version_minor": 0
      },
      "text/plain": [
       "GridspecLayout(children=(Output(layout=Layout(grid_area='widget001')), Output(layout=Layout(grid_area='widget0…"
      ]
     },
     "metadata": {},
     "output_type": "display_data"
    }
   ],
   "source": [
    "BOUNDING_BOX = [[[-95.690165, 29.5937], [-95.690165, 30.266005], [-94.900379, 30.266005], [-94.900379, 29.5937]]]\n",
    "\n",
    "Map = geemap.Map(center=(29.7662, -95.2410), zoom=9)\n",
    "\n",
    "sample_tile_scaled = scaled(ee.Image(\"LANDSAT/LC08/C02/T1_L2/LC08_025039_20210807\"))\n",
    "\n",
    "vis_params = [\n",
    "    {'bands': ['SR_B4', 'SR_B3', 'SR_B2'], 'min': 0, 'max': 0.3},\n",
    "    {'bands': ['SR_B1'], 'min': 0, 'max': 0.3},\n",
    "    {'bands': ['SR_B5'], 'min': 0, 'max': 0.4},\n",
    "    {'bands': ['SR_B6'], 'min': 0, 'max': 0.3},\n",
    "    {'bands': ['ST_B10'], 'min': 300, 'max': 500},\n",
    "    {'bands': ['SR_B7'], 'min': 0, 'max': 0.3},\n",
    "]\n",
    "\n",
    "labels = [\n",
    "    'Natural Color (SR_B4/SR_B3/SR_B2)',\n",
    "    'Ultra blue (SR_B1)',\n",
    "    'NIR (SR_B5)',\n",
    "    'SWIR1 (SR_B6)',\n",
    "    'TIR (ST_B10)',\n",
    "    'SWIR2 (SR_B7)',\n",
    "]\n",
    "\n",
    "geemap.linked_maps(\n",
    "    rows=2,\n",
    "    cols=3,\n",
    "    height=\"400px\",\n",
    "    center=[29.7662, -95.2410],\n",
    "    zoom=10,\n",
    "    ee_objects=[sample_tile_scaled],\n",
    "    vis_params=vis_params,\n",
    "    labels=labels,\n",
    "    label_position=\"topright\",\n",
    ")\n",
    "\n"
   ]
  },
  {
   "cell_type": "markdown",
   "id": "24eab1be",
   "metadata": {},
   "source": [
    "![title](./fig/Landsat.v.Sentinel-2.png)"
   ]
  },
  {
   "cell_type": "code",
   "execution_count": 24,
   "id": "0c98136f",
   "metadata": {},
   "outputs": [
    {
     "data": {
      "application/vnd.jupyter.widget-view+json": {
       "model_id": "753d8901af8b4182a80b2d677b2ee7c2",
       "version_major": 2,
       "version_minor": 0
      },
      "text/plain": [
       "Map(center=[29.7662, -95.241], controls=(ZoomControl(options=['position', 'zoom_in_text', 'zoom_in_title', 'zo…"
      ]
     },
     "metadata": {},
     "output_type": "display_data"
    }
   ],
   "source": [
    "left_layer = geemap.ee_tile_layer(sample_tile_scaled.select(['SR_B4', 'SR_B3', 'SR_B2']), {'min': 0.0, 'max': 0.3,}, 'Landsat8')\n",
    "right_layer = geemap.ee_tile_layer(sample_tile_scaled.select(['ST_B10']), {'min': 300, 'max': 350,}, 'TIR')\n",
    "Map = geemap.Map(center=(29.7662, -95.2410), zoom=14)\n",
    "Map.split_map(left_layer=left_layer, right_layer=right_layer)\n",
    "Map.add_colorbar({'min': 320, 'max': 370,}, label=\"Brightness Temperature (K)\")\n",
    "Map"
   ]
  },
  {
   "cell_type": "markdown",
   "id": "42dc7e1c",
   "metadata": {},
   "source": [
    "For thermal band, the decrease in pixel value is actually caused by the cloud itself, not its shadow"
   ]
  },
  {
   "cell_type": "markdown",
   "id": "4966d246",
   "metadata": {},
   "source": [
    "## Pre-processing Emissivity"
   ]
  },
  {
   "cell_type": "markdown",
   "id": "5c9acfb5",
   "metadata": {},
   "source": [
    "### Original Legend\n",
    "**11\tOpen water**: areas of open water, generally with less than 25% cover of vegetation or soil.</br>\n",
    "**12\tPerennial ice/snow:** areas characterized by a perennial cover of ice and/or snow, generally greater than 25% of total cover.</br>\n",
    "**21\tDeveloped, open space:** areas with a mixture of some constructed materials, but mostly vegetation in the form of lawn grasses. Impervious surfaces account for less than 20% of total cover. These areas most commonly include large-lot single-family housing units, parks, golf courses, and vegetation planted in developed settings for recreation, erosion control, or aesthetic purposes.</br>\n",
    "**22\tDeveloped, low intensity:** areas with a mixture of constructed materials and vegetation. Impervious surfaces account for 20% to 49% percent of total cover. These areas most commonly include single-family housing units.</br>\n",
    "**23\tDeveloped, medium intensity:** areas with a mixture of constructed materials and vegetation. Impervious surfaces account for 50% to 79% of the total cover. These areas most commonly include single-family housing units.</br>\n",
    "**24\tDeveloped high intensity:** highly developed areas where people reside or work in high numbers. Examples include apartment complexes, row houses, and commercial/industrial. Impervious surfaces account for 80% to 100% of the total cover.</br>\n",
    "**31\tBarren land (rock/sand/clay):** areas of bedrock, desert pavement, scarps, talus, slides, volcanic material, glacial debris, sand dunes, strip mines, gravel pits, and other accumulations of earthen material. Generally, vegetation accounts for less than 15% of total cover.</br>\n",
    "**41\tDeciduous forest:** areas dominated by trees generally greater than 5 meters tall, and greater than 20% of total vegetation cover. More than 75% of the tree species shed foliage simultaneously in response to seasonal change.</br>\n",
    "**42\tEvergreen forest:** areas dominated by trees generally greater than 5 meters tall, and greater than 20% of total vegetation cover. More than 75% of the tree species maintain their leaves all year. Canopy is never without green foliage.</br>\n",
    "**43\tMixed forest:** areas dominated by trees generally greater than 5 meters tall, and greater than 20% of total vegetation cover. Neither deciduous nor evergreen species are greater than 75% of total tree cover.</br>\n",
    "**51\tDwarf scrub:** *Alaska only* areas dominated by shrubs less than 20 centimeters tall with shrub canopy typically greater than 20% of total vegetation. This type is often co-associated with grasses, sedges, herbs, and non-vascular vegetation.</br>\n",
    "**52\tShrub/scrub:** areas dominated by shrubs less than 5 meters tall with shrub canopy typically greater than 20% of total vegetation. This class includes true shrubs, young trees in an early successional stage, or trees stunted from environmental conditions.</br>\n",
    "**71\tGrassland/herbaceous:** areas dominated by gramanoid or herbaceous vegetation, generally greater than 80% of total vegetation. These areas are not subject to intensive management such as tilling, but can be utilized for grazing.</br>\n",
    "**72\tSedge/herbaceous:** *Alaska only* areas dominated by sedges and forbs, generally greater than 80% of total vegetation. This type can occur with significant other grasses or other grass like plants, and includes sedge tundra and sedge tussock tundra.</br>\n",
    "**73\tLichens:** *Alaska only* areas dominated by fruticose or foliose lichens generally greater than 80% of total vegetation.</br>\n",
    "**74\tMoss:** *Alaska only areas* dominated by mosses, generally greater than 80% of total vegetation.</br>\n",
    "**81\tPasture/hay:** areas of grasses, legumes, or grass-legume mixtures planted for livestock grazing or the production of seed or hay crops, typically on a perennial cycle. Pasture/hay vegetation accounts for greater than 20% of total vegetation.</br>\n",
    "**82\tCultivated crops:** areas used for the production of annual crops, such as corn, soybeans, vegetables, tobacco, and cotton, and also perennial woody crops such as orchards and vineyards. Crop vegetation accounts for greater than 20% of total vegetation. This class also includes all land being actively tilled.</br>\n",
    "**90\tWoody wetlands:** areas where forest or shrubland vegetation accounts for greater than 20% of vegetative cover and the soil or substrate is periodically saturated with or covered with water.</br>\n",
    "**95\tEmergent herbaceous wetlands:** areas where perennial herbaceous vegetation accounts for greater than 80% of vegetative cover and the soil or substrate is periodically saturated with or covered with water.</br>"
   ]
  },
  {
   "cell_type": "markdown",
   "id": "48640459",
   "metadata": {},
   "source": [
    "### Observations\n",
    "* There are 20 classes in total \n",
    "* Some classes are Alkakan only (down to 14)\n",
    "* those who share the same first-digit are in the same parent class\n",
    "* Mixture percentage between two classes (e.g. developed open space 20% vs. Developed high intensity > 80%)lends itself to linear interpolation"
   ]
  },
  {
   "cell_type": "markdown",
   "id": "06de4ec9",
   "metadata": {},
   "source": [
    "## Notekeeping"
   ]
  },
  {
   "cell_type": "markdown",
   "id": "52737f3a",
   "metadata": {},
   "source": [
    "Dimension of LANDSAT8 Houston tile: (7741, 7871)"
   ]
  }
 ],
 "metadata": {
  "kernelspec": {
   "display_name": "Python 3 (ipykernel)",
   "language": "python",
   "name": "python3"
  },
  "language_info": {
   "codemirror_mode": {
    "name": "ipython",
    "version": 3
   },
   "file_extension": ".py",
   "mimetype": "text/x-python",
   "name": "python",
   "nbconvert_exporter": "python",
   "pygments_lexer": "ipython3",
   "version": "3.9.7"
  },
  "toc": {
   "base_numbering": 1,
   "nav_menu": {},
   "number_sections": true,
   "sideBar": true,
   "skip_h1_title": false,
   "title_cell": "Table of Contents",
   "title_sidebar": "Contents",
   "toc_cell": false,
   "toc_position": {},
   "toc_section_display": true,
   "toc_window_display": false
  }
 },
 "nbformat": 4,
 "nbformat_minor": 5
}
