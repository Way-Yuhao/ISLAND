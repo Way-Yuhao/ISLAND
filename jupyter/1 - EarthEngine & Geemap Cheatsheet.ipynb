{
 "cells": [
  {
   "cell_type": "markdown",
   "id": "9190ab43-4e96-4a92-bd12-99918597dfde",
   "metadata": {},
   "source": [
    "## Check if an LANDSAT 8 image exists"
   ]
  },
  {
   "cell_type": "code",
   "execution_count": 10,
   "id": "fc97e112-a6b5-484e-88d2-e887bb52d986",
   "metadata": {},
   "outputs": [],
   "source": [
    "import ee\n",
    "import geemap"
   ]
  },
  {
   "cell_type": "code",
   "execution_count": 13,
   "id": "dffd8cb6-0cf7-4be6-a035-62d0f03d5571",
   "metadata": {},
   "outputs": [
    {
     "data": {
      "text/html": [
       "<p>To authorize access needed by Earth Engine, open the following\n",
       "        URL in a web browser and follow the instructions:</p>\n",
       "        <p><a href=https://code.earthengine.google.com/client-auth?scopes=https%3A//www.googleapis.com/auth/earthengine%20https%3A//www.googleapis.com/auth/devstorage.full_control&request_id=4BIZ51kPKjKmplSHZjb4Ojd3Ebq_NSAEuwwMY5ceU_g&tc=v2lQUDrViX8RxBXvXN0-ZWDqvVo4gOeYN2G4AtBp3ng&cc=FlyZDbn-FP0FHeLF0Mt-pe7n1qCkRxmLLgxDFufUL_o>https://code.earthengine.google.com/client-auth?scopes=https%3A//www.googleapis.com/auth/earthengine%20https%3A//www.googleapis.com/auth/devstorage.full_control&request_id=4BIZ51kPKjKmplSHZjb4Ojd3Ebq_NSAEuwwMY5ceU_g&tc=v2lQUDrViX8RxBXvXN0-ZWDqvVo4gOeYN2G4AtBp3ng&cc=FlyZDbn-FP0FHeLF0Mt-pe7n1qCkRxmLLgxDFufUL_o</a></p>\n",
       "        <p>The authorization workflow will generate a code, which you should paste in the box below.</p>\n",
       "        "
      ],
      "text/plain": [
       "<IPython.core.display.HTML object>"
      ]
     },
     "metadata": {},
     "output_type": "display_data"
    },
    {
     "name": "stdin",
     "output_type": "stream",
     "text": [
      "Enter verification code:  4/1AWtgzh7e6giqaZoH2_R8UwbSyCHU5i5KJHniwvYveaFXazYTNUdxVtSAHcY\n"
     ]
    },
    {
     "name": "stdout",
     "output_type": "stream",
     "text": [
      "\n",
      "Successfully saved authorization token.\n"
     ]
    }
   ],
   "source": [
    "ee.Authenticate()"
   ]
  },
  {
   "cell_type": "code",
   "execution_count": 33,
   "id": "594bd0a1-724e-4218-af77-1abbc3e2639d",
   "metadata": {},
   "outputs": [
    {
     "data": {
      "application/vnd.jupyter.widget-view+json": {
       "model_id": "b93a79e4ef114b3288dd434c3a79c441",
       "version_major": 2,
       "version_minor": 0
      },
      "text/plain": [
       "Map(center=[39, -98], controls=(WidgetControl(options=['position', 'transparent_bg'], widget=HBox(children=(To…"
      ]
     },
     "metadata": {},
     "output_type": "display_data"
    }
   ],
   "source": [
    "ee.Initialize()\n",
    "scene_id = '016039'\n",
    "date_ = '20211128'\n",
    "Map = geemap.Map(center=(39, -98), zoom=4)\n",
    "# TOA\n",
    "# img = ee.Image(f'LANDSAT/LC08/C02/T1_TOA/LC08_{scene_id}_{date_}')\n",
    "# Map.addLayer(img, {'min': 0.0, 'max': 0.4})\n",
    "# SURFACE\n",
    "img = ee.Image(f'LANDSAT/LC08/C02/T1_L2/LC08_{scene_id}_{date_}').select('ST_EMIS')\n",
    "Map.addLayer(img, {'min': 0.9 * 10000, 'max':1.0 * 10000})\n",
    "Map"
   ]
  }
 ],
 "metadata": {
  "kernelspec": {
   "display_name": "Python 3 (ipykernel)",
   "language": "python",
   "name": "python3"
  },
  "language_info": {
   "codemirror_mode": {
    "name": "ipython",
    "version": 3
   },
   "file_extension": ".py",
   "mimetype": "text/x-python",
   "name": "python",
   "nbconvert_exporter": "python",
   "pygments_lexer": "ipython3",
   "version": "3.9.13"
  },
  "toc": {
   "base_numbering": 1,
   "nav_menu": {},
   "number_sections": true,
   "sideBar": true,
   "skip_h1_title": false,
   "title_cell": "Table of Contents",
   "title_sidebar": "Contents",
   "toc_cell": false,
   "toc_position": {},
   "toc_section_display": true,
   "toc_window_display": false
  }
 },
 "nbformat": 4,
 "nbformat_minor": 5
}
