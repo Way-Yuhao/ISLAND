{
 "cells": [
  {
   "cell_type": "code",
   "execution_count": 1,
   "id": "16428f6b",
   "metadata": {
    "pycharm": {
     "name": "#%%\n"
    }
   },
   "outputs": [],
   "source": [
    "import os\n",
    "import ee\n",
    "import geemap\n",
    "import numpy as np\n",
    "import matplotlib.pyplot as plt\n",
    "from tqdm import tqdm\n",
    "import cv2"
   ]
  },
  {
   "cell_type": "code",
   "execution_count": 2,
   "id": "7072017f",
   "metadata": {
    "pycharm": {
     "name": "#%%\n"
    }
   },
   "outputs": [],
   "source": [
    "sr_vis = {'bands': ['SR_B4', 'SR_B3', 'SR_B2'], 'min': 0.0, 'max': 0.3,} # for LANDSAT8 surface reflectance RGB"
   ]
  },
  {
   "cell_type": "code",
   "execution_count": 3,
   "id": "1ecfc6c9",
   "metadata": {
    "pycharm": {
     "name": "#%%\n"
    }
   },
   "outputs": [],
   "source": [
    "def scaled(image):  # for LANDSAT8 surfance reflectance\n",
    "  opticalBands = image.select('SR_B.').multiply(0.0000275).add(-0.2)\n",
    "  thermalBands = image.select('ST_B.*').multiply(0.00341802).add(149.0)\n",
    "  return image.addBands(opticalBands, None, True).addBands(thermalBands, None, True)\n",
    "\n",
    "def select_bands(image): # select bands for training\n",
    "    opticalBands = image.select('SR_B.')\n",
    "    thermalRadianceBand = image.select('ST_TRAD')\n",
    "    return image.addBands(opticalBands, None, True).addBands(thermalRadianceBand, None, True)"
   ]
  },
  {
   "cell_type": "markdown",
   "id": "b4a6956c",
   "metadata": {
    "pycharm": {
     "name": "#%% md\n"
    }
   },
   "source": [
    "List of bands for training: ['SR_B1', 'SR_B2', 'SR_B3', 'SR_B4', 'SR_B5', 'SR_B6', 'SR_B7', 'ST_TRAD']"
   ]
  },
  {
   "cell_type": "markdown",
   "id": "394263e1",
   "metadata": {
    "pycharm": {
     "name": "#%% md\n"
    }
   },
   "source": [
    "# Defining Boundary for Houston"
   ]
  },
  {
   "cell_type": "markdown",
   "id": "1f6a43eb",
   "metadata": {
    "pycharm": {
     "name": "#%% md\n"
    }
   },
   "source": [
    "Format for coordinates:</br>\n",
    "[latitude, longitude] or [w, h] </br>\n",
    "in this order: </br>\n",
    "B C </br>\n",
    "A D </br>"
   ]
  },
  {
   "cell_type": "code",
   "execution_count": null,
   "id": "c6a2c4d4",
   "metadata": {
    "pycharm": {
     "name": "#%%\n"
    }
   },
   "outputs": [],
   "source": [
    "BOUNDING_BOX = [[[-95.690165, 29.5937], [-95.690165, 30.266005], [-94.900379, 30.266005], [-94.900379, 29.5937]]]\n",
    "\n",
    "Map = geemap.Map(center=(29.7662, -95.2410), zoom=9)\n",
    "\n",
    "sample_tile_scaled = scaled(ee.Image(\"LANDSAT/LC08/C02/T1_L2/LC08_025039_20210807\"))\n",
    "sample_tile = ee.Image(\"LANDSAT/LC08/C02/T1_L2/LC08_025039_20210807\").select(['SR_B.', 'ST_TRAD'])\n",
    "polygon = ee.Geometry.Polygon(BOUNDING_BOX)\n",
    "houston_bounds = ee.Geometry(polygon, None, False)\n",
    "Map.addLayer(sample_tile_scaled, sr_vis, 'Sample Tile')\n",
    "Map.addLayer(houston_bounds, {'color': 'FF0000'}, 'planar polygon');\n",
    "Map"
   ]
  },
  {
   "cell_type": "code",
   "execution_count": null,
   "id": "a5763322",
   "metadata": {
    "pycharm": {
     "name": "#%%\n"
    }
   },
   "outputs": [],
   "source": [
    "ee.Initialize()"
   ]
  },
  {
   "cell_type": "code",
   "execution_count": 97,
   "id": "0a40c610",
   "metadata": {
    "pycharm": {
     "name": "#%%\n"
    }
   },
   "outputs": [],
   "source": [
    "CROP_WIDTH = .0775  # longitude\n",
    "CROP_HEIGHT = .0675  # latitude\n",
    "def random_crop(boundary, idx=0):  # assuming crop size of (256, 256)\n",
    "    boundary = np.array(boundary)[0]\n",
    "    # print(boundary)\n",
    "    w_min, w_max = boundary[:, 0].min(), boundary[:, 0].max()\n",
    "    h_min, h_max = boundary[:, 1].min(), boundary[:, 1].max()\n",
    "    \n",
    "    # draw random point as upper_left corner\n",
    "    w = np.random.uniform(w_min, w_max - CROP_WIDTH)\n",
    "    h = np.random.uniform(h_min, h_max - CROP_HEIGHT)\n",
    "    sample_coord = [[[w, h], [w, h+CROP_HEIGHT], [w+CROP_WIDTH, h+CROP_HEIGHT], [w+CROP_WIDTH, h]]]\n",
    "    sample_polygon = ee.Geometry.Polygon(sample_coord)\n",
    "    sample_region = ee.Geometry(sample_polygon, None, False)\n",
    "    Map.addLayer(sample_region, {'color': 'blue'}, 'sample_{}'.format(idx));\n",
    "    return sample_region\n",
    "    \n",
    "def get_numpy(sample_tile, sample_region):\n",
    "    image_sample_np = geemap.ee_to_numpy(sample_tile, region=sample_region, default_value=0).astype('float64')\n",
    "    print(\"before resize\", image_sample_np.shape)\n",
    "    image_sample_np = cv2.resize(image_sample_np, (256, 256), interpolation=cv2.INTER_LINEAR)\n",
    "    print(\"after cv2.INTER_LIENEAR\", image_sample_np.shape)\n",
    "    return image_sample_np\n",
    "    \n",
    "# sample_region = random_crop(BOUNDING_BOX)\n",
    "# sample = get_numpy(sample_tile, sample_region)"
   ]
  },
  {
   "cell_type": "code",
   "execution_count": 98,
   "id": "3613c6c9",
   "metadata": {
    "pycharm": {
     "name": "#%%\n"
    }
   },
   "outputs": [
    {
     "name": "stderr",
     "output_type": "stream",
     "text": [
      " 10%|█         | 1/10 [00:03<00:31,  3.52s/it]"
     ]
    },
    {
     "name": "stdout",
     "output_type": "stream",
     "text": [
      "before resize (256, 255, 8)\n",
      "after cv2.INTER_LIENEAR (256, 256, 8)\n"
     ]
    },
    {
     "name": "stderr",
     "output_type": "stream",
     "text": [
      " 20%|██        | 2/10 [00:06<00:27,  3.38s/it]"
     ]
    },
    {
     "name": "stdout",
     "output_type": "stream",
     "text": [
      "before resize (255, 254, 8)\n",
      "after cv2.INTER_LIENEAR (256, 256, 8)\n"
     ]
    },
    {
     "name": "stderr",
     "output_type": "stream",
     "text": [
      " 30%|███       | 3/10 [00:10<00:23,  3.32s/it]"
     ]
    },
    {
     "name": "stdout",
     "output_type": "stream",
     "text": [
      "before resize (255, 256, 8)\n",
      "after cv2.INTER_LIENEAR (256, 256, 8)\n"
     ]
    },
    {
     "name": "stderr",
     "output_type": "stream",
     "text": [
      " 40%|████      | 4/10 [00:13<00:19,  3.21s/it]"
     ]
    },
    {
     "name": "stdout",
     "output_type": "stream",
     "text": [
      "before resize (255, 255, 8)\n",
      "after cv2.INTER_LIENEAR (256, 256, 8)\n"
     ]
    },
    {
     "name": "stderr",
     "output_type": "stream",
     "text": [
      " 50%|█████     | 5/10 [00:16<00:16,  3.31s/it]"
     ]
    },
    {
     "name": "stdout",
     "output_type": "stream",
     "text": [
      "before resize (255, 254, 8)\n",
      "after cv2.INTER_LIENEAR (256, 256, 8)\n"
     ]
    },
    {
     "name": "stderr",
     "output_type": "stream",
     "text": [
      " 60%|██████    | 6/10 [00:19<00:13,  3.28s/it]"
     ]
    },
    {
     "name": "stdout",
     "output_type": "stream",
     "text": [
      "before resize (256, 255, 8)\n",
      "after cv2.INTER_LIENEAR (256, 256, 8)\n"
     ]
    },
    {
     "name": "stderr",
     "output_type": "stream",
     "text": [
      " 70%|███████   | 7/10 [00:24<00:10,  3.64s/it]"
     ]
    },
    {
     "name": "stdout",
     "output_type": "stream",
     "text": [
      "before resize (256, 256, 8)\n",
      "after cv2.INTER_LIENEAR (256, 256, 8)\n"
     ]
    },
    {
     "name": "stderr",
     "output_type": "stream",
     "text": [
      " 80%|████████  | 8/10 [00:27<00:06,  3.43s/it]"
     ]
    },
    {
     "name": "stdout",
     "output_type": "stream",
     "text": [
      "before resize (256, 255, 8)\n",
      "after cv2.INTER_LIENEAR (256, 256, 8)\n"
     ]
    },
    {
     "name": "stderr",
     "output_type": "stream",
     "text": [
      " 90%|█████████ | 9/10 [00:30<00:03,  3.34s/it]"
     ]
    },
    {
     "name": "stdout",
     "output_type": "stream",
     "text": [
      "before resize (255, 255, 8)\n",
      "after cv2.INTER_LIENEAR (256, 256, 8)\n"
     ]
    },
    {
     "name": "stderr",
     "output_type": "stream",
     "text": [
      "100%|██████████| 10/10 [00:33<00:00,  3.32s/it]"
     ]
    },
    {
     "name": "stdout",
     "output_type": "stream",
     "text": [
      "before resize (254, 254, 8)\n",
      "after cv2.INTER_LIENEAR (256, 256, 8)\n"
     ]
    },
    {
     "name": "stderr",
     "output_type": "stream",
     "text": [
      "\n"
     ]
    }
   ],
   "source": [
    "for i in tqdm(range(10)):\n",
    "    sample_region = random_crop(boundary=BOUNDING_BOX, idx=i)\n",
    "    sample = get_numpy(sample_tile, sample_region)"
   ]
  },
  {
   "cell_type": "code",
   "execution_count": 138,
   "id": "6c190936",
   "metadata": {
    "pycharm": {
     "name": "#%%\n"
    }
   },
   "outputs": [
    {
     "name": "stdout",
     "output_type": "stream",
     "text": [
      "['SR_B1', 'SR_B2', 'SR_B3', 'SR_B4', 'SR_B5', 'SR_B6', 'SR_B7', 'ST_TRAD']\n"
     ]
    }
   ],
   "source": [
    "print(sample_tile.bandNames().getInfo())"
   ]
  }
 ],
 "metadata": {
  "kernelspec": {
   "display_name": "Python 3 (ipykernel)",
   "language": "python",
   "name": "python3"
  },
  "language_info": {
   "codemirror_mode": {
    "name": "ipython",
    "version": 3
   },
   "file_extension": ".py",
   "mimetype": "text/x-python",
   "name": "python",
   "nbconvert_exporter": "python",
   "pygments_lexer": "ipython3",
   "version": "3.9.13"
  },
  "toc": {
   "base_numbering": 1,
   "nav_menu": {},
   "number_sections": true,
   "sideBar": true,
   "skip_h1_title": false,
   "title_cell": "Table of Contents",
   "title_sidebar": "Contents",
   "toc_cell": false,
   "toc_position": {},
   "toc_section_display": true,
   "toc_window_display": false
  }
 },
 "nbformat": 4,
 "nbformat_minor": 5
}
