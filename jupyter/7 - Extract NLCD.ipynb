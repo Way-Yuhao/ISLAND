{
 "cells": [
  {
   "cell_type": "code",
   "execution_count": 36,
   "metadata": {},
   "outputs": [],
   "source": [
    "import os \n",
    "import ee\n",
    "import geemap\n",
    "import numpy as np\n",
    "import tqdm\n",
    "import cv2"
   ]
  },
  {
   "cell_type": "code",
   "execution_count": 3,
   "metadata": {},
   "outputs": [],
   "source": [
    "def scaled(image):  # for LANDSAT8 surfance reflectance\n",
    "  opticalBands = image.select('SR_B.').multiply(0.0000275).add(-0.2)\n",
    "  thermalBands = image.select('ST_B.*').multiply(0.00341802).add(149.0)\n",
    "  return image.addBands(opticalBands, None, True).addBands(thermalBands, None, True)\n",
    "\n",
    "def select_bands(image): # select bands for training\n",
    "    opticalBands = image.select('SR_B.')\n",
    "    thermalRadianceBand = image.select('ST_TRAD')\n",
    "    return image.addBands(opticalBands, None, True).addBands(thermalRadianceBand, None, True)"
   ]
  },
  {
   "cell_type": "code",
   "execution_count": 37,
   "metadata": {},
   "outputs": [
    {
     "data": {
      "application/vnd.jupyter.widget-view+json": {
       "model_id": "82b2614af87c4e49afe631c3596b497e",
       "version_major": 2,
       "version_minor": 0
      },
      "text/plain": [
       "Map(center=[29.7662, -95.241], controls=(WidgetControl(options=['position', 'transparent_bg'], widget=HBox(chi…"
      ]
     },
     "metadata": {},
     "output_type": "display_data"
    }
   ],
   "source": [
    "BOUNDING_BOX = [[[-95.690165, 29.5937], [-95.690165, 30.266005], [-94.900379, 30.266005], [-94.900379, 29.5937]]]\n",
    "\n",
    "Map = geemap.Map(center=(29.7662, -95.2410), zoom=9)\n",
    "polygon = ee.Geometry.Polygon(BOUNDING_BOX)\n",
    "houston_bounds = ee.Geometry(polygon, None, False)\n",
    "Map.addLayer(houston_bounds, {'color': 'FF0000'}, 'planar polygon');\n",
    "Map"
   ]
  },
  {
   "cell_type": "code",
   "execution_count": 5,
   "metadata": {},
   "outputs": [
    {
     "data": {
      "application/vnd.jupyter.widget-view+json": {
       "model_id": "e8069ad8e459426180bde3d99d47d961",
       "version_major": 2,
       "version_minor": 0
      },
      "text/plain": [
       "Map(center=[38, -95], controls=(WidgetControl(options=['position', 'transparent_bg'], widget=HBox(children=(To…"
      ]
     },
     "metadata": {},
     "output_type": "display_data"
    }
   ],
   "source": [
    "Map = geemap.Map()\n",
    "# Import the NLCD collection.\n",
    "dataset = ee.ImageCollection('USGS/NLCD_RELEASES/2019_REL/NLCD')\n",
    "\n",
    "# The collection contains images for multiple years and regions in the USA.\n",
    "# print('Products:', dataset.aggregate_array('system:index'))\n",
    "\n",
    "# Filter the collection to the 2016 product.\n",
    "nlcd2019 = dataset.filter(ee.Filter.eq('system:index', '2019')).first()\n",
    "\n",
    "# Each product has multiple bands for describing aspects of land cover.\n",
    "# print('Bands:', nlcd2019.bandNames())\n",
    "\n",
    "# Select the land cover band.\n",
    "landcover_2019 = nlcd2019.select('landcover')\n",
    "\n",
    "# Display land cover on the map.\n",
    "Map.setCenter(-95, 38, 5)\n",
    "Map.addLayer(landcover_2019, None, 'Landcover')\n",
    "Map"
   ]
  },
  {
   "cell_type": "code",
   "execution_count": 6,
   "metadata": {},
   "outputs": [
    {
     "data": {
      "application/vnd.jupyter.widget-view+json": {
       "model_id": "2ce647715ca045be8335859c0b5fddbf",
       "version_major": 2,
       "version_minor": 0
      },
      "text/plain": [
       "Map(center=[29.7662, -95.241], controls=(WidgetControl(options=['position', 'transparent_bg'], widget=HBox(chi…"
      ]
     },
     "metadata": {},
     "output_type": "display_data"
    }
   ],
   "source": [
    "Map = geemap.Map(center=(29.7662, -95.2410), zoom=9)\n",
    "img = ee.Image(\"LANDSAT/LC08/C02/T1_L2/LC08_025039_20181205\").select('ST_B10')\n",
    "# img = ee.Image(\"LANDSAT/LC09/C02/T1_L2/LC09_025039_20220327\")\n",
    "geo = img.geometry()\n",
    "Map.addLayer(img)\n",
    "Map"
   ]
  },
  {
   "cell_type": "code",
   "execution_count": 7,
   "metadata": {},
   "outputs": [
    {
     "data": {
      "application/vnd.jupyter.widget-view+json": {
       "model_id": "4e2ece1824ba4f8389ea31dd426eeb23",
       "version_major": 2,
       "version_minor": 0
      },
      "text/plain": [
       "Map(center=[20, 0], controls=(WidgetControl(options=['position', 'transparent_bg'], widget=HBox(children=(Togg…"
      ]
     },
     "metadata": {},
     "output_type": "display_data"
    }
   ],
   "source": [
    "Map = geemap.Map()\n",
    "# image_props = geemap.image_props(img)\n",
    "# print(image_props.getInfo())\n",
    "geo = img.geometry()\n",
    "Map.addLayer(landcover_2019.clip(geo), None, 'Landcover')\n",
    "Map"
   ]
  },
  {
   "cell_type": "code",
   "execution_count": 35,
   "metadata": {},
   "outputs": [
    {
     "name": "stdout",
     "output_type": "stream",
     "text": [
      "Generating URL ...\n",
      "Downloading data from https://earthengine.googleapis.com/v1alpha/projects/earthengine-legacy/thumbnails/461e35a6a22da67f999c1ffc6b838fe8-61ce3558d8c251d1b04cfb8f532d3833:getPixels\n",
      "Please wait ...\n",
      "Data downloaded to /Users/yuhaoliu/Downloads/nlcd2.tif\n"
     ]
    }
   ],
   "source": [
    "out_dir = os.path.join(os.path.expanduser('~'), 'Downloads')\n",
    "filename = os.path.join(out_dir, 'nlcd2.tif')\n",
    "# image = img.clip(geo).unmask()\n",
    "geemap.ee_export_image(\n",
    "    landcover_2019, filename=filename, scale=30, region=houston_bounds, file_per_band=False\n",
    ")"
   ]
  },
  {
   "cell_type": "code",
   "execution_count": 36,
   "metadata": {},
   "outputs": [
    {
     "name": "stdout",
     "output_type": "stream",
     "text": [
      "The ee_object must be an ee.Image.\n"
     ]
    }
   ],
   "source": [
    "out_dir = os.path.join(os.path.expanduser('~'), 'Downloads')\n",
    "filename = os.path.join(out_dir, 'landsat.tif')\n",
    "# image = img.clip(geo).unmask()\n",
    "geemap.ee_export_image(\n",
    "    img.unmask(), filename=filename, scale=30, region=houston_bounds, file_per_band=False\n",
    ")"
   ]
  },
  {
   "cell_type": "code",
   "execution_count": 34,
   "metadata": {},
   "outputs": [
    {
     "name": "stdout",
     "output_type": "stream",
     "text": [
      "Image.sampleRectangle: Too many pixels in sample; must be <= 262144. Got 6575848.\n"
     ]
    }
   ],
   "source": [
    "thermal = geemap.ee_to_numpy(img, region=houston_bounds)"
   ]
  },
  {
   "cell_type": "code",
   "execution_count": 46,
   "metadata": {},
   "outputs": [],
   "source": [
    "task = ee.batch.Export.image.toDrive(**{\n",
    "    'image': img,\n",
    "    'description': 'thermal_drive',\n",
    "    'folder':'Example_folder',\n",
    "    'scale': 30,\n",
    "    'region': None  # houston_bounds.getInfo()['coordinates']\n",
    "})\n",
    "task.start()"
   ]
  },
  {
   "cell_type": "code",
   "execution_count": 50,
   "metadata": {},
   "outputs": [],
   "source": [
    "task = ee.batch.Export.image.toDrive(**{\n",
    "    'image': landcover_2019.clip(geo),\n",
    "    'description': 'nlcd_drive4',\n",
    "    'folder':'Example_folder',\n",
    "    'scale': 30,\n",
    "    'region': None\n",
    "})\n",
    "task.start()"
   ]
  },
  {
   "cell_type": "code",
   "execution_count": 45,
   "metadata": {},
   "outputs": [],
   "source": [
    "task = ee.batch.Export.image.toDrive(**{\n",
    "    'image': landcover_2019,\n",
    "    'description': 'nlcd_drive2',\n",
    "    'folder':'Example_folder',\n",
    "    'scale': 30,\n",
    "    'region': geo.getInfo()['coordinates']\n",
    "})\n",
    "task.start()"
   ]
  },
  {
   "cell_type": "code",
   "execution_count": 8,
   "metadata": {},
   "outputs": [
    {
     "name": "stdout",
     "output_type": "stream",
     "text": [
      "{'type': 'Projection', 'crs': 'EPSG:32615', 'transform': [30, 0, 215685, 0, -30, 3471615]}\n"
     ]
    }
   ],
   "source": [
    "print(img.projection().getInfo())"
   ]
  },
  {
   "cell_type": "markdown",
   "metadata": {},
   "source": [
    "# try CRS"
   ]
  },
  {
   "cell_type": "code",
   "execution_count": 10,
   "metadata": {},
   "outputs": [
    {
     "name": "stdout",
     "output_type": "stream",
     "text": [
      "Generating URL ...\n",
      "Downloading data from https://earthengine.googleapis.com/v1alpha/projects/earthengine-legacy/thumbnails/c4f834b0604a6276c5604b20bb7d44c4-04ae00597fd2a3ca54123d58d2b34ac9:getPixels\n",
      "Please wait ...\n",
      "Data downloaded to /Users/yuhaoliu/Downloads/nlcd_crs.tif\n"
     ]
    }
   ],
   "source": [
    "out_dir = os.path.join(os.path.expanduser('~'), 'Downloads')\n",
    "projection = img.projection().getInfo()\n",
    "filename = os.path.join(out_dir, 'nlcd_crs.tif')\n",
    "geemap.ee_export_image(\n",
    "    landcover_2019, filename=filename, scale=30, region=houston_bounds, crs=projection['crs'], file_per_band=False\n",
    ")"
   ]
  },
  {
   "cell_type": "code",
   "execution_count": null,
   "metadata": {},
   "outputs": [],
   "source": [
    "out_dir = os.path.join(os.path.expanduser('~'), 'Downloads')\n",
    "projection = img.projection().getInfo()\n",
    "filename = os.path.join(out_dir, 'thermal_crs.tif')\n",
    "geemap.ee_export_image(\n",
    "    img, filename=filename, scale=30, region=houston_bounds, crs=projection['crs'], file_per_band=False\n",
    ")"
   ]
  },
  {
   "cell_type": "code",
   "execution_count": 11,
   "metadata": {},
   "outputs": [
    {
     "data": {
      "text/plain": [
       "'EPSG:32615'"
      ]
     },
     "execution_count": 11,
     "metadata": {},
     "output_type": "execute_result"
    }
   ],
   "source": [
    "projection['crs']"
   ]
  },
  {
   "cell_type": "markdown",
   "metadata": {},
   "source": [
    "# Do projections change?"
   ]
  },
  {
   "cell_type": "code",
   "execution_count": 35,
   "metadata": {},
   "outputs": [
    {
     "name": "stdout",
     "output_type": "stream",
     "text": [
      "{'type': 'Projection', 'crs': 'EPSG:32615', 'transform': [30, 0, 215685, 0, -30, 3471615]}\n",
      "{'type': 'Projection', 'crs': 'EPSG:32615', 'transform': [30, 0, 215985, 0, -30, 3471615]}\n",
      "{'type': 'Projection', 'crs': 'EPSG:32615', 'transform': [30, 0, 215685, 0, -30, 3471615]}\n",
      "{'type': 'Projection', 'crs': 'EPSG:32615', 'transform': [30, 0, 215685, 0, -30, 3471615]}\n",
      "{'type': 'Projection', 'crs': 'EPSG:32615', 'transform': [30, 0, 213885, 0, -30, 3471615]}\n",
      "{'type': 'Projection', 'crs': 'EPSG:32615', 'transform': [30, 0, 213585, 0, -30, 3471915]}\n",
      "{'type': 'Projection', 'crs': 'EPSG:32615', 'transform': [30, 0, 215085, 0, -30, 3471615]}\n",
      "Image.load: Image asset 'LANDSAT/LC08/C02/T1_L2/LC08_025039_20211127' not found.\n",
      "{'type': 'Projection', 'crs': 'EPSG:32615', 'transform': [30, 0, 215085, 0, -30, 3471615]}\n",
      "Image.load: Image asset 'LANDSAT/LC08/C02/T1_L2/LC08_025039_20211213' not found.\n",
      "{'type': 'Projection', 'crs': 'EPSG:32615', 'transform': [30, 0, 215085, 0, -30, 3471615]}\n",
      "Image.load: Image asset 'LANDSAT/LC08/C02/T1_L2/LC08_025039_20211229' not found.\n",
      "{'type': 'Projection', 'crs': 'EPSG:32615', 'transform': [30, 0, 215085, 0, -30, 3471615]}\n",
      "{'type': 'Projection', 'crs': 'EPSG:32615', 'transform': [30, 0, 215385, 0, -30, 3471615]}\n",
      "{'type': 'Projection', 'crs': 'EPSG:32615', 'transform': [30, 0, 215685, 0, -30, 3471615]}\n",
      "{'type': 'Projection', 'crs': 'EPSG:32615', 'transform': [30, 0, 215085, 0, -30, 3471615]}\n",
      "{'type': 'Projection', 'crs': 'EPSG:32615', 'transform': [30, 0, 213585, 0, -30, 3471615]}\n",
      "{'type': 'Projection', 'crs': 'EPSG:32615', 'transform': [30, 0, 213285, 0, -30, 3471615]}\n",
      "Image.load: Image asset 'LANDSAT/LC08/C02/T1_L2/LC08_025039_20220404' not found.\n",
      "{'type': 'Projection', 'crs': 'EPSG:32615', 'transform': [30, 0, 213285, 0, -30, 3471615]}\n",
      "{'type': 'Projection', 'crs': 'EPSG:32615', 'transform': [30, 0, 212085, 0, -30, 3471915]}\n",
      "{'type': 'Projection', 'crs': 'EPSG:32615', 'transform': [30, 0, 213885, 0, -30, 3471615]}\n",
      "{'type': 'Projection', 'crs': 'EPSG:32615', 'transform': [30, 0, 214785, 0, -30, 3471615]}\n",
      "Image.load: Image asset 'LANDSAT/LC08/C02/T1_L2/LC08_025039_20220607' not found.\n",
      "{'type': 'Projection', 'crs': 'EPSG:32615', 'transform': [30, 0, 214785, 0, -30, 3471615]}\n"
     ]
    }
   ],
   "source": [
    "from urllib.error import HTTPError\n",
    "dates = ['20210807', '20210823', '20210908', '20210924', '20211010', '20211026', '20211111', '20211127', '20211213', '20211229', '20220114', '20220130', '20220215', '20220303', '20220319', '20220404', '20220420', '20220506', '20220522', '20220607']\n",
    "\n",
    "for d in dates:\n",
    "    try:\n",
    "        img = ee.Image(f\"LANDSAT/LC08/C02/T1_L2/LC08_025039_{d}\").select('ST_B10')\n",
    "        projection = img.projection().getInfo()\n",
    "    except ee.EEException as e:\n",
    "        print(e)\n",
    "    if projection is not None:\n",
    "        print(projection)"
   ]
  },
  {
   "cell_type": "code",
   "execution_count": 31,
   "metadata": {},
   "outputs": [
    {
     "name": "stdout",
     "output_type": "stream",
     "text": [
      "ee.Image({\n",
      "  \"functionInvocationValue\": {\n",
      "    \"functionName\": \"Image.load\",\n",
      "    \"arguments\": {\n",
      "      \"id\": {\n",
      "        \"constantValue\": \"LANDSAT/LC08/C02/T1_L2/LC08_025039_20190106\"\n",
      "      }\n",
      "    }\n",
      "  }\n",
      "})\n"
     ]
    }
   ],
   "source": [
    "img0 = ee.Image('LANDSAT/LC08/C02/T1_L2/LC08_025039_20190106')\n",
    "img1 = ee.Image('LANDSAT/LC08/C02/T1_L2/LC08_025039_20190122')\n",
    "print(img)"
   ]
  }
 ],
 "metadata": {
  "kernelspec": {
   "display_name": "Python 3 (ipykernel)",
   "language": "python",
   "name": "python3"
  },
  "language_info": {
   "codemirror_mode": {
    "name": "ipython",
    "version": 3
   },
   "file_extension": ".py",
   "mimetype": "text/x-python",
   "name": "python",
   "nbconvert_exporter": "python",
   "pygments_lexer": "ipython3",
   "version": "3.9.7"
  },
  "toc": {
   "base_numbering": 1,
   "nav_menu": {},
   "number_sections": true,
   "sideBar": true,
   "skip_h1_title": false,
   "title_cell": "Table of Contents",
   "title_sidebar": "Contents",
   "toc_cell": false,
   "toc_position": {},
   "toc_section_display": true,
   "toc_window_display": false
  }
 },
 "nbformat": 4,
 "nbformat_minor": 1
}
