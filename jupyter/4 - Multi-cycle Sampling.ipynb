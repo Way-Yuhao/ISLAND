{
 "cells": [
  {
   "cell_type": "code",
   "execution_count": 93,
   "id": "62453064",
   "metadata": {},
   "outputs": [],
   "source": [
    "import sys, traceback\n",
    "import os\n",
    "import ee\n",
    "import geemap\n",
    "import numpy as np\n",
    "import matplotlib.pyplot as plt\n",
    "from tqdm import tqdm\n",
    "import cv2\n",
    "from datetime import date, timedelta, datetime"
   ]
  },
  {
   "cell_type": "code",
   "execution_count": 94,
   "id": "7773fa76",
   "metadata": {},
   "outputs": [],
   "source": [
    "sr_vis = {'bands': ['SR_B4', 'SR_B3', 'SR_B2'], 'min': 0.0, 'max': 0.3,} # for LANDSAT8 surface reflectance RGB"
   ]
  },
  {
   "cell_type": "code",
   "execution_count": 95,
   "id": "18bc537f",
   "metadata": {},
   "outputs": [],
   "source": [
    "def scaled(image):  # for LANDSAT8 surfance reflectance\n",
    "  opticalBands = image.select('SR_B.').multiply(0.0000275).add(-0.2)\n",
    "  thermalBands = image.select('ST_B.*').multiply(0.00341802).add(149.0)\n",
    "  return image.addBands(opticalBands, None, True).addBands(thermalBands, None, True)\n",
    "\n",
    "def select_bands(image): # select bands for training\n",
    "    opticalBands = image.select('SR_B.')\n",
    "    thermalRadianceBand = image.select('ST_TRAD')\n",
    "    return image.addBands(opticalBands, None, True).addBands(thermalRadianceBand, None, True)"
   ]
  },
  {
   "cell_type": "markdown",
   "id": "80d4b064",
   "metadata": {},
   "source": [
    "# Multi Cycle Sampling"
   ]
  },
  {
   "cell_type": "code",
   "execution_count": 28,
   "id": "abcac059",
   "metadata": {},
   "outputs": [],
   "source": [
    "# some sample cycles\n",
    "cycle1 = scaled(ee.Image(\"LANDSAT/LC08/C02/T1_L2/LC08_025039_20210807\"))\n",
    "cycle2 = scaled(ee.Image(\"LANDSAT/LC08/C02/T1_L2/LC08_025039_20210823\"))\n",
    "cycle3 = scaled(ee.Image(\"LANDSAT/LC08/C02/T1_L2/LC08_025039_20210908\"))\n",
    "cycle4 = scaled(ee.Image(\"LANDSAT/LC08/C02/T1_L2/LC08_025039_20210924\"))\n",
    "cycles = [cycle1, cycle2, cycle3, cycle4]"
   ]
  },
  {
   "cell_type": "code",
   "execution_count": 96,
   "id": "3a6a8708",
   "metadata": {},
   "outputs": [
    {
     "ename": "AttributeError",
     "evalue": "\n\nThe image argument in 'addLayer' function must be an instance of one of ee.Image, ee.Geometry, ee.Feature or ee.FeatureCollection.",
     "output_type": "error",
     "traceback": [
      "\u001b[0;31m---------------------------------------------------------------------------\u001b[0m",
      "\u001b[0;31mAttributeError\u001b[0m                            Traceback (most recent call last)",
      "Input \u001b[0;32mIn [96]\u001b[0m, in \u001b[0;36m<module>\u001b[0;34m\u001b[0m\n\u001b[1;32m      1\u001b[0m Map \u001b[38;5;241m=\u001b[39m geemap\u001b[38;5;241m.\u001b[39mMap(center\u001b[38;5;241m=\u001b[39m(\u001b[38;5;241m29.7662\u001b[39m, \u001b[38;5;241m-\u001b[39m\u001b[38;5;241m95.2410\u001b[39m), zoom\u001b[38;5;241m=\u001b[39m\u001b[38;5;241m9\u001b[39m)\n\u001b[1;32m      2\u001b[0m \u001b[38;5;28;01mfor\u001b[39;00m cycle \u001b[38;5;129;01min\u001b[39;00m cycles:\n\u001b[0;32m----> 3\u001b[0m     \u001b[43mMap\u001b[49m\u001b[38;5;241;43m.\u001b[39;49m\u001b[43maddLayer\u001b[49m\u001b[43m(\u001b[49m\u001b[43mcycle\u001b[49m\u001b[43m,\u001b[49m\u001b[43m \u001b[49m\u001b[43msr_vis\u001b[49m\u001b[43m)\u001b[49m\n\u001b[1;32m      4\u001b[0m     Map\u001b[38;5;241m.\u001b[39maddLayer(cycle, sr_vis)\n\u001b[1;32m      5\u001b[0m     Map\u001b[38;5;241m.\u001b[39maddLayer(cycle, sr_vis)\n",
      "File \u001b[0;32m~/miniconda3/envs/earthengine/lib/python3.9/site-packages/geemap/geemap.py:1370\u001b[0m, in \u001b[0;36mMap.add_ee_layer\u001b[0;34m(self, ee_object, vis_params, name, shown, opacity)\u001b[0m\n\u001b[1;32m   1362\u001b[0m \u001b[38;5;28;01mif\u001b[39;00m (\n\u001b[1;32m   1363\u001b[0m     \u001b[38;5;129;01mnot\u001b[39;00m \u001b[38;5;28misinstance\u001b[39m(ee_object, ee\u001b[38;5;241m.\u001b[39mImage)\n\u001b[1;32m   1364\u001b[0m     \u001b[38;5;129;01mand\u001b[39;00m \u001b[38;5;129;01mnot\u001b[39;00m \u001b[38;5;28misinstance\u001b[39m(ee_object, ee\u001b[38;5;241m.\u001b[39mImageCollection)\n\u001b[0;32m   (...)\u001b[0m\n\u001b[1;32m   1367\u001b[0m     \u001b[38;5;129;01mand\u001b[39;00m \u001b[38;5;129;01mnot\u001b[39;00m \u001b[38;5;28misinstance\u001b[39m(ee_object, ee\u001b[38;5;241m.\u001b[39mGeometry)\n\u001b[1;32m   1368\u001b[0m ):\n\u001b[1;32m   1369\u001b[0m     err_str \u001b[38;5;241m=\u001b[39m \u001b[38;5;124m\"\u001b[39m\u001b[38;5;130;01m\\n\u001b[39;00m\u001b[38;5;130;01m\\n\u001b[39;00m\u001b[38;5;124mThe image argument in \u001b[39m\u001b[38;5;124m'\u001b[39m\u001b[38;5;124maddLayer\u001b[39m\u001b[38;5;124m'\u001b[39m\u001b[38;5;124m function must be an instance of one of ee.Image, ee.Geometry, ee.Feature or ee.FeatureCollection.\u001b[39m\u001b[38;5;124m\"\u001b[39m\n\u001b[0;32m-> 1370\u001b[0m     \u001b[38;5;28;01mraise\u001b[39;00m \u001b[38;5;167;01mAttributeError\u001b[39;00m(err_str)\n\u001b[1;32m   1372\u001b[0m \u001b[38;5;28;01mif\u001b[39;00m (\n\u001b[1;32m   1373\u001b[0m     \u001b[38;5;28misinstance\u001b[39m(ee_object, ee\u001b[38;5;241m.\u001b[39mgeometry\u001b[38;5;241m.\u001b[39mGeometry)\n\u001b[1;32m   1374\u001b[0m     \u001b[38;5;129;01mor\u001b[39;00m \u001b[38;5;28misinstance\u001b[39m(ee_object, ee\u001b[38;5;241m.\u001b[39mfeature\u001b[38;5;241m.\u001b[39mFeature)\n\u001b[1;32m   1375\u001b[0m     \u001b[38;5;129;01mor\u001b[39;00m \u001b[38;5;28misinstance\u001b[39m(ee_object, ee\u001b[38;5;241m.\u001b[39mfeaturecollection\u001b[38;5;241m.\u001b[39mFeatureCollection)\n\u001b[1;32m   1376\u001b[0m ):\n\u001b[1;32m   1377\u001b[0m     features \u001b[38;5;241m=\u001b[39m ee\u001b[38;5;241m.\u001b[39mFeatureCollection(ee_object)\n",
      "\u001b[0;31mAttributeError\u001b[0m: \n\nThe image argument in 'addLayer' function must be an instance of one of ee.Image, ee.Geometry, ee.Feature or ee.FeatureCollection."
     ]
    }
   ],
   "source": [
    "Map = geemap.Map(center=(29.7662, -95.2410), zoom=9)\n",
    "for cycle in cycles:\n",
    "    Map.addLayer(cycle, sr_vis)\n",
    "    Map.addLayer(cycle, sr_vis)\n",
    "    Map.addLayer(cycle, sr_vis)\n",
    "    Map.addLayer(cycle, sr_vis)\n",
    "Map"
   ]
  },
  {
   "cell_type": "code",
   "execution_count": 33,
   "id": "7ea00156",
   "metadata": {},
   "outputs": [
    {
     "name": "stdout",
     "output_type": "stream",
     "text": [
      "2021-08-07\n"
     ]
    }
   ],
   "source": [
    "print(geemap.image_props(cycle1).getInfo()['DATE_ACQUIRED'])"
   ]
  },
  {
   "cell_type": "code",
   "execution_count": 31,
   "id": "92cf6e21",
   "metadata": {},
   "outputs": [
    {
     "name": "stdout",
     "output_type": "stream",
     "text": [
      "{'ALGORITHM_SOURCE_SURFACE_REFLECTANCE': 'LaSRC_1.5.0', 'ALGORITHM_SOURCE_SURFACE_TEMPERATURE': 'st_1.3.0', 'CLOUD_COVER': 29.3, 'CLOUD_COVER_LAND': 28.85, 'COLLECTION_CATEGORY': 'T1', 'COLLECTION_NUMBER': 2, 'DATA_SOURCE_AIR_TEMPERATURE': 'MODIS', 'DATA_SOURCE_ELEVATION': 'GLS2000', 'DATA_SOURCE_OZONE': 'MODIS', 'DATA_SOURCE_PRESSURE': 'Calculated', 'DATA_SOURCE_REANALYSIS': 'GEOS-5 FP-IT', 'DATA_SOURCE_TIRS_STRAY_LIGHT_CORRECTION': 'TIRS', 'DATA_SOURCE_WATER_VAPOR': 'MODIS', 'DATE_ACQUIRED': '2021-08-07', 'DATE_PRODUCT_GENERATED': 1629326248000, 'DATUM': 'WGS84', 'EARTH_SUN_DISTANCE': 1.014096, 'ELLIPSOID': 'WGS84', 'GEOMETRIC_RMSE_MODEL': 7.996, 'GEOMETRIC_RMSE_MODEL_X': 5.388, 'GEOMETRIC_RMSE_MODEL_Y': 5.908, 'GEOMETRIC_RMSE_VERIFY': 6.421, 'GRID_CELL_SIZE_REFLECTIVE': 30, 'GRID_CELL_SIZE_THERMAL': 30, 'GROUND_CONTROL_POINTS_MODEL': 237, 'GROUND_CONTROL_POINTS_VERIFY': 71, 'GROUND_CONTROL_POINTS_VERSION': 5, 'IMAGE_DATE': '2021-08-07', 'IMAGE_QUALITY_OLI': 9, 'IMAGE_QUALITY_TIRS': 9, 'L1_DATE_PRODUCT_GENERATED': '2021-08-18T22:29:55Z', 'L1_LANDSAT_PRODUCT_ID': 'LC08_L1TP_025039_20210807_20210818_02_T1', 'L1_PROCESSING_LEVEL': 'L1TP', 'L1_PROCESSING_SOFTWARE_VERSION': 'LPGS_15.5.0', 'L1_REQUEST_ID': 'P700y9v1do6l7_00019', 'LANDSAT_PRODUCT_ID': 'LC08_L2SP_025039_20210807_20210818_02_T1', 'LANDSAT_SCENE_ID': 'LC80250392021219LGN00', 'MAP_PROJECTION': 'UTM', 'NADIR_OFFNADIR': 'NADIR', 'NOMINAL_SCALE': 30, 'ORIENTATION': 'NORTH_UP', 'PROCESSING_LEVEL': 'L2SP', 'PROCESSING_SOFTWARE_VERSION': 'LPGS_15.5.0', 'REFLECTANCE_ADD_BAND_1': -0.2, 'REFLECTANCE_ADD_BAND_2': -0.2, 'REFLECTANCE_ADD_BAND_3': -0.2, 'REFLECTANCE_ADD_BAND_4': -0.2, 'REFLECTANCE_ADD_BAND_5': -0.2, 'REFLECTANCE_ADD_BAND_6': -0.2, 'REFLECTANCE_ADD_BAND_7': -0.2, 'REFLECTANCE_MULT_BAND_1': 2.75e-05, 'REFLECTANCE_MULT_BAND_2': 2.75e-05, 'REFLECTANCE_MULT_BAND_3': 2.75e-05, 'REFLECTANCE_MULT_BAND_4': 2.75e-05, 'REFLECTANCE_MULT_BAND_5': 2.75e-05, 'REFLECTANCE_MULT_BAND_6': 2.75e-05, 'REFLECTANCE_MULT_BAND_7': 2.75e-05, 'REFLECTIVE_LINES': 7871, 'REFLECTIVE_SAMPLES': 7741, 'REQUEST_ID': 'P700y9v1do6l7_00019', 'ROLL_ANGLE': -0.001, 'SATURATION_BAND_1': 'N', 'SATURATION_BAND_2': 'Y', 'SATURATION_BAND_3': 'Y', 'SATURATION_BAND_4': 'Y', 'SATURATION_BAND_5': 'Y', 'SATURATION_BAND_6': 'Y', 'SATURATION_BAND_7': 'Y', 'SATURATION_BAND_8': 'N', 'SATURATION_BAND_9': 'N', 'SCENE_CENTER_TIME': '16:50:44.7593150Z', 'SENSOR_ID': 'OLI_TIRS', 'SPACECRAFT_ID': 'LANDSAT_8', 'STATION_ID': 'LGN', 'SUN_AZIMUTH': 117.96785758, 'SUN_ELEVATION': 64.31659264, 'TARGET_WRS_PATH': 25, 'TARGET_WRS_ROW': 39, 'TEMPERATURE_ADD_BAND_ST_B10': 149, 'TEMPERATURE_MAXIMUM_BAND_ST_B10': 372.999941, 'TEMPERATURE_MINIMUM_BAND_ST_B10': 149.003418, 'TEMPERATURE_MULT_BAND_ST_B10': 0.00341802, 'THERMAL_LINES': 7871, 'THERMAL_SAMPLES': 7741, 'TIRS_SSM_MODEL': 'FINAL', 'TIRS_SSM_POSITION_STATUS': 'ESTIMATED', 'TRUNCATION_OLI': 'UPPER', 'UTM_ZONE': 15, 'WRS_PATH': 25, 'WRS_ROW': 39, 'WRS_TYPE': 2, 'system:asset_size': '976.002578 MB', 'system:band_names': ['SR_B1', 'SR_B2', 'SR_B3', 'SR_B4', 'SR_B5', 'SR_B6', 'SR_B7', 'SR_QA_AEROSOL', 'ST_B10', 'ST_ATRAN', 'ST_CDIST', 'ST_DRAD', 'ST_EMIS', 'ST_EMSD', 'ST_QA', 'ST_TRAD', 'ST_URAD', 'QA_PIXEL', 'QA_RADSAT'], 'system:id': 'LANDSAT/LC08/C02/T1_L2/LC08_025039_20210807', 'system:index': 'LC08_025039_20210807', 'system:time_end': '2021-08-07 16:50:44', 'system:time_start': '2021-08-07 16:50:44', 'system:version': 1629462475967782}\n"
     ]
    }
   ],
   "source": [
    "print(geemap.image_props(cycle1).getInfo())"
   ]
  },
  {
   "cell_type": "code",
   "execution_count": 34,
   "id": "cded7db8",
   "metadata": {},
   "outputs": [
    {
     "name": "stdout",
     "output_type": "stream",
     "text": [
      "['2021-08-07', '2021-08-23', '2021-09-08', '2021-09-24']\n",
      "[29.3, 3.91, 5.04, 0.61]\n"
     ]
    }
   ],
   "source": [
    "dates = [geemap.image_props(cycle).getInfo()['DATE_ACQUIRED'] for cycle in cycles]\n",
    "cloud_covers = [geemap.image_props(cycle).getInfo()['CLOUD_COVER'] for cycle in cycles]\n",
    "print(dates)\n",
    "print(cc)"
   ]
  },
  {
   "cell_type": "code",
   "execution_count": 44,
   "id": "ad7aa391",
   "metadata": {},
   "outputs": [
    {
     "data": {
      "image/png": "[encoded data removed]",
      "text/plain": [
       "<Figure size 432x288 with 1 Axes>"
      ]
     },
     "metadata": {
      "needs_background": "light"
     },
     "output_type": "display_data"
    }
   ],
   "source": [
    "from matplotlib import pyplot as plt\n",
    "plt.plot(dates, cc, label=\"Houston\")\n",
    "plt.title(\"Timeseries of cloud coverage percentage\")\n",
    "plt.xlabel(\"Data Acquired\")\n",
    "plt.ylabel(\"Cloud Cover (%)\")\n",
    "plt.legend()\n",
    "plt.show()\n"
   ]
  },
  {
   "cell_type": "code",
   "execution_count": 53,
   "id": "3870aaa0",
   "metadata": {},
   "outputs": [
    {
     "name": "stdout",
     "output_type": "stream",
     "text": [
      "20210807\n",
      "20210823\n"
     ]
    }
   ],
   "source": [
    "# date calculator\n",
    "now = datetime.strptime('20210807', '%Y%m%d')\n",
    "print(now.strftime('%Y%m%d'))\n",
    "future = now + timedelta(days=16)\n",
    "print(future.strftime('%Y%m%d'))\n",
    "    "
   ]
  },
  {
   "cell_type": "markdown",
   "id": "f1a35899",
   "metadata": {},
   "source": [
    "# Multi Cycle Sampling with date genration"
   ]
  },
  {
   "cell_type": "code",
   "execution_count": 34,
   "id": "25f2f4f4",
   "metadata": {},
   "outputs": [],
   "source": [
    "NUM_DATES = 30\n",
    "START_DATE = None\n",
    "REFERENCE_DATE = '20210807'\n",
    "NULLIFY_DATES_AFTER = '20220101'"
   ]
  },
  {
   "cell_type": "code",
   "execution_count": 71,
   "id": "5a0b4efa",
   "metadata": {},
   "outputs": [],
   "source": [
    "class Suppressor(object):\n",
    "    \n",
    "    def __enter__(self):\n",
    "        self.stdout = sys.stdout\n",
    "        sys.stdout = self\n",
    "\n",
    "    def __exit__(self, type, value, traceback):\n",
    "        sys.stdout = self.stdout\n",
    "        if type is not None:\n",
    "            raise\n",
    "\n",
    "    def write(self, x): pass\n",
    "\n",
    "    \n",
    "def verify_date(date_str: str, suppressOutput=False) -> bool:\n",
    "    date = datetime.strptime(date_str, '%Y%m%d')\n",
    "    nullified_date = datetime.strptime(NULLIFY_DATES_AFTER, '%Y%m%d')\n",
    "    if (date - nullified_date).days >=0:\n",
    "        if not suppressOutput: \n",
    "            print(f'Invalid date encountered: {date_str}. Need to specify a date before {NULLIFY_DATES_AFTER}')\n",
    "        return False\n",
    "    else:\n",
    "        time_delta = datetime.strptime(REFERENCE_DATE, '%Y%m%d') - date\n",
    "        r = time_delta.days % 16\n",
    "        if r == 0:\n",
    "            return True\n",
    "        else:\n",
    "            if not suppressOutput: \n",
    "                print(f'Date {date_str} is not valid for the selected region. Consider adding {r} days.')\n",
    "            return False\n",
    "\n",
    "\n",
    "def calc_num_cycles(start_date_str: str, end_date_str: str) -> int:\n",
    "    b1 = verify_date(start_date_str)\n",
    "    b2 = verify_date(end_date_str)\n",
    "    if (not b1) or (not b2):\n",
    "        raise AttributeError('ERROR: invalid dates encountered')\n",
    "    start_date = datetime.strptime(start_date_str, '%Y%m%d')\n",
    "    end_date = datetime.strptime(end_date_str, '%Y%m%d')\n",
    "    date_delta = int((end_date - start_date).days / 16)\n",
    "    return date_delta\n",
    "\n",
    "\n",
    "def find_next_valid_date(date_str: str, strictly_next=False) -> str:\n",
    "    date = datetime.strptime(date_str, '%Y%m%d')\n",
    "    if verify_date(date_str, suppressOutput=True):  # current date is a valid date\n",
    "        if not strictly_next:\n",
    "            return date_str\n",
    "        else:\n",
    "            r = 16\n",
    "    else:  # current date is not a valid date\n",
    "        time_delta = datetime.strptime(REFERENCE_DATE, '%Y%m%d') - date\n",
    "        r = time_delta.days % 16\n",
    "    next_valid_time = date + timedelta(days=r)\n",
    "    next_valid_date = next_valid_time.strftime('%Y%m%d')\n",
    "    assert verify_date(next_valid_date), f\"ERROR: Unable to find a next valid date after {date_str}\"\n",
    "    return next_valid_date\n",
    "\n",
    "def generate_cycles(start_date: str, end_date=None, num_days=None, num_cycles=None):\n",
    "    param_error_msg = \"only allowed to specify exactly one of end_date, num_days, or num_cycles\"\n",
    "    if end_date is not None:\n",
    "        assert num_days is None and num_cycles is None, param_error_msg\n",
    "        raise NotImplementedError()\n",
    "    elif num_days is not None:\n",
    "        assert end_date is None and num_cycles is None, param_error_msg\n",
    "        raise NotImplementedError()\n",
    "    elif num_cycles is not None:\n",
    "        assert end_date is None and num_days is None, param_error_msg\n",
    "        assert num_cycles >= 1, \"Numer of cycles have to be >= 1\"\n",
    "        cycles = []\n",
    "        cur_date = find_next_valid_date(start_date)\n",
    "        for cycle in range(num_cycles):\n",
    "            cycles.append(cur_date)\n",
    "            cur_date = find_next_valid_date(cur_date, strictly_next=True)\n",
    "    \n",
    "    print(f'Generated {len(cycles)} cycles, with start date = {cycles[0]} and end tate = {cycles[-1]}')\n",
    "    return cycles"
   ]
  },
  {
   "cell_type": "markdown",
   "id": "d1db5e91",
   "metadata": {},
   "source": [
    "# Cloud coverage timeseries"
   ]
  },
  {
   "cell_type": "code",
   "execution_count": 102,
   "id": "3c94c239",
   "metadata": {},
   "outputs": [
    {
     "name": "stdout",
     "output_type": "stream",
     "text": [
      "Generated 50 cycles, with start date = 20180103 and end tate = 20200226\n"
     ]
    }
   ],
   "source": [
    "cycles = generate_cycles(start_date='20180101', num_cycles=50)"
   ]
  },
  {
   "cell_type": "code",
   "execution_count": 121,
   "id": "2804f7d0",
   "metadata": {},
   "outputs": [
    {
     "name": "stdout",
     "output_type": "stream",
     "text": [
      "['2018-01-03', '2018-01-19', '2018-03-08', '2018-04-09', '2018-04-25', '2018-05-11', '2018-05-27', '2018-06-12', '2018-06-28', '2018-07-14', '2018-07-30', '2018-08-15', '2018-08-31', '2018-09-16', '2018-10-02', '2018-10-18', '2018-11-03', '2018-12-05', '2018-12-21', '2019-01-06', '2019-02-07', '2019-03-11', '2019-03-27', '2019-04-12', '2019-04-28', '2019-05-14', '2019-05-30', '2019-06-15', '2019-07-01', '2019-07-17', '2019-08-02', '2019-08-18', '2019-09-03', '2019-10-05', '2019-10-21', '2019-11-06', '2019-12-08', '2019-12-24', '2020-01-25', '2020-02-26']\n",
      "[0.06, 87.15, 82.9, 93.17, 0.27, 25.01, 34.26, 20.6, 29.31, 22.13, 99.03, 31.61, 27.2, 5.4, 24.78, 85.11, 10.43, 2.58, 0.04, 11.29, 88.42, 99.94, 0.61, 83.61, 36.15, 1.49, 66.72, 28.99, 18.18, 30.3, 36.33, 31.77, 25, 1.46, 63.02, 9.49, 61.66, 0.06, 79.26, 61.42]\n"
     ]
    }
   ],
   "source": [
    "imgs = []\n",
    "invalid_ids = ['LANDSAT/LC08/C02/T1_L2/LC08_025039_20180204', 'LANDSAT/LC08/C02/T1_L2/LC08_025039_20180220', 'LANDSAT/LC08/C02/T1_L2/LC08_025039_20180324', 'LANDSAT/LC08/C02/T1_L2/LC08_025039_20181119', 'LANDSAT/LC08/C02/T1_L2/LC08_025039_20190122', 'LANDSAT/LC08/C02/T1_L2/LC08_025039_20190223', 'LANDSAT/LC08/C02/T1_L2/LC08_025039_20190919', 'LANDSAT/LC08/C02/T1_L2/LC08_025039_20191122', 'LANDSAT/LC08/C02/T1_L2/LC08_025039_20200109', 'LANDSAT/LC08/C02/T1_L2/LC08_025039_20200210']\n",
    "for date_ in cycles:\n",
    "    id_ = f\"LANDSAT/LC08/C02/T1_L2/LC08_025039_{date_}\"\n",
    "    if id_ in invalid_ids:\n",
    "        continue\n",
    "    img = scaled(ee.Image(id_))\n",
    "    if img is not None:\n",
    "        imgs.append(img)\n",
    "dates = [geemap.image_props(img).getInfo()['DATE_ACQUIRED'] for img in imgs]\n",
    "cloud_covers = [geemap.image_props(img).getInfo()['CLOUD_COVER'] for img in imgs]\n",
    "print(dates)\n",
    "print(cloud_covers)"
   ]
  },
  {
   "cell_type": "code",
   "execution_count": 125,
   "id": "e6067f18",
   "metadata": {},
   "outputs": [
    {
     "data": {
      "image/png": "[encoded data removed]",
      "text/plain": [
       "<Figure size 432x288 with 1 Axes>"
      ]
     },
     "metadata": {
      "needs_background": "light"
     },
     "output_type": "display_data"
    }
   ],
   "source": [
    "from matplotlib import pyplot as plt\n",
    "dates2 = [datetime.strptime(date_str, '%Y-%m-%d') for date_str in dates]\n",
    "\n",
    "plt.plot(dates2, cloud_covers, label=\"Houston\")\n",
    "plt.title(\"Timeseries of cloud coverage percentage\")\n",
    "plt.xlabel(\"Data Acquired\")\n",
    "plt.ylabel(\"Cloud Cover (%)\")\n",
    "plt.xticks(rotation=45)\n",
    "plt.legend()\n",
    "plt.show()\n"
   ]
  },
  {
   "cell_type": "code",
   "execution_count": 126,
   "id": "a4d0582b",
   "metadata": {},
   "outputs": [
    {
     "name": "stdout",
     "output_type": "stream",
     "text": [
      "average cloud coverage = 37.90525\n"
     ]
    }
   ],
   "source": [
    "print(f'average cloud coverage = {np.mean(cloud_covers)}')"
   ]
  },
  {
   "cell_type": "markdown",
   "id": "5b1724f6",
   "metadata": {},
   "source": [
    "# Adding bitmap for cloud coverage"
   ]
  },
  {
   "cell_type": "code",
   "execution_count": 191,
   "id": "a5b71223",
   "metadata": {},
   "outputs": [
    {
     "data": {
      "application/vnd.jupyter.widget-view+json": {
       "model_id": "c6b6cf99026f44ab8fa8f45edd40239c",
       "version_major": 2,
       "version_minor": 0
      },
      "text/plain": [
       "Map(center=[29.7662, -95.241], controls=(ZoomControl(options=['position', 'zoom_in_text', 'zoom_in_title', 'zo…"
      ]
     },
     "metadata": {},
     "output_type": "display_data"
    }
   ],
   "source": [
    "def scaled_cloud(image):\n",
    "    cloudBands = image.select('ST_CDIST').multiply(0.01)\n",
    "    return image.addBands(cloudBands, None, True)\n",
    "\n",
    "max_ = 1e-7\n",
    "sample_tile = ee.Image(\"LANDSAT/LC08/C02/T1_L2/LC08_025039_20210807\")\n",
    "left_layer = geemap.ee_tile_layer(scaled(sample_tile).select(['SR_B4', 'SR_B3', 'SR_B2']), {'min': 0.0, 'max': 0.3,}, 'Landsat8')\n",
    "right_layer = geemap.ee_tile_layer(scaled_cloud(sample_tile).select(['ST_CDIST']), {'min': 0.0, 'max': max_,}, 'Cloud Distance')\n",
    "Map = geemap.Map(center=(29.7662, -95.2410), zoom=9)\n",
    "Map.split_map(left_layer=left_layer, right_layer=right_layer)\n",
    "Map.add_colorbar({'min': 0.0, 'max': max_,}, label=\"Pixel Distance To Cloud\")\n",
    "Map"
   ]
  },
  {
   "cell_type": "code",
   "execution_count": 175,
   "id": "c11a7b77",
   "metadata": {},
   "outputs": [
    {
     "data": {
      "text/plain": [
       "29.3"
      ]
     },
     "execution_count": 175,
     "metadata": {},
     "output_type": "execute_result"
    }
   ],
   "source": [
    "geemap.image_props(ee.Image(\"LANDSAT/LC08/C02/T1_L2/LC08_025039_20210807\")).getInfo()['CLOUD_COVER']"
   ]
  }
 ],
 "metadata": {
  "kernelspec": {
   "display_name": "Python 3 (ipykernel)",
   "language": "python",
   "name": "python3"
  },
  "language_info": {
   "codemirror_mode": {
    "name": "ipython",
    "version": 3
   },
   "file_extension": ".py",
   "mimetype": "text/x-python",
   "name": "python",
   "nbconvert_exporter": "python",
   "pygments_lexer": "ipython3",
   "version": "3.9.7"
  },
  "toc": {
   "base_numbering": 1,
   "nav_menu": {},
   "number_sections": true,
   "sideBar": true,
   "skip_h1_title": false,
   "title_cell": "Table of Contents",
   "title_sidebar": "Contents",
   "toc_cell": false,
   "toc_position": {},
   "toc_section_display": true,
   "toc_window_display": false
  }
 },
 "nbformat": 4,
 "nbformat_minor": 5
}
