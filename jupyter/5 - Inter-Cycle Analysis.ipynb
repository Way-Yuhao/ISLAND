{
 "cells": [
  {
   "cell_type": "code",
   "execution_count": 2,
   "id": "1640f939",
   "metadata": {},
   "outputs": [],
   "source": [
    "import sys, traceback\n",
    "import os\n",
    "import ee\n",
    "import geemap\n",
    "import numpy as np\n",
    "import matplotlib.pyplot as plt\n",
    "from tqdm import tqdm\n",
    "import cv2\n",
    "from datetime import date, timedelta, datetime"
   ]
  },
  {
   "cell_type": "code",
   "execution_count": 3,
   "id": "c000697a",
   "metadata": {},
   "outputs": [],
   "source": [
    "def scaled(image):  # for LANDSAT8 hyperspectral\n",
    "    opticalBands = image.select('SR_B.').multiply(0.0000275).add(-0.2)\n",
    "    thermalBands = image.select('ST_B.*').multiply(0.00341802).add(149.0)\n",
    "    emis = image.select('ST_EMIS').multiply(0.0001)  # estimated emissivity\n",
    "    emsd = image.select('ST_EMSD').multiply(0.0001)  # uncertainty in emissivity estimation\n",
    "    trad = image.select('ST_TRAD').multiply(0.001)  # thermal band converted to radiance\n",
    "    qa = image.select('ST_QA').multiply(0.01)  # uncertainty in land surface temperature\n",
    "    \n",
    "    image =  image.addBands(opticalBands, None, True).addBands(thermalBands, None, True)\n",
    "    image = image.addBands(emis, None, True).addBands(emsd, None, True)\n",
    "    image = image.addBands(trad, None, True).addBands(qa, None, True)\n",
    "    return image"
   ]
  },
  {
   "cell_type": "markdown",
   "id": "ad0e2d58",
   "metadata": {},
   "source": [
    "# Thermal Band Converted to Radiance"
   ]
  },
  {
   "cell_type": "code",
   "execution_count": 112,
   "id": "80aa398c",
   "metadata": {},
   "outputs": [
    {
     "data": {
      "application/vnd.jupyter.widget-view+json": {
       "model_id": "5f84e360fba04e2a87b920e262c6c8df",
       "version_major": 2,
       "version_minor": 0
      },
      "text/plain": [
       "Map(center=[29.7662, -95.241], controls=(ZoomControl(options=['position', 'zoom_in_text', 'zoom_in_title', 'zo…"
      ]
     },
     "metadata": {},
     "output_type": "display_data"
    }
   ],
   "source": [
    "min_, max_ = 0, 11\n",
    "Map = geemap.Map(center=(29.7662, -95.2410), zoom=9)\n",
    "sample_tile_scaled = scaled(ee.Image(\"LANDSAT/LC08/C02/T1_L2/LC08_025039_20210807\"))\n",
    "left_layer = geemap.ee_tile_layer(sample_tile_scaled.select(['SR_B4', 'SR_B3', 'SR_B2']), {'min': 0.0, 'max': 0.3,}, 'Landsat8')\n",
    "right_layer = geemap.ee_tile_layer(sample_tile_scaled.select(['ST_TRAD']), {'min': min_, 'max': max_}, 'TIR')\n",
    "Map.split_map(left_layer=left_layer, right_layer=right_layer)\n",
    "Map.add_colorbar({'min': min_, 'max': max_}, label=\"Thermal Band Radiance (W/(m^2*sr*um)/ DN)\")\n",
    "Map"
   ]
  },
  {
   "cell_type": "code",
   "execution_count": 113,
   "id": "1964c3fd",
   "metadata": {},
   "outputs": [],
   "source": [
    "# B10 TOA\n",
    "# min_, max_ = 200, 310\n",
    "# Map = geemap.Map(center=(29.7662, -95.2410), zoom=9)\n",
    "# sample_toa = ee.Image(\"LANDSAT/LC08/C01/T1_TOA/LC08_025039_20210807\")\n",
    "# Map.addLayer(sample_toa.select(['B10']), {'min': min_, 'max': max_,}, 'Landsat8')\n",
    "# Map.add_colorbar({'min': min_, 'max': max_}, label=\"Thermal Band B10 TOA\")\n",
    "# Map"
   ]
  },
  {
   "cell_type": "code",
   "execution_count": 114,
   "id": "c74cce74",
   "metadata": {},
   "outputs": [],
   "source": [
    "# min_, max_ = 280, 350\n",
    "# Map = geemap.Map(center=(29.7662, -95.2410), zoom=9)\n",
    "# sample_tile_scaled = scaled(ee.Image(\"LANDSAT/LC08/C02/T1_L2/LC08_025039_20210807\"))\n",
    "\n",
    "# left_layer = geemap.ee_tile_layer(sample_toa.select(['B10']), {'min': min_, 'max': max_,}, 'B10 TOA')\n",
    "# right_layer = geemap.ee_tile_layer(sample_tile_scaled.select(['ST_B10']), {'min': min_, 'max': max_,}, 'TIR')\n",
    "# Map = geemap.Map(center=(29.7662, -95.2410), zoom=14)\n",
    "# Map.split_map(left_layer=left_layer, right_layer=right_layer)\n",
    "# Map.add_colorbar({'min': min_, 'max': max_,}, label=\"Brightness Temperature (K)\")\n",
    "# Map"
   ]
  },
  {
   "cell_type": "markdown",
   "id": "a55bf124",
   "metadata": {},
   "source": [
    "# ASTER GED Estimated Emissivity"
   ]
  },
  {
   "cell_type": "code",
   "execution_count": 4,
   "id": "fcbf1a6e",
   "metadata": {},
   "outputs": [
    {
     "data": {
      "application/vnd.jupyter.widget-view+json": {
       "model_id": "1ec302f4aafc4618b3c6b4846e16cf9a",
       "version_major": 2,
       "version_minor": 0
      },
      "text/plain": [
       "Map(center=[29.7662, -95.241], controls=(ZoomControl(options=['position', 'zoom_in_text', 'zoom_in_title', 'zo…"
      ]
     },
     "metadata": {},
     "output_type": "display_data"
    }
   ],
   "source": [
    "Map = geemap.Map(center=(29.7662, -95.2410), zoom=9)\n",
    "sample_tile_scaled = scaled(ee.Image(\"LANDSAT/LC08/C02/T1_L2/LC08_025039_20210807\"))\n",
    "min_, max_ = 0.85, 1.0\n",
    "left_layer = geemap.ee_tile_layer(sample_tile_scaled.select(['SR_B4', 'SR_B3', 'SR_B2']), {'min': 0.0, 'max': 0.3,}, 'Landsat8')\n",
    "right_layer = geemap.ee_tile_layer(sample_tile_scaled.select(['ST_EMIS']), {'min': min_, 'max': max_}, 'TIR')\n",
    "Map = geemap.Map(center=(29.7662, -95.2410), zoom=14)\n",
    "Map.split_map(left_layer=left_layer, right_layer=right_layer)\n",
    "Map.add_colorbar({'min': min_, 'max': max_}, label=\"Estimated Emissivity\")\n",
    "Map"
   ]
  },
  {
   "cell_type": "markdown",
   "id": "44e66874",
   "metadata": {},
   "source": [
    "# Band 10 Surface Temperature"
   ]
  },
  {
   "cell_type": "code",
   "execution_count": 116,
   "id": "99fc4dbd",
   "metadata": {},
   "outputs": [
    {
     "data": {
      "application/vnd.jupyter.widget-view+json": {
       "model_id": "a9b9c3b805bf4e76b7a3f0e92166868b",
       "version_major": 2,
       "version_minor": 0
      },
      "text/plain": [
       "Map(center=[29.7662, -95.241], controls=(ZoomControl(options=['position', 'zoom_in_text', 'zoom_in_title', 'zo…"
      ]
     },
     "metadata": {},
     "output_type": "display_data"
    }
   ],
   "source": [
    "Map = geemap.Map(center=(29.7662, -95.2410), zoom=9)\n",
    "sample_tile_scaled = scaled(ee.Image(\"LANDSAT/LC08/C02/T1_L2/LC08_025039_20210807\"))\n",
    "\n",
    "left_layer = geemap.ee_tile_layer(sample_tile_scaled.select(['SR_B4', 'SR_B3', 'SR_B2']), {'min': 0.0, 'max': 0.3,}, 'Landsat8')\n",
    "right_layer = geemap.ee_tile_layer(sample_tile_scaled.select(['ST_B10']), {'min': 300, 'max': 350,}, 'TIR')\n",
    "Map = geemap.Map(center=(29.7662, -95.2410), zoom=14)\n",
    "Map.split_map(left_layer=left_layer, right_layer=right_layer)\n",
    "Map.add_colorbar({'min': 320, 'max': 370,}, label=\"Surface Temperature (K)\")\n",
    "Map"
   ]
  },
  {
   "cell_type": "markdown",
   "id": "e96df633",
   "metadata": {},
   "source": [
    "# Emissivity Standard Deviation"
   ]
  },
  {
   "cell_type": "code",
   "execution_count": 117,
   "id": "e4cfce95",
   "metadata": {},
   "outputs": [
    {
     "data": {
      "application/vnd.jupyter.widget-view+json": {
       "model_id": "e69487ecaa2949cb9de8a5204da62dfb",
       "version_major": 2,
       "version_minor": 0
      },
      "text/plain": [
       "Map(center=[29.7662, -95.241], controls=(ZoomControl(options=['position', 'zoom_in_text', 'zoom_in_title', 'zo…"
      ]
     },
     "metadata": {},
     "output_type": "display_data"
    }
   ],
   "source": [
    "Map = geemap.Map(center=(29.7662, -95.2410), zoom=9)\n",
    "sample_tile_scaled = scaled(ee.Image(\"LANDSAT/LC08/C02/T1_L2/LC08_025039_20210807\"))\n",
    "min_, max_ = 0, .15\n",
    "left_layer = geemap.ee_tile_layer(sample_tile_scaled.select(['SR_B4', 'SR_B3', 'SR_B2']), {'min': 0.0, 'max': 0.3,}, 'Landsat8')\n",
    "right_layer = geemap.ee_tile_layer(sample_tile_scaled.select(['ST_EMSD']), {'min': min_, 'max': max_}, 'TIR')\n",
    "Map = geemap.Map(center=(29.7662, -95.2410), zoom=14)\n",
    "Map.split_map(left_layer=left_layer, right_layer=right_layer)\n",
    "Map.add_colorbar({'min': min_, 'max': max_}, label=\"Emissivity Standard Deviation\")\n",
    "Map"
   ]
  },
  {
   "cell_type": "markdown",
   "id": "99938511",
   "metadata": {},
   "source": [
    "# Uncertainty of the Surface Temperature"
   ]
  },
  {
   "cell_type": "code",
   "execution_count": 119,
   "id": "82db1458",
   "metadata": {},
   "outputs": [
    {
     "data": {
      "application/vnd.jupyter.widget-view+json": {
       "model_id": "293a73c15b6d4b6793f485ada0bc5c55",
       "version_major": 2,
       "version_minor": 0
      },
      "text/plain": [
       "Map(center=[29.7662, -95.241], controls=(ZoomControl(options=['position', 'zoom_in_text', 'zoom_in_title', 'zo…"
      ]
     },
     "metadata": {},
     "output_type": "display_data"
    }
   ],
   "source": [
    "Map = geemap.Map(center=(29.7662, -95.2410), zoom=9)\n",
    "sample_tile_scaled = scaled(ee.Image(\"LANDSAT/LC08/C02/T1_L2/LC08_025039_20210807\"))\n",
    "min_, max_ = 0, 10\n",
    "left_layer = geemap.ee_tile_layer(sample_tile_scaled.select(['SR_B4', 'SR_B3', 'SR_B2']), {'min': 0.0, 'max': 0.3,}, 'Landsat8')\n",
    "right_layer = geemap.ee_tile_layer(sample_tile_scaled.select(['ST_QA']), {'min': min_, 'max': max_}, 'TIR')\n",
    "Map = geemap.Map(center=(29.7662, -95.2410), zoom=14)\n",
    "Map.split_map(left_layer=left_layer, right_layer=right_layer)\n",
    "Map.add_colorbar({'min': min_, 'max': max_}, label=\"Uncertainty in Surface Temperature (K)\")\n",
    "Map"
   ]
  },
  {
   "cell_type": "markdown",
   "id": "f5682a8b",
   "metadata": {},
   "source": [
    "Cloud: up to 10 Kelvin</br>\n",
    "Cloud-free: 4-6 Kelvin"
   ]
  },
  {
   "cell_type": "code",
   "execution_count": 125,
   "id": "df392deb",
   "metadata": {},
   "outputs": [
    {
     "data": {
      "application/vnd.jupyter.widget-view+json": {
       "model_id": "376ed6b165514900ba19b78ba3af7f76",
       "version_major": 2,
       "version_minor": 0
      },
      "text/plain": [
       "Map(center=[29.7662, -95.241], controls=(ZoomControl(options=['position', 'zoom_in_text', 'zoom_in_title', 'zo…"
      ]
     },
     "metadata": {},
     "output_type": "display_data"
    }
   ],
   "source": [
    "Map = geemap.Map(center=(29.7662, -95.2410), zoom=9)\n",
    "sample_tile = ee.Image(\"LANDSAT/LC08/C02/T1_L2/LC08_025039_20210807\")\n",
    "min_, max_ = 0, 1\n",
    "left_layer = geemap.ee_tile_layer(sample_tile_scaled.select(['SR_B4', 'SR_B3', 'SR_B2']), {'min': 0.0, 'max': 0.3,}, 'Landsat8')\n",
    "right_layer = geemap.ee_tile_layer(sample_tile.select(['ST_ATRAN']).multiply(0.0001), {'min': min_, 'max': max_}, 'TIR')\n",
    "Map = geemap.Map(center=(29.7662, -95.2410), zoom=9)\n",
    "Map.split_map(left_layer=left_layer, right_layer=right_layer)\n",
    "Map.add_colorbar({'min': min_, 'max': max_}, label=\"Atmospheric Transmittance\")\n",
    "Map"
   ]
  },
  {
   "cell_type": "markdown",
   "id": "583eb29e",
   "metadata": {},
   "source": [
    "# LANDSAT8 & LANDSAT 9 (8-day difference)"
   ]
  },
  {
   "cell_type": "code",
   "execution_count": 173,
   "id": "ab5f9ff3",
   "metadata": {},
   "outputs": [
    {
     "data": {
      "application/vnd.jupyter.widget-view+json": {
       "model_id": "8429df4caa0c4c7e98a47183a73f1a2b",
       "version_major": 2,
       "version_minor": 0
      },
      "text/plain": [
       "Map(center=[29.7662, -95.241], controls=(ZoomControl(options=['position', 'zoom_in_text', 'zoom_in_title', 'zo…"
      ]
     },
     "metadata": {},
     "output_type": "display_data"
    }
   ],
   "source": [
    "min_, max_ = 0, 11\n",
    "Map = geemap.Map(center=(29.7662, -95.2410), zoom=9)\n",
    "landsat8 = scaled(ee.Image(\"LANDSAT/LC08/C02/T1_L2/LC08_025039_20220215\"))\n",
    "landsat9 = scaled(ee.Image(\"LANDSAT/LC09/C02/T1_L2/LC09_025039_20220207\"))\n",
    "# landsat9 = scaled(ee.Image(\"LANDSAT/LC09/C02/T1_L2/LC09_025039_20211205\"))\n",
    "\n",
    "left_layer = geemap.ee_tile_layer(landsat8.select(['SR_B4', 'SR_B3', 'SR_B2']), {'min': 0.0, 'max': 0.3,}, 'Landsat8')\n",
    "right_layer = geemap.ee_tile_layer(landsat9.select(['SR_B4', 'SR_B3', 'SR_B2']), {'min': 0.0, 'max': 0.3,}, 'Landsat9')\n",
    "Map.split_map(left_layer=left_layer, right_layer=right_layer)\n",
    "Map.add_colorbar({'min': min_, 'max': max_}, label=\"Thermal Band Radiance (W/(m^2*sr*um)/ DN)\")\n",
    "Map"
   ]
  }
 ],
 "metadata": {
  "kernelspec": {
   "display_name": "Python 3 (ipykernel)",
   "language": "python",
   "name": "python3"
  },
  "language_info": {
   "codemirror_mode": {
    "name": "ipython",
    "version": 3
   },
   "file_extension": ".py",
   "mimetype": "text/x-python",
   "name": "python",
   "nbconvert_exporter": "python",
   "pygments_lexer": "ipython3",
   "version": "3.9.7"
  },
  "toc": {
   "base_numbering": 1,
   "nav_menu": {},
   "number_sections": true,
   "sideBar": true,
   "skip_h1_title": false,
   "title_cell": "Table of Contents",
   "title_sidebar": "Contents",
   "toc_cell": false,
   "toc_position": {},
   "toc_section_display": true,
   "toc_window_display": false
  }
 },
 "nbformat": 4,
 "nbformat_minor": 5
}
