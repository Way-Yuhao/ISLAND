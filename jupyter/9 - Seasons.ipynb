{
 "cells": [
  {
   "cell_type": "markdown",
   "id": "c6a6cba9-af69-4ba6-b90f-0076d0daaf37",
   "metadata": {},
   "source": [
    "# Interpreting Seasons from dates"
   ]
  },
  {
   "cell_type": "code",
   "execution_count": 143,
   "id": "d6666b0b-7043-4c69-b613-65eb210517d2",
   "metadata": {},
   "outputs": [],
   "source": [
    "import datetime as dt\n",
    "import numpy\n",
    "import pandas as pd\n",
    "import os\n",
    "import os.path as p\n",
    "import numpy as np\n",
    "import shutil"
   ]
  },
  {
   "cell_type": "code",
   "execution_count": 21,
   "id": "b1750b82-48d3-4ccb-8c9b-5ee596061d6b",
   "metadata": {},
   "outputs": [],
   "source": [
    "def get_season(now):\n",
    "    Y = 2000 # dummy leap year to allow input X-02-29 (leap day)\n",
    "    seasons = [('winter', (dt.date(Y,  1,  1),  dt.date(Y,  3, 20))),\n",
    "           ('spring', (dt.date(Y,  3, 21),  dt.date(Y,  6, 20))),\n",
    "           ('summer', (dt.date(Y,  6, 21),  dt.date(Y,  9, 22))),\n",
    "           ('autumn', (dt.date(Y,  9, 23),  dt.date(Y, 12, 20))),\n",
    "           ('winter', (dt.date(Y, 12, 21),  dt.date(Y, 12, 31)))]\n",
    "    now = dt.datetime.strptime(str(now), '%Y%m%d').date()\n",
    "    print(now)\n",
    "    now = now.replace(year=Y)\n",
    "    return next(season for season, (start, end) in seasons\n",
    "                if start <= now <= end)"
   ]
  },
  {
   "cell_type": "code",
   "execution_count": 22,
   "id": "750b6ec7-e2ee-49ea-822a-865cefcd48c4",
   "metadata": {},
   "outputs": [
    {
     "name": "stdout",
     "output_type": "stream",
     "text": [
      "2020-01-01\n"
     ]
    },
    {
     "data": {
      "text/plain": [
       "'winter'"
      ]
     },
     "execution_count": 22,
     "metadata": {},
     "output_type": "execute_result"
    }
   ],
   "source": [
    "get_season('20200101')"
   ]
  },
  {
   "cell_type": "markdown",
   "id": "e31c9e9a-6fc7-4337-81e8-565fa24ab7f2",
   "metadata": {},
   "source": [
    "# Finding optimal frames"
   ]
  },
  {
   "cell_type": "code",
   "execution_count": 88,
   "id": "945429c8-c033-4351-9a0b-4bd2760ca435",
   "metadata": {},
   "outputs": [],
   "source": [
    "df = pd.read_csv('../data/Phoenix/temporal_references.csv')\n",
    "# print(df)\n",
    "target_dates = df['target_date'].values.tolist()\n",
    "reference_dates = df['ref_date'].values.tolist()\n",
    "target_dates = [dt.datetime.strptime(str(d), '%Y%m%d').date() for d in target_dates]\n",
    "reference_dates = [dt.datetime.strptime(str(d), '%Y%m%d').date() for d in reference_dates]\n",
    "days_delta, mod_days_delta = [], []\n",
    "for x, y in zip(target_dates, reference_dates):\n",
    "    days_delta.append(abs((x - y).days))\n",
    "    y_same_year = y.replace(year=x.year)\n",
    "    same_year_delta = abs((x - y_same_year).days)\n",
    "    mod_days_delta.append(min(same_year_delta, 365 - same_year_delta))\n",
    "df['mod_days_delta'] = mod_days_delta\n",
    "df['days_delta'] = days_delta\n",
    "df.to_csv('../data/Phoenix/temporal_references2.csv', index=False)"
   ]
  },
  {
   "cell_type": "code",
   "execution_count": 89,
   "id": "df02ddb2-3f0a-4956-897f-eee9fb8af4b0",
   "metadata": {},
   "outputs": [
    {
     "name": "stdout",
     "output_type": "stream",
     "text": [
      "     target_date  ref_date  reference_gt_occlusion_percentage       MAE  \\\n",
      "104     20220102  20220102                           0.001220  0.000000   \n",
      "103     20220102  20211217                           0.003068  0.755963   \n",
      "106     20220102  20220203                           0.005343  0.979223   \n",
      "81      20220102  20210131                           0.001915  0.700218   \n",
      "82      20220102  20210115                           0.014011  1.043159   \n",
      "79      20220102  20201230                           0.005382  0.811635   \n",
      "59      20220102  20200113                           0.004892  0.785347   \n",
      "38      20220102  20190126                           0.004644  0.751778   \n",
      "35      20220102  20181209                           0.002498  0.836874   \n",
      "20      20220102  20180123                           0.004932  0.935939   \n",
      "21      20220102  20171222                           0.005529  0.983291   \n",
      "22      20220102  20171206                           0.006784  1.111147   \n",
      "7       20220102  20170104                           0.001072  0.699934   \n",
      "\n",
      "     mod_days_delta  days_delta  \n",
      "104               0           0  \n",
      "103              16          16  \n",
      "106              32          32  \n",
      "81               29         336  \n",
      "82               13         352  \n",
      "79                3         368  \n",
      "59               11         720  \n",
      "38               24        1072  \n",
      "35               24        1120  \n",
      "20               21        1440  \n",
      "21               11        1472  \n",
      "22               27        1488  \n",
      "7                 2        1824  \n"
     ]
    }
   ],
   "source": [
    "df = pd.read_csv('../data/Phoenix/temporal_references2.csv')\\\n",
    ".drop(['target_syn_cloud_date', 'target_synthetic_occlusion_percentage', 'MSE'], axis=1)\n",
    "df = df.loc[df['reference_gt_occlusion_percentage'] < .1]\n",
    "# print(df)\n",
    "# print('-------------')\n",
    "df = df.loc[df['mod_days_delta'] < 2 * 16 + 1]\n",
    "# print(df)\n",
    "# print('-------------')\n",
    "df = df.sort_values(by=['days_delta'])\n",
    "print(df)"
   ]
  },
  {
   "cell_type": "code",
   "execution_count": 101,
   "id": "40026faf-3aa9-4e1e-aea9-ed74a66d9876",
   "metadata": {},
   "outputs": [
    {
     "name": "stdout",
     "output_type": "stream",
     "text": [
      "[20220102 20211217 20220203 20210131 20210115 20201230 20200113 20190126\n",
      " 20181209 20180123 20171222 20171206 20170104]\n"
     ]
    }
   ],
   "source": [
    "print(df['ref_date'].values)"
   ]
  },
  {
   "cell_type": "code",
   "execution_count": 111,
   "id": "c999dd42-1e36-47a3-b2e0-082f41ef07fa",
   "metadata": {},
   "outputs": [
    {
     "name": "stdout",
     "output_type": "stream",
     "text": [
      "104    0.0\n",
      "Name: MAE, dtype: float64\n"
     ]
    }
   ],
   "source": [
    "print(df.loc[df['ref_date'] == 20220102]['MAE'])"
   ]
  },
  {
   "cell_type": "code",
   "execution_count": 114,
   "id": "88e6932d-2c4e-4211-b238-3cc7fd0d4265",
   "metadata": {},
   "outputs": [
    {
     "name": "stdout",
     "output_type": "stream",
     "text": [
      "sad\n"
     ]
    }
   ],
   "source": [
    "h = ''\n",
    "print(f'sad{h}')"
   ]
  },
  {
   "cell_type": "markdown",
   "id": "61182aa0-c130-4d6b-a7e9-c9ee29afb752",
   "metadata": {},
   "source": [
    "# Average predictions"
   ]
  },
  {
   "cell_type": "code",
   "execution_count": 102,
   "id": "b114adc4-18a7-49b9-86a3-27fb0aaacb52",
   "metadata": {},
   "outputs": [],
   "source": [
    "import cv2"
   ]
  },
  {
   "cell_type": "code",
   "execution_count": 104,
   "id": "3d89509f-37e9-48d7-a00f-dd4c6de9206c",
   "metadata": {},
   "outputs": [
    {
     "name": "stdout",
     "output_type": "stream",
     "text": [
      "(2471, 2626)\n",
      "(2471, 2626)\n"
     ]
    }
   ],
   "source": [
    "img1 = cv2.imread('../data/Phoenix/bt_series/LC08_B10_20170104.tif', -1)\n",
    "img2 = cv2.imread('../data/Phoenix/bt_series/LC08_B10_20170205.tif', -1)\n",
    "print(img1.shape)\n",
    "print(img2.shape)"
   ]
  },
  {
   "cell_type": "code",
   "execution_count": 106,
   "id": "d03cd119-d3bf-4849-ac7c-fe49ef71b6bc",
   "metadata": {},
   "outputs": [
    {
     "name": "stdout",
     "output_type": "stream",
     "text": [
      "(2471, 2626)\n"
     ]
    }
   ],
   "source": [
    "avg_img = (img1 + img2) / 2\n",
    "print(avg_img.shape)\n"
   ]
  },
  {
   "cell_type": "code",
   "execution_count": 122,
   "id": "12aa11d8-e75b-43b7-b579-33362555a251",
   "metadata": {},
   "outputs": [
    {
     "name": "stdout",
     "output_type": "stream",
     "text": [
      "[1 6 3 6]\n"
     ]
    }
   ],
   "source": [
    "a = np.array([1, 2, 3, 4])\n",
    "b = np.array([6, 6, 6, 6])\n",
    "t = np.array([True, False, True, False])\n",
    "r = np.zeros_like(a)\n",
    "r[t] = a[t]\n",
    "r[~t] = b[~t]\n",
    "print(r)"
   ]
  },
  {
   "cell_type": "markdown",
   "id": "8ce8cacd-47e6-4f86-8a0b-93b7863a68a8",
   "metadata": {},
   "source": [
    "# Managing Timelapse files"
   ]
  },
  {
   "cell_type": "code",
   "execution_count": 142,
   "id": "61e28a02-2c8f-4b9d-8c27-1dbf96b1039f",
   "metadata": {},
   "outputs": [],
   "source": [
    "filepath = '../data/Houston/output/'\n",
    "files = os.listdir(filepath)\n",
    "files = [f for f in files if 'png' in f]\n",
    "occluded_files = [f for f in files if 'occluded' in f]\n",
    "spatial_files = [f for f in files if 'spatial' in f]\n",
    "temporal_files = [f for f in files if 'temporal' in f]\n",
    "st_files = [f for f in files if '_st' in f]\n",
    "assert len(occluded_files) == len(st_files)\n",
    "# print(occluded_files)\n",
    "\n",
    "if not p.exists(p.join(filepath, 'occluded')):\n",
    "    os.mkdir(p.join(filepath, 'occluded'))\n",
    "    os.mkdir(p.join(filepath, 'spatial'))\n",
    "    os.mkdir(p.join(filepath, 'temporal'))\n",
    "    os.mkdir(p.join(filepath, 'st'))"
   ]
  },
  {
   "cell_type": "code",
   "execution_count": 146,
   "id": "65bb320a-7fa9-4185-a0a5-8b2db473b0d6",
   "metadata": {},
   "outputs": [],
   "source": [
    "for f in occluded_files:\n",
    "    src = p.join(filepath, f)\n",
    "    dst = p.join(filepath, 'occluded', f)\n",
    "    shutil.copyfile(src, dst)\n",
    "\n",
    "for f in spatial_files:\n",
    "    src = p.join(filepath, f)\n",
    "    dst = p.join(filepath, 'spatial', f)\n",
    "    shutil.copyfile(src, dst)\n",
    "    \n",
    "for f in temporal_files:\n",
    "    src = p.join(filepath, f)\n",
    "    dst = p.join(filepath, 'temporal', f)\n",
    "    shutil.copyfile(src, dst)\n",
    "    \n",
    "for f in st_files:\n",
    "    src = p.join(filepath, f)\n",
    "    dst = p.join(filepath, 'st', f)\n",
    "    shutil.copyfile(src, dst)"
   ]
  },
  {
   "cell_type": "code",
   "execution_count": null,
   "id": "07ed3f36-eafa-44d1-bc0c-8e101f2c31ec",
   "metadata": {},
   "outputs": [],
   "source": []
  }
 ],
 "metadata": {
  "kernelspec": {
   "display_name": "Python 3 (ipykernel)",
   "language": "python",
   "name": "python3"
  },
  "language_info": {
   "codemirror_mode": {
    "name": "ipython",
    "version": 3
   },
   "file_extension": ".py",
   "mimetype": "text/x-python",
   "name": "python",
   "nbconvert_exporter": "python",
   "pygments_lexer": "ipython3",
   "version": "3.9.12"
  }
 },
 "nbformat": 4,
 "nbformat_minor": 5
}
