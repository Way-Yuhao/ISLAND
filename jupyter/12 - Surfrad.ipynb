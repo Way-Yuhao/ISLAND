{
 "cells": [
  {
   "cell_type": "code",
   "execution_count": 1,
   "id": "initial_id",
   "metadata": {
    "tags": []
   },
   "outputs": [],
   "source": [
    "import os\n",
    "service_prefix = ''\n",
    "os.environ['LOCALTILESERVER_CLIENT_PREFIX'] = f\"{service_prefix}/proxy/{{port}}\"\n",
    "import sys\n",
    "import ee\n",
    "import geemap\n",
    "import numpy as np\n",
    "import tqdm\n",
    "import cv2\n",
    "import seaborn as sns\n",
    "from datetime import datetime\n",
    "module_path = os.path.abspath(os.path.join('..'))\n",
    "if module_path not in sys.path:\n",
    "    sys.path.append(module_path)\n",
    "from omegaconf import DictConfig, OmegaConf\n",
    "import hydra\n",
    "from eval.surfrad import get_emis_at, read_surfrad_file_from_url, get_surfrad_surf_temp_at\n",
    "from util.ee_utils import get_landsat_capture_time, get_landsat_lst, cvt_lat_lon_to_path_row, query_geotiff"
   ]
  },
  {
   "cell_type": "markdown",
   "id": "e30a32f0-6905-4288-afdc-77debd61f48e",
   "metadata": {
    "tags": []
   },
   "source": [
    "# Extracting point pixel values from an EE Image"
   ]
  },
  {
   "cell_type": "markdown",
   "id": "5a696073-d2a7-49b5-aa27-4a11c00bfbf5",
   "metadata": {},
   "source": [
    "### Test on NLCD discrete pixel values"
   ]
  },
  {
   "cell_type": "code",
   "execution_count": 2,
   "id": "6a9e45e8-84a3-4243-b998-577e2bdb29d7",
   "metadata": {},
   "outputs": [
    {
     "data": {
      "application/vnd.jupyter.widget-view+json": {
       "model_id": "",
       "version_major": 2,
       "version_minor": 0
      },
      "text/plain": [
       "Map(center=[29.75765, -95.43495], controls=(WidgetControl(options=['position', 'transparent_bg'], widget=HBox(…"
      ]
     },
     "metadata": {},
     "output_type": "display_data"
    }
   ],
   "source": [
    "lon = -95.43495\n",
    "lat = 29.75765\n",
    "Map = geemap.Map()\n",
    "# Import the NLCD collection.\n",
    "dataset = ee.ImageCollection('USGS/NLCD_RELEASES/2019_REL/NLCD')\n",
    "# Filter the collection to the 2016 product.\n",
    "nlcd2019 = dataset.filter(ee.Filter.eq('system:index', '2019')).first()\n",
    "# Select the land cover band.\n",
    "landcover_2019 = nlcd2019.select('landcover')\n",
    "# Display land cover on the map.\n",
    "Map.setCenter(lon, lat, 20)\n",
    "Map.addLayer(landcover_2019, None, 'Landcover')\n",
    "Map"
   ]
  },
  {
   "cell_type": "code",
   "execution_count": 3,
   "id": "23ee5ea1-bed0-4796-bcda-432f48c5d796",
   "metadata": {},
   "outputs": [
    {
     "name": "stdout",
     "output_type": "stream",
     "text": [
      "90\n"
     ]
    }
   ],
   "source": [
    "point = ee.Geometry.Point(lon, lat)\n",
    "dataset = ee.ImageCollection('USGS/NLCD_RELEASES/2019_REL/NLCD')\n",
    "image = dataset.filter(ee.Filter.eq('system:index', '2019')).first()\n",
    "info = image.reduceRegion(ee.Reducer.first(), point, scale=30).getInfo()\n",
    "pixel_value = info['landcover']\n",
    "print(pixel_value)"
   ]
  },
  {
   "cell_type": "markdown",
   "id": "56292bde-d274-42ec-a1e2-ff04a2ee46cb",
   "metadata": {},
   "source": [
    "It works! Note that lon, lat value of 5 decimal points (0.00001 deg, or 1m) lead to accurate result"
   ]
  },
  {
   "cell_type": "markdown",
   "id": "3d039f26-98c8-4a34-bf31-6689bc4bd13b",
   "metadata": {},
   "source": [
    "## Test on ASTER GED"
   ]
  },
  {
   "cell_type": "markdown",
   "id": "dec52845-a9a7-4e1e-8f43-75d886fce836",
   "metadata": {},
   "source": [
    "Let's try Penn State station (PSU)"
   ]
  },
  {
   "cell_type": "code",
   "execution_count": 4,
   "id": "d244866d-6097-4201-a2ef-1a9409737b5d",
   "metadata": {},
   "outputs": [
    {
     "name": "stdout",
     "output_type": "stream",
     "text": [
      "lon: -77.93085, lat: 40.72012\n"
     ]
    }
   ],
   "source": [
    "config = OmegaConf.load('../config/surfrad.yaml')\n",
    "lon = config.stations.PSU.Longitude\n",
    "lat = config.stations.PSU.Latitude\n",
    "print(f'lon: {lon}, lat: {lat}') "
   ]
  },
  {
   "cell_type": "code",
   "execution_count": 5,
   "id": "468ce0e3-86f0-41a8-814b-44acc6c6052a",
   "metadata": {},
   "outputs": [
    {
     "data": {
      "application/vnd.jupyter.widget-view+json": {
       "model_id": "",
       "version_major": 2,
       "version_minor": 0
      },
      "text/plain": [
       "Map(center=[40.72012, -77.93085], controls=(WidgetControl(options=['position', 'transparent_bg'], widget=HBox(…"
      ]
     },
     "metadata": {},
     "output_type": "display_data"
    }
   ],
   "source": [
    "vis_params = {\n",
    "    'min': 0.9,   # Set the minimum emissivity value you expect to see\n",
    "    'max': 1.0,   # Set the maximum emissivity value you expect to see\n",
    "    'palette': ['blue', 'green', 'yellow', 'red']  # Define a color palette from low to high emissivity\n",
    "}\n",
    "\n",
    "Map = geemap.Map()\n",
    "Map.add_basemap('HYBRID')\n",
    "Map.setCenter(lon, lat, 20)\n",
    "image = ee.Image('NASA/ASTER_GED/AG100_003').select('emissivity_band10').multiply(0.001)\n",
    "Map.addLayer(image, vis_params, 'emis')\n",
    "Map"
   ]
  },
  {
   "cell_type": "code",
   "execution_count": 6,
   "id": "2207ccd2-d1ee-4f8a-854f-116ec1508b02",
   "metadata": {},
   "outputs": [
    {
     "name": "stdout",
     "output_type": "stream",
     "text": [
      "0.967 0.964 0.961 0.974 0.974\n"
     ]
    }
   ],
   "source": [
    "point = ee.Geometry.Point(lon, lat)\n",
    "image = ee.Image('NASA/ASTER_GED/AG100_003').multiply(0.001)\n",
    "info = image.reduceRegion(ee.Reducer.first(), point, scale=1).getInfo()\n",
    "emis_10 = info['emissivity_band10']\n",
    "emis_11 = info['emissivity_band11']\n",
    "emis_12 = info['emissivity_band12']\n",
    "emis_13 = info['emissivity_band13']\n",
    "emis_14 = info['emissivity_band14']\n",
    "print(emis_10, emis_11, emis_12, emis_13, emis_14)"
   ]
  },
  {
   "cell_type": "code",
   "execution_count": 7,
   "id": "80198347-fe99-4e79-8dcd-b3a4e86733ea",
   "metadata": {},
   "outputs": [
    {
     "name": "stdout",
     "output_type": "stream",
     "text": [
      "broadband_emis =  0.9716729999999999\n"
     ]
    }
   ],
   "source": [
    "broadband_emis = get_emis_at(lon, lat)\n",
    "print('broadband_emis = ', broadband_emis)"
   ]
  },
  {
   "cell_type": "markdown",
   "id": "1c5eff25-3059-4986-a9ad-53086005ec5a",
   "metadata": {},
   "source": [
    "## Test on user-uploaded image"
   ]
  },
  {
   "cell_type": "code",
   "execution_count": 67,
   "id": "c7db86fe-fe5f-4b26-9453-00384f0c0205",
   "metadata": {},
   "outputs": [
    {
     "data": {
      "application/vnd.jupyter.widget-view+json": {
       "model_id": "89ea25cc9e55436d9ff270ec5783eccb",
       "version_major": 2,
       "version_minor": 0
      },
      "text/plain": [
       "Map(center=[20, 0], controls=(WidgetControl(options=['position', 'transparent_bg'], widget=HBox(children=(Togg…"
      ]
     },
     "metadata": {},
     "output_type": "display_data"
    }
   ],
   "source": [
    "vis = {\n",
    "  'min': 270,\n",
    "  'max': 330,\n",
    "  'palette' : sns.color_palette('inferno', 20).as_hex(),\n",
    "}\n",
    "\n",
    "\n",
    "Map = geemap.Map()\n",
    "Map.add_basemap('HYBRID')\n",
    "img_path = '/home/yuhaoliu/Code/UrbanSurfTemp/data/Austin/lst/LC08_ST_B10_20170303.tif'\n",
    "output_path = '/home/yuhaoliu/Code/UrbanSurfTemp/data/Austin/output_referenced_f75/lst/20170303.tif'\n",
    "image = ee.Image(f'LANDSAT/LC08/C02/T1_L2/LC08_027039_20170303')\n",
    "Map.add_raster(img_path, palette=vis['palette'], vmax=vis['max'], vmin=vis['min'], layer_name='downloaded_lst')\n",
    "Map.add_raster(output_path, palette=vis['palette'], vmax=vis['max'], vmin=vis['min'], layer_name='output_lst')\n",
    "Map.addLayer(image.select('ST_B10').multiply(0.00341802).add(149), vis, 'landsat_lst')\n",
    "Map"
   ]
  },
  {
   "cell_type": "code",
   "execution_count": 69,
   "id": "255c6d12-1c5a-4b87-9545-5f7e804252e8",
   "metadata": {},
   "outputs": [
    {
     "name": "stdout",
     "output_type": "stream",
     "text": [
      "lon = -97.720814, lat = 30.375057\n",
      "LANDSAT LST = 299.60137922 K\n",
      "GeoTIFF LST = 299.53301882\n",
      "Output GeoTIFF LST = 299.53301882\n"
     ]
    }
   ],
   "source": [
    "meta_ = Map.user_rois.getInfo()\n",
    "coord = meta_['features'][0]['geometry']['coordinates']\n",
    "lon, lat = coord[0], coord[1]\n",
    "print(f'lon = {lon}, lat = {lat}')\n",
    "\n",
    "landsat_lst = get_landsat_lst(lon, lat, image=image)\n",
    "capture_time = get_landsat_capture_time(image=image)\n",
    "print(f'LANDSAT LST = {landsat_lst} K')\n",
    "geotiff_lst = query_geotiff(lon, lat, img_path)\n",
    "print(f'GeoTIFF LST = {geotiff_lst}')\n",
    "output_lst = query_geotiff(lon, lat, output_path)\n",
    "print(f'Output GeoTIFF LST = {output_lst}')"
   ]
  },
  {
   "cell_type": "markdown",
   "id": "65d9d65a-c71a-4a0a-a1cb-dac7246563eb",
   "metadata": {},
   "source": [
    "There is a pixel shift of about half a pixel (15m) between original LANDSAT image and the cropped & downloaded landsat image.</br>\n",
    "There is no shfit between downloaded image and island output"
   ]
  },
  {
   "cell_type": "markdown",
   "id": "ac84f61f-a7f8-4445-a9d2-73cf54813df3",
   "metadata": {},
   "source": [
    "#### What about SURFRAD sites?"
   ]
  },
  {
   "cell_type": "code",
   "execution_count": null,
   "id": "8c304f95-bffc-47c1-8eb5-c1489bc83ada",
   "metadata": {},
   "outputs": [],
   "source": [
    "Map.set_center(lon, lat, 17)"
   ]
  },
  {
   "cell_type": "code",
   "execution_count": 2,
   "id": "5678cd6b-ef35-46ad-a345-6bd6b75431b6",
   "metadata": {},
   "outputs": [
    {
     "data": {
      "application/vnd.jupyter.widget-view+json": {
       "model_id": "c044151d8ef04506a81849f84f3a0859",
       "version_major": 2,
       "version_minor": 0
      },
      "text/plain": [
       "Map(center=[20, 0], controls=(WidgetControl(options=['position', 'transparent_bg'], widget=HBox(children=(Togg…"
      ]
     },
     "metadata": {},
     "output_type": "display_data"
    }
   ],
   "source": [
    "vis = {\n",
    "  'min': 280,\n",
    "  'max': 340,\n",
    "  'palette' : sns.color_palette('inferno', 20).as_hex(),\n",
    "}\n",
    "config = OmegaConf.load('../config/surfrad.yaml')\n",
    "station_id = 'BND'\n",
    "date_ = '20170611'\n",
    "lon = config['stations'][station_id]['Longitude']\n",
    "lat = config['stations'][station_id]['Latitude']\n",
    "scene_id = config['stations'][station_id]['scene_id']\n",
    "Map = geemap.Map()\n",
    "Map.add_basemap('HYBRID')\n",
    "img_path = f'/home/yuhaoliu/Code/UrbanSurfTemp/data/{station_id}/lst/LC08_ST_B10_{date_}.tif'\n",
    "# output_path = '/home/yuhaoliu/Code/UrbanSurfTemp/data/Austin/output_referenced_f75/lst/20170303.tif'\n",
    "image = ee.Image(f'LANDSAT/LC08/C02/T1_L2/LC08_{scene_id}_{date_}')\n",
    "Map.add_raster(img_path, palette=vis['palette'], vmax=vis['max'], vmin=vis['min'], layer_name='downloaded_lst')\n",
    "Map.addLayer(image.select('ST_B10').multiply(0.00341802).add(149), vis, 'landsat_lst')\n",
    "Map"
   ]
  },
  {
   "cell_type": "code",
   "execution_count": 82,
   "id": "a3da6bbb-65fc-4060-9601-e1eefe3c7971",
   "metadata": {},
   "outputs": [
    {
     "name": "stdout",
     "output_type": "stream",
     "text": [
      "lon = -88.373294, lat = 40.05213\n",
      "LANDSAT LST = 314.90385476 K\n",
      "GeoTIFF LST = 314.16214442\n"
     ]
    }
   ],
   "source": [
    "meta_ = Map.user_rois.getInfo()\n",
    "coord = meta_['features'][0]['geometry']['coordinates']\n",
    "lon, lat = coord[0], coord[1]\n",
    "print(f'lon = {lon}, lat = {lat}')\n",
    "\n",
    "landsat_lst = get_landsat_lst(lon, lat, image=image)\n",
    "capture_time = get_landsat_capture_time(image=image)\n",
    "print(f'LANDSAT LST = {landsat_lst} K')\n",
    "geotiff_lst = query_geotiff(lon, lat, img_path)\n",
    "print(f'GeoTIFF LST = {geotiff_lst}')"
   ]
  },
  {
   "cell_type": "code",
   "execution_count": 53,
   "id": "52963def-0fa1-4ec1-9fe1-51135f9b15b5",
   "metadata": {},
   "outputs": [
    {
     "data": {
      "text/plain": [
       "[30, 0, 495885, 0, -30, 3468915]"
      ]
     },
     "execution_count": 53,
     "metadata": {},
     "output_type": "execute_result"
    }
   ],
   "source": [
    "#nah\n",
    "image.projection().getInfo()['transform']"
   ]
  },
  {
   "cell_type": "code",
   "execution_count": 57,
   "id": "131bcf54-11e2-4365-bf0f-2e6518f4e447",
   "metadata": {},
   "outputs": [
    {
     "name": "stdout",
     "output_type": "stream",
     "text": [
      "Generating URL ...\n",
      "An error occurred while downloading.\n",
      "Total request size (172158180 bytes) must be less than or equal to 50331648 bytes.\n"
     ]
    }
   ],
   "source": [
    "geemap.ee_export_image(image.select('ST_B10'), \n",
    "                       filename='/home/yuhaoliu/Code/UrbanSurfTemp/tmp/test.tif', \n",
    "                       # scale=30, \n",
    "                       region=\"[[[-97.879991, 30.157262], [-97.562735, 30.157262], [-97.562735, 30.580256], [-97.879991, 30.580256], [-97.879991, 30.157262]]]\",\n",
    "                       crs=image.projection().getInfo()['crs'],\n",
    "                       crs_transform = image.projection().getInfo()['transform'],\n",
    "                       file_per_band=False)"
   ]
  },
  {
   "cell_type": "code",
   "execution_count": 64,
   "id": "f2234d11-a931-4632-bd8b-7ff45b412f2b",
   "metadata": {},
   "outputs": [],
   "source": [
    "# this works, without region clip\n",
    "geemap.ee_export_image_to_drive(image.select('ST_B10'),\n",
    "                                description='landsat', folder='export2',\n",
    "                       # filename='/home/yuhaoliu/Code/UrbanSurfTemp/tmp/test.tif', \n",
    "                       # scale=30, \n",
    "                       # region=\"[[[-97.879991, 30.157262], [-97.562735, 30.157262], [-97.562735, 30.580256], [-97.879991, 30.580256], [-97.879991, 30.157262]]]\",\n",
    "                       crs=image.projection().getInfo()['crs'],\n",
    "                       crs_transform = image.projection().getInfo()['transform'])"
   ]
  },
  {
   "cell_type": "code",
   "execution_count": 65,
   "id": "999c872c-33b9-4b34-b3a1-8e7c3e397b24",
   "metadata": {},
   "outputs": [
    {
     "data": {
      "application/vnd.jupyter.widget-view+json": {
       "model_id": "b5e3f3f21e184165b941cc48a7a822e8",
       "version_major": 2,
       "version_minor": 0
      },
      "text/plain": [
       "Map(center=[20, 0], controls=(WidgetControl(options=['position', 'transparent_bg'], widget=HBox(children=(Togg…"
      ]
     },
     "metadata": {},
     "output_type": "display_data"
    }
   ],
   "source": [
    "Map = geemap.Map()\n",
    "Map.add_basemap('HYBRID')\n",
    "image = ee.Image(f'LANDSAT/LC08/C02/T1_L2/LC08_027039_20170303')\n",
    "tmp_raster_path = '/home/yuhaoliu/Code/UrbanSurfTemp/tmp/entire_img.tif'\n",
    "tmp_raster_path2 = '/home/yuhaoliu/Code/UrbanSurfTemp/tmp/test_mis_aligned.tif'\n",
    "Map.addLayer(image.select('ST_B10').multiply(0.00341802).add(149), vis, 'landsat_lst')\n",
    "Map.add_raster(tmp_raster_path, palette=vis['palette'], vmax=vis['max'], vmin=vis['min'], layer_name='tmp_lst')\n",
    "Map.add_raster(tmp_raster_path2, palette=vis['palette'], vmax=vis['max'], vmin=vis['min'], layer_name='tmp_lst_mis')\n",
    "Map"
   ]
  },
  {
   "cell_type": "markdown",
   "id": "85bf6fb7-87de-4d63-ba63-442f43de880b",
   "metadata": {},
   "source": [
    "# SURFRAD Validation"
   ]
  },
  {
   "cell_type": "markdown",
   "id": "55d2ec96-a9bf-485a-9c4d-2c4518b5eb18",
   "metadata": {},
   "source": [
    "## What is the ASTER GEDv3 Emissivity for all SURFRAD stations?"
   ]
  },
  {
   "cell_type": "code",
   "execution_count": 11,
   "id": "68c49201-e085-4059-aaa3-0b8f3d06884e",
   "metadata": {},
   "outputs": [
    {
     "name": "stdout",
     "output_type": "stream",
     "text": [
      "BND station broadband emissivity = 0.9751\n",
      "TBL station broadband emissivity = 0.9711\n",
      "DRA station broadband emissivity = 0.9698\n",
      "FPK station broadband emissivity = 0.9791\n",
      "GWN station broadband emissivity = 0.9690\n",
      "PSU station broadband emissivity = 0.9717\n",
      "SXF station broadband emissivity = 0.9727\n",
      "SGP station broadband emissivity = 0.9743\n"
     ]
    }
   ],
   "source": [
    "for station in config.stations:\n",
    "    lon = config['stations'][station]['Longitude']\n",
    "    lat = config['stations'][station]['Latitude']\n",
    "    emis = get_emis_at(lon, lat)\n",
    "    print(f'{station} station broadband emissivity = {emis:.4f}')"
   ]
  },
  {
   "cell_type": "markdown",
   "id": "be7e7142-9bc9-4b69-8ec0-8f6891c8a416",
   "metadata": {},
   "source": [
    "## What does the land cover looklike at SURFRAD stations?"
   ]
  },
  {
   "cell_type": "code",
   "execution_count": 12,
   "id": "7b6488b7-02e6-4bff-8272-9551989f1ad9",
   "metadata": {},
   "outputs": [
    {
     "data": {
      "application/vnd.jupyter.widget-view+json": {
       "model_id": "d257cf5b3b97436b873fa3c07f6a941f",
       "version_major": 2,
       "version_minor": 0
      },
      "text/plain": [
       "Map(center=[40.72012, -77.93085], controls=(WidgetControl(options=['position', 'transparent_bg'], widget=HBox(…"
      ]
     },
     "metadata": {},
     "output_type": "display_data"
    }
   ],
   "source": [
    "Map = geemap.Map()\n",
    "Map.add_basemap('HYBRID')\n",
    "# Import the NLCD collection.\n",
    "dataset = ee.ImageCollection('USGS/NLCD_RELEASES/2019_REL/NLCD')\n",
    "\n",
    "# Filter the collection to the 2016 product.\n",
    "nlcd2019 = dataset.filter(ee.Filter.eq('system:index', '2019')).first()\n",
    "\n",
    "# Select the land cover band.\n",
    "landcover_2019 = nlcd2019.select('landcover')\n",
    "\n",
    "# Display land cover on the map.\n",
    "lon = config.stations.PSU.Longitude\n",
    "lat = config.stations.PSU.Latitude\n",
    "Map.setCenter(lon, lat, 15)\n",
    "Map.addLayer(landcover_2019, None, 'Landcover')\n",
    "Map"
   ]
  },
  {
   "cell_type": "markdown",
   "id": "a17f43bb-1f4b-48d7-a04d-243da3a85a55",
   "metadata": {},
   "source": [
    "Not diverse at all..."
   ]
  },
  {
   "cell_type": "markdown",
   "id": "e6182d3c-b1d5-4110-80a9-0bcca7392f22",
   "metadata": {},
   "source": [
    "## Compare SURFRAD with LANDSAT on a clear day"
   ]
  },
  {
   "cell_type": "markdown",
   "id": "2e06b307-0b8a-4c31-bd9c-662c5559f6aa",
   "metadata": {},
   "source": [
    "We use (lon, lat) -> (path, row) converter here: https://landsat.usgs.gov/landsat_acq#convertPathRow </br>\n",
    "For PSU, we have Path: 16, Row: 32"
   ]
  },
  {
   "cell_type": "code",
   "execution_count": 3,
   "id": "cd020f60-1e70-45b5-8ddb-7222693c7118",
   "metadata": {},
   "outputs": [
    {
     "data": {
      "application/vnd.jupyter.widget-view+json": {
       "model_id": "06d1644cafa144029dedb19675f29558",
       "version_major": 2,
       "version_minor": 0
      },
      "text/plain": [
       "Map(center=[40.72012, -77.93085], controls=(WidgetControl(options=['position', 'transparent_bg'], widget=HBox(…"
      ]
     },
     "metadata": {},
     "output_type": "display_data"
    }
   ],
   "source": [
    "vis = {\n",
    "  'min': 250,\n",
    "  'max': 300,\n",
    "  'palette' : sns.color_palette('inferno', 20).as_hex(),\n",
    "}\n",
    "\n",
    "\n",
    "Map = geemap.Map()\n",
    "Map.setCenter(lon, lat, 15)\n",
    "Map.add_basemap('HYBRID')\n",
    "date_ = '20191123'\n",
    "landsat = ee.Image(f'LANDSAT/LC08/C02/T1_L2/LC08_016032_{date_}').select('ST_B10').multiply(0.00341802).add(149)\n",
    "Map.addLayer(landsat, vis)\n",
    "Map"
   ]
  },
  {
   "cell_type": "markdown",
   "id": "120ab3fe-5fce-41aa-a362-a1fb1bfe1c92",
   "metadata": {
    "jp-MarkdownHeadingCollapsed": true,
    "tags": []
   },
   "source": [
    "### dev"
   ]
  },
  {
   "cell_type": "code",
   "execution_count": 14,
   "id": "f6f4c5cd-82f7-4d7f-b87e-d6bedfa7f6a5",
   "metadata": {},
   "outputs": [
    {
     "name": "stdout",
     "output_type": "stream",
     "text": [
      "LST in kelvin via LANDSAT 8:  278.35838492\n"
     ]
    }
   ],
   "source": [
    "point = ee.Geometry.Point(lon, lat)\n",
    "info = landsat.reduceRegion(ee.Reducer.first(), point, scale=30).getInfo()\n",
    "pixel_value = info['ST_B10']\n",
    "print('LST in kelvin via LANDSAT 8: ', pixel_value)"
   ]
  },
  {
   "cell_type": "code",
   "execution_count": 10,
   "id": "071c6441-7972-4ec2-ac87-d2647f2a4cdc",
   "metadata": {},
   "outputs": [
    {
     "ename": "NameError",
     "evalue": "name 'date_' is not defined",
     "output_type": "error",
     "traceback": [
      "\u001b[0;31m---------------------------------------------------------------------------\u001b[0m",
      "\u001b[0;31mNameError\u001b[0m                                 Traceback (most recent call last)",
      "Cell \u001b[0;32mIn [10], line 1\u001b[0m\n\u001b[0;32m----> 1\u001b[0m image  \u001b[38;5;241m=\u001b[39m ee\u001b[38;5;241m.\u001b[39mImage(\u001b[38;5;124mf\u001b[39m\u001b[38;5;124m'\u001b[39m\u001b[38;5;124mLANDSAT/LC08/C02/T1_L2/LC08_016032_\u001b[39m\u001b[38;5;132;01m{\u001b[39;00mdate_\u001b[38;5;132;01m}\u001b[39;00m\u001b[38;5;124m'\u001b[39m)\n\u001b[1;32m      2\u001b[0m \u001b[38;5;66;03m# Get the capture time\u001b[39;00m\n\u001b[1;32m      3\u001b[0m capture_time \u001b[38;5;241m=\u001b[39m image\u001b[38;5;241m.\u001b[39mget(\u001b[38;5;124m'\u001b[39m\u001b[38;5;124msystem:time_start\u001b[39m\u001b[38;5;124m'\u001b[39m)\n",
      "\u001b[0;31mNameError\u001b[0m: name 'date_' is not defined"
     ]
    }
   ],
   "source": [
    "image  = ee.Image(f'LANDSAT/LC08/C02/T1_L2/LC08_016032_{date_}')\n",
    "# Get the capture time\n",
    "capture_time = image.get('system:time_start')\n",
    "# Retrieve the value from the server\n",
    "capture_time_info = capture_time.getInfo()\n",
    "# Convert the timestamp to minutes, round it, and then convert back to milliseconds\n",
    "rounded_time = ee.Number(capture_time_info).divide(1000 * 60).round().multiply(1000 * 60)\n",
    "# Convert the rounded timestamp to a readable date\n",
    "rounded_date = ee.Date(rounded_time).format('YYYY-MM-dd HH:mm').getInfo()\n",
    "dt = datetime.strptime(rounded_date, '%Y-%m-%d %H:%M')\n",
    "print(dt)"
   ]
  },
  {
   "cell_type": "code",
   "execution_count": 76,
   "id": "1e055954-8d67-465b-9800-ddb8c671e938",
   "metadata": {},
   "outputs": [
    {
     "data": {
      "text/plain": [
       "327"
      ]
     },
     "execution_count": 76,
     "metadata": {},
     "output_type": "execute_result"
    }
   ],
   "source": [
    "# getting jday\n",
    "dt.timetuple().tm_yday"
   ]
  },
  {
   "cell_type": "code",
   "execution_count": 90,
   "id": "eb5f7045-04bc-4c4a-93a4-41c8c3270453",
   "metadata": {},
   "outputs": [
    {
     "name": "stdout",
     "output_type": "stream",
     "text": [
      "https://gml.noaa.gov/aftp/data/radiation/surfrad/psu/2019/psu19327.dat\n"
     ]
    },
    {
     "data": {
      "text/html": [
       "<div>\n",
       "<style scoped>\n",
       "    .dataframe tbody tr th:only-of-type {\n",
       "        vertical-align: middle;\n",
       "    }\n",
       "\n",
       "    .dataframe tbody tr th {\n",
       "        vertical-align: top;\n",
       "    }\n",
       "\n",
       "    .dataframe thead th {\n",
       "        text-align: right;\n",
       "    }\n",
       "</style>\n",
       "<table border=\"1\" class=\"dataframe\">\n",
       "  <thead>\n",
       "    <tr style=\"text-align: right;\">\n",
       "      <th></th>\n",
       "      <th>year</th>\n",
       "      <th>jday</th>\n",
       "      <th>month</th>\n",
       "      <th>day</th>\n",
       "      <th>hour</th>\n",
       "      <th>min</th>\n",
       "      <th>dt</th>\n",
       "      <th>zen</th>\n",
       "      <th>dw_solar</th>\n",
       "      <th>qc_dwsolar</th>\n",
       "      <th>...</th>\n",
       "      <th>windspd</th>\n",
       "      <th>qc_windspd</th>\n",
       "      <th>winddir</th>\n",
       "      <th>qc_winddir</th>\n",
       "      <th>pressure</th>\n",
       "      <th>qc_pressure</th>\n",
       "      <th>station_name</th>\n",
       "      <th>latitude</th>\n",
       "      <th>longitude</th>\n",
       "      <th>elevation</th>\n",
       "    </tr>\n",
       "  </thead>\n",
       "  <tbody>\n",
       "    <tr>\n",
       "      <th>0</th>\n",
       "      <td>2019</td>\n",
       "      <td>327</td>\n",
       "      <td>11</td>\n",
       "      <td>23</td>\n",
       "      <td>0</td>\n",
       "      <td>0</td>\n",
       "      <td>0.000</td>\n",
       "      <td>114.48</td>\n",
       "      <td>-1.7</td>\n",
       "      <td>0</td>\n",
       "      <td>...</td>\n",
       "      <td>3.8</td>\n",
       "      <td>0</td>\n",
       "      <td>304.7</td>\n",
       "      <td>0</td>\n",
       "      <td>973.2</td>\n",
       "      <td>0</td>\n",
       "      <td>Penn State</td>\n",
       "      <td>40.72</td>\n",
       "      <td>376.0</td>\n",
       "      <td>1.0</td>\n",
       "    </tr>\n",
       "    <tr>\n",
       "      <th>1</th>\n",
       "      <td>2019</td>\n",
       "      <td>327</td>\n",
       "      <td>11</td>\n",
       "      <td>23</td>\n",
       "      <td>0</td>\n",
       "      <td>1</td>\n",
       "      <td>0.017</td>\n",
       "      <td>114.67</td>\n",
       "      <td>-1.7</td>\n",
       "      <td>0</td>\n",
       "      <td>...</td>\n",
       "      <td>4.8</td>\n",
       "      <td>0</td>\n",
       "      <td>297.3</td>\n",
       "      <td>0</td>\n",
       "      <td>973.2</td>\n",
       "      <td>0</td>\n",
       "      <td>Penn State</td>\n",
       "      <td>40.72</td>\n",
       "      <td>376.0</td>\n",
       "      <td>1.0</td>\n",
       "    </tr>\n",
       "    <tr>\n",
       "      <th>2</th>\n",
       "      <td>2019</td>\n",
       "      <td>327</td>\n",
       "      <td>11</td>\n",
       "      <td>23</td>\n",
       "      <td>0</td>\n",
       "      <td>2</td>\n",
       "      <td>0.033</td>\n",
       "      <td>114.86</td>\n",
       "      <td>-1.7</td>\n",
       "      <td>0</td>\n",
       "      <td>...</td>\n",
       "      <td>4.7</td>\n",
       "      <td>0</td>\n",
       "      <td>284.8</td>\n",
       "      <td>0</td>\n",
       "      <td>973.2</td>\n",
       "      <td>0</td>\n",
       "      <td>Penn State</td>\n",
       "      <td>40.72</td>\n",
       "      <td>376.0</td>\n",
       "      <td>1.0</td>\n",
       "    </tr>\n",
       "    <tr>\n",
       "      <th>3</th>\n",
       "      <td>2019</td>\n",
       "      <td>327</td>\n",
       "      <td>11</td>\n",
       "      <td>23</td>\n",
       "      <td>0</td>\n",
       "      <td>3</td>\n",
       "      <td>0.050</td>\n",
       "      <td>115.05</td>\n",
       "      <td>-1.7</td>\n",
       "      <td>0</td>\n",
       "      <td>...</td>\n",
       "      <td>2.9</td>\n",
       "      <td>0</td>\n",
       "      <td>294.3</td>\n",
       "      <td>0</td>\n",
       "      <td>973.3</td>\n",
       "      <td>0</td>\n",
       "      <td>Penn State</td>\n",
       "      <td>40.72</td>\n",
       "      <td>376.0</td>\n",
       "      <td>1.0</td>\n",
       "    </tr>\n",
       "    <tr>\n",
       "      <th>4</th>\n",
       "      <td>2019</td>\n",
       "      <td>327</td>\n",
       "      <td>11</td>\n",
       "      <td>23</td>\n",
       "      <td>0</td>\n",
       "      <td>4</td>\n",
       "      <td>0.067</td>\n",
       "      <td>115.24</td>\n",
       "      <td>-1.7</td>\n",
       "      <td>0</td>\n",
       "      <td>...</td>\n",
       "      <td>3.6</td>\n",
       "      <td>0</td>\n",
       "      <td>311.1</td>\n",
       "      <td>0</td>\n",
       "      <td>973.3</td>\n",
       "      <td>0</td>\n",
       "      <td>Penn State</td>\n",
       "      <td>40.72</td>\n",
       "      <td>376.0</td>\n",
       "      <td>1.0</td>\n",
       "    </tr>\n",
       "    <tr>\n",
       "      <th>...</th>\n",
       "      <td>...</td>\n",
       "      <td>...</td>\n",
       "      <td>...</td>\n",
       "      <td>...</td>\n",
       "      <td>...</td>\n",
       "      <td>...</td>\n",
       "      <td>...</td>\n",
       "      <td>...</td>\n",
       "      <td>...</td>\n",
       "      <td>...</td>\n",
       "      <td>...</td>\n",
       "      <td>...</td>\n",
       "      <td>...</td>\n",
       "      <td>...</td>\n",
       "      <td>...</td>\n",
       "      <td>...</td>\n",
       "      <td>...</td>\n",
       "      <td>...</td>\n",
       "      <td>...</td>\n",
       "      <td>...</td>\n",
       "      <td>...</td>\n",
       "    </tr>\n",
       "    <tr>\n",
       "      <th>1435</th>\n",
       "      <td>2019</td>\n",
       "      <td>327</td>\n",
       "      <td>11</td>\n",
       "      <td>23</td>\n",
       "      <td>23</td>\n",
       "      <td>55</td>\n",
       "      <td>23.917</td>\n",
       "      <td>113.62</td>\n",
       "      <td>-1.3</td>\n",
       "      <td>0</td>\n",
       "      <td>...</td>\n",
       "      <td>1.8</td>\n",
       "      <td>0</td>\n",
       "      <td>39.7</td>\n",
       "      <td>0</td>\n",
       "      <td>962.8</td>\n",
       "      <td>0</td>\n",
       "      <td>Penn State</td>\n",
       "      <td>40.72</td>\n",
       "      <td>376.0</td>\n",
       "      <td>1.0</td>\n",
       "    </tr>\n",
       "    <tr>\n",
       "      <th>1436</th>\n",
       "      <td>2019</td>\n",
       "      <td>327</td>\n",
       "      <td>11</td>\n",
       "      <td>23</td>\n",
       "      <td>23</td>\n",
       "      <td>56</td>\n",
       "      <td>23.933</td>\n",
       "      <td>113.80</td>\n",
       "      <td>-1.3</td>\n",
       "      <td>0</td>\n",
       "      <td>...</td>\n",
       "      <td>1.9</td>\n",
       "      <td>0</td>\n",
       "      <td>97.9</td>\n",
       "      <td>0</td>\n",
       "      <td>962.8</td>\n",
       "      <td>0</td>\n",
       "      <td>Penn State</td>\n",
       "      <td>40.72</td>\n",
       "      <td>376.0</td>\n",
       "      <td>1.0</td>\n",
       "    </tr>\n",
       "    <tr>\n",
       "      <th>1437</th>\n",
       "      <td>2019</td>\n",
       "      <td>327</td>\n",
       "      <td>11</td>\n",
       "      <td>23</td>\n",
       "      <td>23</td>\n",
       "      <td>57</td>\n",
       "      <td>23.950</td>\n",
       "      <td>113.99</td>\n",
       "      <td>-1.3</td>\n",
       "      <td>0</td>\n",
       "      <td>...</td>\n",
       "      <td>1.4</td>\n",
       "      <td>0</td>\n",
       "      <td>129.6</td>\n",
       "      <td>0</td>\n",
       "      <td>962.8</td>\n",
       "      <td>0</td>\n",
       "      <td>Penn State</td>\n",
       "      <td>40.72</td>\n",
       "      <td>376.0</td>\n",
       "      <td>1.0</td>\n",
       "    </tr>\n",
       "    <tr>\n",
       "      <th>1438</th>\n",
       "      <td>2019</td>\n",
       "      <td>327</td>\n",
       "      <td>11</td>\n",
       "      <td>23</td>\n",
       "      <td>23</td>\n",
       "      <td>58</td>\n",
       "      <td>23.967</td>\n",
       "      <td>114.18</td>\n",
       "      <td>-1.3</td>\n",
       "      <td>0</td>\n",
       "      <td>...</td>\n",
       "      <td>0.6</td>\n",
       "      <td>0</td>\n",
       "      <td>150.1</td>\n",
       "      <td>0</td>\n",
       "      <td>962.7</td>\n",
       "      <td>0</td>\n",
       "      <td>Penn State</td>\n",
       "      <td>40.72</td>\n",
       "      <td>376.0</td>\n",
       "      <td>1.0</td>\n",
       "    </tr>\n",
       "    <tr>\n",
       "      <th>1439</th>\n",
       "      <td>2019</td>\n",
       "      <td>327</td>\n",
       "      <td>11</td>\n",
       "      <td>23</td>\n",
       "      <td>23</td>\n",
       "      <td>59</td>\n",
       "      <td>23.983</td>\n",
       "      <td>114.37</td>\n",
       "      <td>-1.3</td>\n",
       "      <td>0</td>\n",
       "      <td>...</td>\n",
       "      <td>2.5</td>\n",
       "      <td>0</td>\n",
       "      <td>114.7</td>\n",
       "      <td>0</td>\n",
       "      <td>962.8</td>\n",
       "      <td>0</td>\n",
       "      <td>Penn State</td>\n",
       "      <td>40.72</td>\n",
       "      <td>376.0</td>\n",
       "      <td>1.0</td>\n",
       "    </tr>\n",
       "  </tbody>\n",
       "</table>\n",
       "<p>1440 rows × 52 columns</p>\n",
       "</div>"
      ],
      "text/plain": [
       "      year  jday  month  day  hour  min      dt     zen  dw_solar  qc_dwsolar  \\\n",
       "0     2019   327     11   23     0    0   0.000  114.48      -1.7           0   \n",
       "1     2019   327     11   23     0    1   0.017  114.67      -1.7           0   \n",
       "2     2019   327     11   23     0    2   0.033  114.86      -1.7           0   \n",
       "3     2019   327     11   23     0    3   0.050  115.05      -1.7           0   \n",
       "4     2019   327     11   23     0    4   0.067  115.24      -1.7           0   \n",
       "...    ...   ...    ...  ...   ...  ...     ...     ...       ...         ...   \n",
       "1435  2019   327     11   23    23   55  23.917  113.62      -1.3           0   \n",
       "1436  2019   327     11   23    23   56  23.933  113.80      -1.3           0   \n",
       "1437  2019   327     11   23    23   57  23.950  113.99      -1.3           0   \n",
       "1438  2019   327     11   23    23   58  23.967  114.18      -1.3           0   \n",
       "1439  2019   327     11   23    23   59  23.983  114.37      -1.3           0   \n",
       "\n",
       "      ...  windspd  qc_windspd  winddir  qc_winddir  pressure  qc_pressure  \\\n",
       "0     ...      3.8           0    304.7           0     973.2            0   \n",
       "1     ...      4.8           0    297.3           0     973.2            0   \n",
       "2     ...      4.7           0    284.8           0     973.2            0   \n",
       "3     ...      2.9           0    294.3           0     973.3            0   \n",
       "4     ...      3.6           0    311.1           0     973.3            0   \n",
       "...   ...      ...         ...      ...         ...       ...          ...   \n",
       "1435  ...      1.8           0     39.7           0     962.8            0   \n",
       "1436  ...      1.9           0     97.9           0     962.8            0   \n",
       "1437  ...      1.4           0    129.6           0     962.8            0   \n",
       "1438  ...      0.6           0    150.1           0     962.7            0   \n",
       "1439  ...      2.5           0    114.7           0     962.8            0   \n",
       "\n",
       "      station_name  latitude  longitude  elevation  \n",
       "0       Penn State     40.72      376.0        1.0  \n",
       "1       Penn State     40.72      376.0        1.0  \n",
       "2       Penn State     40.72      376.0        1.0  \n",
       "3       Penn State     40.72      376.0        1.0  \n",
       "4       Penn State     40.72      376.0        1.0  \n",
       "...            ...       ...        ...        ...  \n",
       "1435    Penn State     40.72      376.0        1.0  \n",
       "1436    Penn State     40.72      376.0        1.0  \n",
       "1437    Penn State     40.72      376.0        1.0  \n",
       "1438    Penn State     40.72      376.0        1.0  \n",
       "1439    Penn State     40.72      376.0        1.0  \n",
       "\n",
       "[1440 rows x 52 columns]"
      ]
     },
     "execution_count": 90,
     "metadata": {},
     "output_type": "execute_result"
    }
   ],
   "source": [
    "station_id = 'psu'\n",
    "year_ = dt.year\n",
    "year2 = str(dt.year)[-2:]\n",
    "jday = dt.timetuple().tm_yday\n",
    "url = f'https://gml.noaa.gov/aftp/data/radiation/surfrad/{station_id}/{dt.year}/{station_id}{year2}{jday}.dat'\n",
    "print(url)\n",
    "df = read_surfrad_file_from_url(config, url)\n",
    "df"
   ]
  },
  {
   "cell_type": "code",
   "execution_count": 106,
   "id": "375e5246-077b-4d6e-a25c-0d3fe7da1eae",
   "metadata": {},
   "outputs": [
    {
     "name": "stdout",
     "output_type": "stream",
     "text": [
      "upwelling thermal infrared (Watts m^-2):  347.9\n",
      "downwelling thermal infrared (Watts m^-2):  228.8\n",
      "10-m air temperature (Celcius):  2.4\n"
     ]
    }
   ],
   "source": [
    "row = df[df['hour'] == dt.hour]\n",
    "row = row[row['min'] == dt.minute]\n",
    "uw_ir = row['uw_ir'].iloc[0]\n",
    "dw_ir = row['dw_ir'].iloc[0]\n",
    "air_temp = row['temp'].iloc[0]\n",
    "print('upwelling thermal infrared (Watts m^-2): ', uw_ir)\n",
    "print('downwelling thermal infrared (Watts m^-2): ', dw_ir)\n",
    "print('10-m air temperature (Celcius): ', air_temp)"
   ]
  },
  {
   "cell_type": "code",
   "execution_count": 117,
   "id": "17ba51e2-ad0a-486b-a4da-6167840e7f61",
   "metadata": {},
   "outputs": [
    {
     "name": "stdout",
     "output_type": "stream",
     "text": [
      "SURFRAD LST:  280.56848324625804\n",
      "LST in kelvin via LANDSAT 8:  278.35838492\n",
      "error =  2.2100983262580485\n"
     ]
    }
   ],
   "source": [
    "def calc_lst(emis, sigma, uw_ir, dw_ir):\n",
    "    lst = ((1 / (emis * sigma)) * (uw_ir - (1-emis) * dw_ir))**0.25\n",
    "    return lst\n",
    "\n",
    "sigma = 5.670374419e-8 # Stefan–Boltzmann constant\n",
    "lst = calc_lst(broadband_emis, sigma, uw_ir, dw_ir)\n",
    "print('SURFRAD LST: ', lst)\n",
    "print('LST in kelvin via LANDSAT 8: ', pixel_value)\n",
    "print('error = ', lst - pixel_value)"
   ]
  },
  {
   "cell_type": "markdown",
   "id": "2adc5cbe-8861-4495-a33b-d6b0e7844e76",
   "metadata": {},
   "source": [
    "### Results"
   ]
  },
  {
   "cell_type": "code",
   "execution_count": 2,
   "id": "32fd477e-3dac-464d-b9d2-cc860a12484d",
   "metadata": {},
   "outputs": [
    {
     "name": "stdout",
     "output_type": "stream",
     "text": [
      "LANDSAT LST = 278.35838492 K\n",
      "SURFRAD LST = 280.5678033598088 K\n"
     ]
    }
   ],
   "source": [
    "ee.Initialize()\n",
    "config = OmegaConf.load('../config/surfrad.yaml')\n",
    "lon = config.stations.PSU.Longitude\n",
    "lat = config.stations.PSU.Latitude\n",
    "date_ = '20191123'\n",
    "image  = ee.Image(f'LANDSAT/LC08/C02/T1_L2/LC08_016032_{date_}')\n",
    "landsat_lst = get_landsat_lst(lon, lat, image=image)\n",
    "capture_time = get_landsat_capture_time(image=image)\n",
    "print(f'LANDSAT LST = {landsat_lst} K')\n",
    "surfrad_lst = get_surfrad_surf_temp_at('PSU', capture_time)\n",
    "print(f'SURFRAD LST = {surfrad_lst} K')"
   ]
  },
  {
   "cell_type": "code",
   "execution_count": null,
   "id": "aefc0b5c-0b78-4d86-81dd-7744b02746d0",
   "metadata": {},
   "outputs": [],
   "source": [
    "# a different day\n",
    "Map = geemap.Map()\n",
    "Map.setCenter(lon, lat, 17)\n",
    "Map.add_basemap('HYBRID')\n",
    "date_ = '20190515'\n",
    "landsat = ee.Image(f'LANDSAT/LC08/C02/T1_L2/LC08_016032_{date_}').select('ST_B10').multiply(0.00341802).add(149)\n",
    "Map.addLayer(landsat, vis)\n",
    "Map"
   ]
  },
  {
   "cell_type": "code",
   "execution_count": 8,
   "id": "03cbb1fe-f8fd-47d4-9bbc-352681af1dfb",
   "metadata": {},
   "outputs": [
    {
     "name": "stdout",
     "output_type": "stream",
     "text": [
      "LANDSAT LST = 296.10474476 K\n",
      "SURFRAD LST = 294.530739581366 K\n"
     ]
    }
   ],
   "source": [
    "# a different day\n",
    "image  = ee.Image(f'LANDSAT/LC08/C02/T1_L2/LC08_016032_{date_}')\n",
    "landsat_lst = get_landsat_lst(lon, lat, image=image)\n",
    "capture_time = get_landsat_capture_time(image=image)\n",
    "print(f'LANDSAT LST = {landsat_lst} K')\n",
    "surfrad_lst = get_surfrad_surf_temp_at('PSU', capture_time)\n",
    "print(f'SURFRAD LST = {surfrad_lst} K')"
   ]
  },
  {
   "cell_type": "markdown",
   "id": "76cf926e-a134-46bf-9ecc-7b79a40006c8",
   "metadata": {},
   "source": [
    "## Path Row numbers for the surfrad stations"
   ]
  },
  {
   "cell_type": "code",
   "execution_count": 3,
   "id": "883c8679-06b3-4090-b8f2-1238897ca272",
   "metadata": {},
   "outputs": [
    {
     "name": "stdout",
     "output_type": "stream",
     "text": [
      "BND: \n",
      "lon = -88.37309, lat = 40.05192\n",
      "path = 23, row = 32\n",
      "\n",
      "TBL: \n",
      "lon = -105.2368, lat = 40.12498\n",
      "path = 34, row = 32\n",
      "\n",
      "DRA: \n",
      "lon = -116.01947, lat = 36.62373\n",
      "path = 40, row = 35\n",
      "\n",
      "FPK: \n",
      "lon = -105.1017, lat = 48.30783\n",
      "path = 36, row = 26\n",
      "\n",
      "GWN: \n",
      "lon = -89.8729, lat = 34.2547\n",
      "path = 23, row = 36\n",
      "\n",
      "PSU: \n",
      "lon = -77.93085, lat = 40.72012\n",
      "path = 16, row = 32\n",
      "\n",
      "SXF: \n",
      "lon = -96.62328, lat = 43.73403\n",
      "path = 29, row = 30\n",
      "\n",
      "SGP: \n",
      "lon = -97.48525, lat = 36.60406\n",
      "path = 28, row = 35\n",
      "\n"
     ]
    }
   ],
   "source": [
    "config = OmegaConf.load('../config/surfrad.yaml')\n",
    "for station in config.stations:\n",
    "    lon, lat = config['stations'][station]['Longitude'], config['stations'][station]['Latitude']\n",
    "    print(f'{station}: \\nlon = {lon}, lat = {lat}')\n",
    "    try:\n",
    "        r = cvt_lat_lon_to_path_row(lat, lon)\n",
    "        path, row = r['path'], r['row']\n",
    "        print(f'path = {path}, row = {row}')\n",
    "    except ValueError as e:\n",
    "        pass\n",
    "    finally:\n",
    "        print('')"
   ]
  }
 ],
 "metadata": {
  "kernelspec": {
   "display_name": "Python 3 (ipykernel)",
   "language": "python",
   "name": "python3"
  },
  "language_info": {
   "codemirror_mode": {
    "name": "ipython",
    "version": 3
   },
   "file_extension": ".py",
   "mimetype": "text/x-python",
   "name": "python",
   "nbconvert_exporter": "python",
   "pygments_lexer": "ipython3",
   "version": "3.9.13"
  }
 },
 "nbformat": 4,
 "nbformat_minor": 5
}
