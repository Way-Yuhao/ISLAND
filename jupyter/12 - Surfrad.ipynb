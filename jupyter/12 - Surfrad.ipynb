{
 "cells": [
  {
   "cell_type": "code",
   "execution_count": 1,
   "id": "initial_id",
   "metadata": {
    "tags": []
   },
   "outputs": [],
   "source": [
    "import os\n",
    "import sys\n",
    "import ee\n",
    "import geemap\n",
    "import numpy as np\n",
    "import tqdm\n",
    "import cv2\n",
    "module_path = os.path.abspath(os.path.join('..'))\n",
    "if module_path not in sys.path:\n",
    "    sys.path.append(module_path)"
   ]
  },
  {
   "cell_type": "markdown",
   "id": "5a696073-d2a7-49b5-aa27-4a11c00bfbf5",
   "metadata": {},
   "source": [
    "### Test on NLCD discrete pixel values"
   ]
  },
  {
   "cell_type": "code",
   "execution_count": 8,
   "id": "6a9e45e8-84a3-4243-b998-577e2bdb29d7",
   "metadata": {},
   "outputs": [
    {
     "data": {
      "application/vnd.jupyter.widget-view+json": {
       "model_id": "d3bb0d5e490d4b39ab389f5c601c924a",
       "version_major": 2,
       "version_minor": 0
      },
      "text/plain": [
       "Map(center=[29.75765, -95.43495], controls=(WidgetControl(options=['position', 'transparent_bg'], widget=HBox(…"
      ]
     },
     "metadata": {},
     "output_type": "display_data"
    }
   ],
   "source": [
    "lon = -95.43495\n",
    "lat = 29.75765\n",
    "\n",
    "Map = geemap.Map()\n",
    "# Import the NLCD collection.\n",
    "dataset = ee.ImageCollection('USGS/NLCD_RELEASES/2019_REL/NLCD')\n",
    "\n",
    "# Filter the collection to the 2016 product.\n",
    "nlcd2019 = dataset.filter(ee.Filter.eq('system:index', '2019')).first()\n",
    "\n",
    "# Select the land cover band.\n",
    "landcover_2019 = nlcd2019.select('landcover')\n",
    "\n",
    "# Display land cover on the map.\n",
    "Map.setCenter(lon, lat, 20)\n",
    "Map.addLayer(landcover_2019, None, 'Landcover')\n",
    "Map"
   ]
  },
  {
   "cell_type": "code",
   "execution_count": 10,
   "id": "23ee5ea1-bed0-4796-bcda-432f48c5d796",
   "metadata": {},
   "outputs": [
    {
     "name": "stdout",
     "output_type": "stream",
     "text": [
      "90\n"
     ]
    }
   ],
   "source": [
    "point = ee.Geometry.Point(lon, lat)\n",
    "dataset = ee.ImageCollection('USGS/NLCD_RELEASES/2019_REL/NLCD')\n",
    "image = dataset.filter(ee.Filter.eq('system:index', '2019')).first()\n",
    "info = image.reduceRegion(ee.Reducer.first(), point, scale=30).getInfo()\n",
    "pixel_value = info['landcover']\n",
    "print(pixel_value)"
   ]
  },
  {
   "cell_type": "markdown",
   "id": "56292bde-d274-42ec-a1e2-ff04a2ee46cb",
   "metadata": {},
   "source": [
    "It works! Note that lon, lat value of 5 decimal points (0.00001 deg, or 1m) lead to accurate result"
   ]
  },
  {
   "cell_type": "markdown",
   "id": "3d039f26-98c8-4a34-bf31-6689bc4bd13b",
   "metadata": {},
   "source": [
    "## Test on ASTER GED"
   ]
  },
  {
   "cell_type": "markdown",
   "id": "dec52845-a9a7-4e1e-8f43-75d886fce836",
   "metadata": {},
   "source": [
    "Let's try Penn State station (PSU)"
   ]
  },
  {
   "cell_type": "code",
   "execution_count": 11,
   "id": "d244866d-6097-4201-a2ef-1a9409737b5d",
   "metadata": {},
   "outputs": [],
   "source": [
    "from omegaconf import DictConfig, OmegaConf\n",
    "import hydra\n",
    "from eval.surfrad import get_emis_at\n",
    "config = OmegaConf.load('../config/surfrad.yaml')"
   ]
  },
  {
   "cell_type": "code",
   "execution_count": 12,
   "id": "cfd614dd-7854-4de2-be76-c2dfc0e44a57",
   "metadata": {},
   "outputs": [],
   "source": [
    "lon = config.stations.PSU.Longitude\n",
    "lat = config.stations.PSU.Latitude"
   ]
  },
  {
   "cell_type": "code",
   "execution_count": 13,
   "id": "468ce0e3-86f0-41a8-814b-44acc6c6052a",
   "metadata": {},
   "outputs": [
    {
     "data": {
      "application/vnd.jupyter.widget-view+json": {
       "model_id": "e1a589d1b85a4e0f93dec0bbd91a6e86",
       "version_major": 2,
       "version_minor": 0
      },
      "text/plain": [
       "Map(center=[40.72012, -77.93085], controls=(WidgetControl(options=['position', 'transparent_bg'], widget=HBox(…"
      ]
     },
     "metadata": {},
     "output_type": "display_data"
    }
   ],
   "source": [
    "vis_params = {\n",
    "    'min': 0.9,   # Set the minimum emissivity value you expect to see\n",
    "    'max': 1.0,   # Set the maximum emissivity value you expect to see\n",
    "    'palette': ['blue', 'green', 'yellow', 'red']  # Define a color palette from low to high emissivity\n",
    "}\n",
    "\n",
    "Map = geemap.Map()\n",
    "Map.add_basemap('HYBRID')\n",
    "Map.setCenter(lon, lat, 20)\n",
    "image = ee.Image('NASA/ASTER_GED/AG100_003').select('emissivity_band10').multiply(0.001)\n",
    "Map.addLayer(image, vis_params, 'emis')\n",
    "Map"
   ]
  },
  {
   "cell_type": "code",
   "execution_count": 15,
   "id": "2207ccd2-d1ee-4f8a-854f-116ec1508b02",
   "metadata": {},
   "outputs": [
    {
     "name": "stdout",
     "output_type": "stream",
     "text": [
      "0.967 0.964 0.961 0.974 0.974\n"
     ]
    }
   ],
   "source": [
    "point = ee.Geometry.Point(lon, lat)\n",
    "image = ee.Image('NASA/ASTER_GED/AG100_003').multiply(0.001)\n",
    "info = image.reduceRegion(ee.Reducer.first(), point, scale=1).getInfo()\n",
    "emis_10 = info['emissivity_band10']\n",
    "emis_11 = info['emissivity_band11']\n",
    "emis_12 = info['emissivity_band12']\n",
    "emis_13 = info['emissivity_band13']\n",
    "emis_14 = info['emissivity_band14']\n",
    "print(emis_10, emis_11, emis_12, emis_13, emis_14)"
   ]
  },
  {
   "cell_type": "code",
   "execution_count": 16,
   "id": "80198347-fe99-4e79-8dcd-b3a4e86733ea",
   "metadata": {},
   "outputs": [
    {
     "name": "stdout",
     "output_type": "stream",
     "text": [
      "broadband_emis =  0.9716729999999999\n"
     ]
    }
   ],
   "source": [
    "broadband_emis = get_emis_at(lon, lat)\n",
    "print('broadband_emis = ', broadband_emis)"
   ]
  }
 ],
 "metadata": {
  "kernelspec": {
   "display_name": "Python 3 (ipykernel)",
   "language": "python",
   "name": "python3"
  },
  "language_info": {
   "codemirror_mode": {
    "name": "ipython",
    "version": 3
   },
   "file_extension": ".py",
   "mimetype": "text/x-python",
   "name": "python",
   "nbconvert_exporter": "python",
   "pygments_lexer": "ipython3",
   "version": "3.9.13"
  }
 },
 "nbformat": 4,
 "nbformat_minor": 5
}
