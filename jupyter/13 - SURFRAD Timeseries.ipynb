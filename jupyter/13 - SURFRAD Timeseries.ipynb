{
 "cells": [
  {
   "cell_type": "code",
   "execution_count": 1,
   "id": "initial_id",
   "metadata": {
    "tags": []
   },
   "outputs": [],
   "source": [
    "import os\n",
    "import sys\n",
    "module_path = os.path.abspath(os.path.join('..'))\n",
    "if module_path not in sys.path:\n",
    "    sys.path.append(module_path)\n",
    "import ee\n",
    "from datetime import datetime, date, timedelta\n",
    "from omegaconf import DictConfig, OmegaConf\n",
    "import pandas as pd\n",
    "from rich.progress import Progress\n",
    "from matplotlib import pyplot as plt\n",
    "import seaborn as sns\n",
    "from sklearn.metrics import mean_squared_error, mean_absolute_error\n",
    "import numpy as np\n",
    "from util.ee_utils import (acquire_reference_date, generate_cycles,\n",
    "                           get_landsat_lst, get_landsat_capture_time, load_ee_image,\n",
    "                           is_landsat_pixel_clear)\n",
    "from eval.surfrad import get_surfrad_surf_temp_at"
   ]
  },
  {
   "cell_type": "code",
   "execution_count": 15,
   "id": "f6f26f55-e230-4cca-85a6-be9f094ac565",
   "metadata": {},
   "outputs": [
    {
     "data": {
      "application/vnd.jupyter.widget-view+json": {
       "model_id": "84af4e63efbd406e978ce8630cb741c0",
       "version_major": 2,
       "version_minor": 0
      },
      "text/plain": [
       "Output()"
      ]
     },
     "metadata": {},
     "output_type": "display_data"
    },
    {
     "data": {
      "text/html": [
       "<pre style=\"white-space:pre;overflow-x:auto;line-height:normal;font-family:Menlo,'DejaVu Sans Mono',consolas,'Courier New',monospace\"></pre>\n"
      ],
      "text/plain": []
     },
     "metadata": {},
     "output_type": "display_data"
    },
    {
     "data": {
      "text/html": [
       "<pre style=\"white-space:pre;overflow-x:auto;line-height:normal;font-family:Menlo,'DejaVu Sans Mono',consolas,'Courier New',monospace\">\n",
       "</pre>\n"
      ],
      "text/plain": [
       "\n"
      ]
     },
     "metadata": {},
     "output_type": "display_data"
    }
   ],
   "source": [
    "start_date = '20140101'\n",
    "end_date = '20200101'\n",
    "scene_id = '016032'\n",
    "config = OmegaConf.load('../config/surfrad.yaml')\n",
    "lon = config.stations.PSU.Longitude\n",
    "lat = config.stations.PSU.Latitude\n",
    "ref_date = acquire_reference_date(start_date, scene_id)\n",
    "# print('ref date =', ref_date)\n",
    "cycles = generate_cycles(ref_date, end_date)\n",
    "# print(cycles)\n",
    "data = []\n",
    "with Progress() as progress:\n",
    "    task_id = progress.add_task(\"[cyan]Processing...\", total=len(cycles))\n",
    "    for date_ in cycles:\n",
    "        try:\n",
    "            image = load_ee_image(f'LANDSAT/LC08/C02/T1_L2/LC08_016032_{date_}')\n",
    "        except ee.EEException as e:\n",
    "            continue\n",
    "        landsat_lst = get_landsat_lst(lon, lat, image=image)\n",
    "        capture_time = get_landsat_capture_time(image=image)\n",
    "        surfrad_lst = get_surfrad_surf_temp_at('PSU', capture_time)\n",
    "        condition_clear = is_landsat_pixel_clear(lon, lat, image=image)\n",
    "        data.append({\n",
    "            'date': date_,\n",
    "            'landsat_lst': landsat_lst,\n",
    "            'surfrad_lst': surfrad_lst,\n",
    "            'condition_clear': condition_clear,\n",
    "            'delta_lst': landsat_lst - surfrad_lst\n",
    "        })\n",
    "        progress.update(task_id, advance=1)\n",
    "df = pd.DataFrame(data)"
   ]
  },
  {
   "cell_type": "code",
   "execution_count": 16,
   "id": "4fa14d5a-5158-4d32-a2cb-062345ff7025",
   "metadata": {},
   "outputs": [
    {
     "data": {
      "text/html": [
       "<div>\n",
       "<style scoped>\n",
       "    .dataframe tbody tr th:only-of-type {\n",
       "        vertical-align: middle;\n",
       "    }\n",
       "\n",
       "    .dataframe tbody tr th {\n",
       "        vertical-align: top;\n",
       "    }\n",
       "\n",
       "    .dataframe thead th {\n",
       "        text-align: right;\n",
       "    }\n",
       "</style>\n",
       "<table border=\"1\" class=\"dataframe\">\n",
       "  <thead>\n",
       "    <tr style=\"text-align: right;\">\n",
       "      <th></th>\n",
       "      <th>date</th>\n",
       "      <th>landsat_lst</th>\n",
       "      <th>surfrad_lst</th>\n",
       "      <th>condition_clear</th>\n",
       "      <th>delta_lst</th>\n",
       "    </tr>\n",
       "  </thead>\n",
       "  <tbody>\n",
       "    <tr>\n",
       "      <th>0</th>\n",
       "      <td>20140109</td>\n",
       "      <td>270.083359</td>\n",
       "      <td>269.557108</td>\n",
       "      <td>True</td>\n",
       "      <td>0.526250</td>\n",
       "    </tr>\n",
       "    <tr>\n",
       "      <th>1</th>\n",
       "      <td>20140210</td>\n",
       "      <td>264.105242</td>\n",
       "      <td>265.455015</td>\n",
       "      <td>True</td>\n",
       "      <td>-1.349774</td>\n",
       "    </tr>\n",
       "    <tr>\n",
       "      <th>2</th>\n",
       "      <td>20140226</td>\n",
       "      <td>249.814500</td>\n",
       "      <td>265.617119</td>\n",
       "      <td>False</td>\n",
       "      <td>-15.802619</td>\n",
       "    </tr>\n",
       "    <tr>\n",
       "      <th>3</th>\n",
       "      <td>20140314</td>\n",
       "      <td>279.024899</td>\n",
       "      <td>283.353920</td>\n",
       "      <td>True</td>\n",
       "      <td>-4.329021</td>\n",
       "    </tr>\n",
       "    <tr>\n",
       "      <th>4</th>\n",
       "      <td>20140501</td>\n",
       "      <td>267.290836</td>\n",
       "      <td>287.396323</td>\n",
       "      <td>False</td>\n",
       "      <td>-20.105487</td>\n",
       "    </tr>\n",
       "  </tbody>\n",
       "</table>\n",
       "</div>"
      ],
      "text/plain": [
       "       date  landsat_lst  surfrad_lst  condition_clear  delta_lst\n",
       "0  20140109   270.083359   269.557108             True   0.526250\n",
       "1  20140210   264.105242   265.455015             True  -1.349774\n",
       "2  20140226   249.814500   265.617119            False -15.802619\n",
       "3  20140314   279.024899   283.353920             True  -4.329021\n",
       "4  20140501   267.290836   287.396323            False -20.105487"
      ]
     },
     "execution_count": 16,
     "metadata": {},
     "output_type": "execute_result"
    }
   ],
   "source": [
    "df.head()"
   ]
  },
  {
   "cell_type": "code",
   "execution_count": 31,
   "id": "1b607e90-5c58-4456-9e98-26cd655b168e",
   "metadata": {},
   "outputs": [
    {
     "data": {
      "image/png": "[encoded data removed]",
      "text/plain": [
       "<Figure size 640x480 with 1 Axes>"
      ]
     },
     "metadata": {},
     "output_type": "display_data"
    }
   ],
   "source": [
    "# Filter the DataFrame\n",
    "df_filtered = df[df['condition_clear']]\n",
    "\n",
    "# Create a scatter plot\n",
    "plt.figure()\n",
    "sns.scatterplot(y='landsat_lst', x='surfrad_lst', data=df_filtered)\n",
    "# Add a dashed black line y = x\n",
    "x = range(240, 340)\n",
    "plt.plot(x, x, color='black', linestyle='--')\n",
    "# Set x and y limits\n",
    "plt.xlim(240, 340)\n",
    "plt.ylim(240, 340)\n",
    "plt.title('Clear-sky LST at PSU')\n",
    "plt.show()"
   ]
  },
  {
   "cell_type": "code",
   "execution_count": 30,
   "id": "f0b76251-e993-4441-83c7-cb8e11dbdf35",
   "metadata": {},
   "outputs": [
    {
     "name": "stdout",
     "output_type": "stream",
     "text": [
      "RMSE: 3.04, Bias: 0.32, MAE: 1.89\n",
      "Num = 46\n"
     ]
    }
   ],
   "source": [
    "# Compute the errors\n",
    "errors =  df_filtered['surfrad_lst'] - df_filtered['landsat_lst']\n",
    "# Compute the RMSE\n",
    "rmse = np.sqrt(mse)\n",
    "# Compute the bias\n",
    "bias = errors.mean()\n",
    "# Compute the MAE\n",
    "mae = mean_absolute_error(df_filtered['landsat_lst'], df_filtered['surfrad_lst'])\n",
    "print(f\"RMSE: {rmse:.2f}, Bias: {bias:.2f}, MAE: {mae:.2f}\")\n",
    "print('Num =', len(df_filtered))"
   ]
  }
 ],
 "metadata": {
  "kernelspec": {
   "display_name": "Python 3 (ipykernel)",
   "language": "python",
   "name": "python3"
  },
  "language_info": {
   "codemirror_mode": {
    "name": "ipython",
    "version": 3
   },
   "file_extension": ".py",
   "mimetype": "text/x-python",
   "name": "python",
   "nbconvert_exporter": "python",
   "pygments_lexer": "ipython3",
   "version": "3.9.13"
  }
 },
 "nbformat": 4,
 "nbformat_minor": 5
}
