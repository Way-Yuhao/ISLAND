{
 "cells": [
  {
   "cell_type": "code",
   "execution_count": 52,
   "metadata": {
    "pycharm": {
     "name": "#%%\n"
    }
   },
   "outputs": [],
   "source": [
    "import ee\n",
    "import geemap\n",
    "from datetime import date, timedelta, datetime"
   ]
  },
  {
   "cell_type": "code",
   "execution_count": 53,
   "metadata": {},
   "outputs": [],
   "source": [
    "def acquire_reference_date(start_date, scene_id):\n",
    "    \"\"\"\n",
    "    Find the first date after which a LANDSAT 8 image is valid for a given scene id\n",
    "    :param start_date:\n",
    "    :param scene_id:\n",
    "    :return:\n",
    "    \"\"\"\n",
    "    reference_date = None\n",
    "    cur_date = datetime.strptime(start_date, '%Y%m%d')\n",
    "    while reference_date is None:\n",
    "        cur_date_str = datetime.strftime(cur_date, '%Y%m%d')\n",
    "        try:\n",
    "            img = ee.Image(f'LANDSAT/LC08/C02/T1_TOA/LC08_{scene_id}_{cur_date_str}')\n",
    "            img.getInfo()\n",
    "        except ee.EEException as e:  # image does not exist\n",
    "            cur_date = cur_date + timedelta(days=1)\n",
    "            continue\n",
    "        # image exists, in the case of no exception\n",
    "        reference_date = cur_date_str\n",
    "        return reference_date"
   ]
  },
  {
   "cell_type": "code",
   "execution_count": 54,
   "metadata": {
    "pycharm": {
     "name": "#%%\n"
    }
   },
   "outputs": [
    {
     "name": "stdout",
     "output_type": "stream",
     "text": [
      "Please provide a scene_id for corresponding to a LANDSAT8 image\n",
      "041036\n"
     ]
    }
   ],
   "source": [
    "ee.Initialize()\n",
    "sr_vis = {'bands': ['SR_B4', 'SR_B3', 'SR_B2'], 'min': 0.0, 'max': 0.3,} # for LANDSAT8 surface reflectance RGB\n",
    "print('Please provide a scene_id for corresponding to a LANDSAT8 image')\n",
    "scene_id = input()"
   ]
  },
  {
   "cell_type": "code",
   "execution_count": 57,
   "metadata": {
    "pycharm": {
     "name": "#%%\n"
    }
   },
   "outputs": [
    {
     "name": "stdout",
     "output_type": "stream",
     "text": [
      "Please draw a rectangular bounding box within the image\n"
     ]
    },
    {
     "data": {
      "application/vnd.jupyter.widget-view+json": {
       "model_id": "4771018836634e2d9692c1745f8ac14b",
       "version_major": 2,
       "version_minor": 0
      },
      "text/plain": [
       "Map(center=[29.7662, -95.241], controls=(WidgetControl(options=['position', 'transparent_bg'], widget=HBox(chi…"
      ]
     },
     "metadata": {},
     "output_type": "display_data"
    }
   ],
   "source": [
    "ref_date = acquire_reference_date(start_date='20180101', scene_id=scene_id)\n",
    "Map = geemap.Map(center=(29.7662, -95.2410), zoom=7)\n",
    "img = ee.Image(f'LANDSAT/LC08/C02/T1_TOA/LC08_{scene_id}_{ref_date}').select(['B4', 'B3', 'B2'])\n",
    "Map.addLayer(img, {'min': 0.0, 'max': 0.4})\n",
    "print('Please draw a rectangular bounding box within the image')\n",
    "Map"
   ]
  },
  {
   "cell_type": "code",
   "execution_count": 58,
   "metadata": {
    "pycharm": {
     "name": "#%%\n"
    }
   },
   "outputs": [
    {
     "name": "stdout",
     "output_type": "stream",
     "text": [
      "[[[-118.41654, 33.723626], [-118.41654, 34.333656], [-117.603448, 34.333656], [-117.603448, 33.723626], [-118.41654, 33.723626]]]\n"
     ]
    }
   ],
   "source": [
    "meta_ = Map.user_rois.getInfo()\n",
    "coord = meta_['features'][0]['geometry']['coordinates']\n",
    "print(coord)"
   ]
  },
  {
   "cell_type": "code",
   "execution_count": null,
   "outputs": [],
   "source": [
    "Map = geemap.Map()\n",
    "i = ee.Image('LANDSAT/LC08/C02/T1_TOA/LC08_041036_20180103').select('B4')\n",
    "Map.addLayer(i)\n",
    "Map"
   ],
   "metadata": {
    "collapsed": false,
    "pycharm": {
     "name": "#%%\n"
    }
   }
  },
  {
   "cell_type": "code",
   "execution_count": null,
   "outputs": [],
   "source": [
    "projection = img.projection().getInfo()\n",
    "geemap.ee_export_image(i, filename='1.tif', scale=30, region=coord,\n",
    "                               crs=projection['crs'], file_per_band=False)"
   ],
   "metadata": {
    "collapsed": false,
    "pycharm": {
     "name": "#%%\n"
    }
   }
  },
  {
   "cell_type": "code",
   "execution_count": null,
   "outputs": [],
   "source": [
    "geemap.get_version()"
   ],
   "metadata": {
    "collapsed": false,
    "pycharm": {
     "name": "#%%\n"
    }
   }
  },
  {
   "cell_type": "code",
   "execution_count": 72,
   "metadata": {},
   "outputs": [
    {
     "ename": "AttributeError",
     "evalue": "module 'geemap' has no attribute 'get_version'",
     "output_type": "error",
     "traceback": [
      "\u001B[1;31m---------------------------------------------------------------------------\u001B[0m",
      "\u001B[1;31mAttributeError\u001B[0m                            Traceback (most recent call last)",
      "Input \u001B[1;32mIn [72]\u001B[0m, in \u001B[0;36m<cell line: 1>\u001B[1;34m()\u001B[0m\n\u001B[1;32m----> 1\u001B[0m \u001B[43mgeemap\u001B[49m\u001B[38;5;241;43m.\u001B[39;49m\u001B[43mget_version\u001B[49m()\n",
      "\u001B[1;31mAttributeError\u001B[0m: module 'geemap' has no attribute 'get_version'"
     ]
    }
   ],
   "source": [
    "geemap.get_version()"
   ]
  }
 ],
 "metadata": {
  "kernelspec": {
   "display_name": "Python 3 (ipykernel)",
   "language": "python",
   "name": "python3"
  },
  "language_info": {
   "codemirror_mode": {
    "name": "ipython",
    "version": 3
   },
   "file_extension": ".py",
   "mimetype": "text/x-python",
   "name": "python",
   "nbconvert_exporter": "python",
   "pygments_lexer": "ipython3",
   "version": "3.9.12"
  }
 },
 "nbformat": 4,
 "nbformat_minor": 1
}