{
 "cells": [
  {
   "cell_type": "code",
   "execution_count": null,
   "metadata": {
    "pycharm": {
     "name": "#%%\n"
    }
   },
   "outputs": [],
   "source": [
    "import ee\n",
    "import geemap"
   ]
  },
  {
   "cell_type": "code",
   "execution_count": null,
   "metadata": {
    "pycharm": {
     "name": "#%%\n"
    }
   },
   "outputs": [],
   "source": [
    "ee.Initialize()"
   ]
  },
  {
   "cell_type": "code",
   "execution_count": 16,
   "metadata": {
    "pycharm": {
     "name": "#%%\n"
    }
   },
   "outputs": [
    {
     "name": "stdout",
     "output_type": "stream",
     "text": [
      "{'type': 'Image', 'bands': [{'id': 'B1', 'data_type': {'type': 'PixelType', 'precision': 'float'}, 'dimensions': [7731, 7871], 'crs': 'EPSG:32615', 'crs_transform': [30, 0, 213585, 0, -30, 3471615]}, {'id': 'B2', 'data_type': {'type': 'PixelType', 'precision': 'float'}, 'dimensions': [7731, 7871], 'crs': 'EPSG:32615', 'crs_transform': [30, 0, 213585, 0, -30, 3471615]}, {'id': 'B3', 'data_type': {'type': 'PixelType', 'precision': 'float'}, 'dimensions': [7731, 7871], 'crs': 'EPSG:32615', 'crs_transform': [30, 0, 213585, 0, -30, 3471615]}, {'id': 'B4', 'data_type': {'type': 'PixelType', 'precision': 'float'}, 'dimensions': [7731, 7871], 'crs': 'EPSG:32615', 'crs_transform': [30, 0, 213585, 0, -30, 3471615]}, {'id': 'B5', 'data_type': {'type': 'PixelType', 'precision': 'float'}, 'dimensions': [7731, 7871], 'crs': 'EPSG:32615', 'crs_transform': [30, 0, 213585, 0, -30, 3471615]}, {'id': 'B6', 'data_type': {'type': 'PixelType', 'precision': 'float'}, 'dimensions': [7731, 7871], 'crs': 'EPSG:32615', 'crs_transform': [30, 0, 213585, 0, -30, 3471615]}, {'id': 'B7', 'data_type': {'type': 'PixelType', 'precision': 'float'}, 'dimensions': [7731, 7871], 'crs': 'EPSG:32615', 'crs_transform': [30, 0, 213585, 0, -30, 3471615]}, {'id': 'B8', 'data_type': {'type': 'PixelType', 'precision': 'float'}, 'dimensions': [15461, 15741], 'crs': 'EPSG:32615', 'crs_transform': [15, 0, 213592.5, 0, -15, 3471607.5]}, {'id': 'B9', 'data_type': {'type': 'PixelType', 'precision': 'float'}, 'dimensions': [7731, 7871], 'crs': 'EPSG:32615', 'crs_transform': [30, 0, 213585, 0, -30, 3471615]}, {'id': 'B10', 'data_type': {'type': 'PixelType', 'precision': 'float'}, 'dimensions': [7731, 7871], 'crs': 'EPSG:32615', 'crs_transform': [30, 0, 213585, 0, -30, 3471615]}, {'id': 'B11', 'data_type': {'type': 'PixelType', 'precision': 'float'}, 'dimensions': [7731, 7871], 'crs': 'EPSG:32615', 'crs_transform': [30, 0, 213585, 0, -30, 3471615]}, {'id': 'QA_PIXEL', 'data_type': {'type': 'PixelType', 'precision': 'int', 'min': 0, 'max': 65535}, 'dimensions': [7731, 7871], 'crs': 'EPSG:32615', 'crs_transform': [30, 0, 213585, 0, -30, 3471615]}, {'id': 'QA_RADSAT', 'data_type': {'type': 'PixelType', 'precision': 'int', 'min': 0, 'max': 65535}, 'dimensions': [7731, 7871], 'crs': 'EPSG:32615', 'crs_transform': [30, 0, 213585, 0, -30, 3471615]}, {'id': 'SAA', 'data_type': {'type': 'PixelType', 'precision': 'int', 'min': -32768, 'max': 32767}, 'dimensions': [7731, 7871], 'crs': 'EPSG:32615', 'crs_transform': [30, 0, 213585, 0, -30, 3471615]}, {'id': 'SZA', 'data_type': {'type': 'PixelType', 'precision': 'int', 'min': -32768, 'max': 32767}, 'dimensions': [7731, 7871], 'crs': 'EPSG:32615', 'crs_transform': [30, 0, 213585, 0, -30, 3471615]}, {'id': 'VAA', 'data_type': {'type': 'PixelType', 'precision': 'int', 'min': -32768, 'max': 32767}, 'dimensions': [7731, 7871], 'crs': 'EPSG:32615', 'crs_transform': [30, 0, 213585, 0, -30, 3471615]}, {'id': 'VZA', 'data_type': {'type': 'PixelType', 'precision': 'int', 'min': -32768, 'max': 32767}, 'dimensions': [7731, 7871], 'crs': 'EPSG:32615', 'crs_transform': [30, 0, 213585, 0, -30, 3471615]}], 'version': 1658920505437624, 'id': 'LANDSAT/LC08/C02/T1_TOA/LC08_025039_20180103', 'properties': {'RADIANCE_MULT_BAND_5': 0.0063235, 'RADIANCE_MULT_BAND_6': 0.0015726, 'RADIANCE_MULT_BAND_3': 0.012254, 'RADIANCE_MULT_BAND_4': 0.010333, 'RADIANCE_MULT_BAND_1': 0.012986, 'RADIANCE_MULT_BAND_2': 0.013298, 'WRS_TYPE': 2, 'K2_CONSTANT_BAND_11': 1201.1442, 'K2_CONSTANT_BAND_10': 1321.0789, 'system:footprint': {'type': 'LinearRing', 'coordinates': [[-94.0552815781408, 29.248037525357354], [-94.04275178208127, 29.24550403003113], [-94.02837272259443, 29.29902648393918], [-93.95477710014495, 29.57243908309136], [-93.89457229532219, 29.795122050362355], [-93.8557525191108, 29.93832364587637], [-93.80569979538708, 30.122399021218758], [-93.73409525349363, 30.384934246304667], [-93.67103767093919, 30.615104924339693], [-93.58466969059155, 30.928991853560277], [-93.57313984245927, 30.970857063784738], [-93.57315049949938, 30.972651456875173], [-93.65679425727792, 30.989713855099197], [-94.02094843479887, 31.06327319132071], [-95.24374392176188, 31.30188295760987], [-95.521221128634, 31.35422559948819], [-95.63312399217585, 30.9156394385359], [-95.74148731470692, 30.487558874457093], [-95.84904888339675, 30.05942154123535], [-95.95678305974293, 29.627422889484308], [-95.28551235414997, 29.496958231173654], [-94.0552815781408, 29.248037525357354]]}, 'REFLECTIVE_SAMPLES': 7731, 'SUN_AZIMUTH': 154.48881323, 'DATA_SOURCE_TIRS_STRAY_LIGHT_CORRECTION': 'TIRS', 'DATE_ACQUIRED': '2018-01-03', 'ELLIPSOID': 'WGS84', 'STATION_ID': 'LGN', 'RESAMPLING_OPTION': 'CUBIC_CONVOLUTION', 'ORIENTATION': 'NORTH_UP', 'WRS_ROW': 39, 'RADIANCE_MULT_BAND_9': 0.0024714, 'TARGET_WRS_ROW': 39, 'RADIANCE_MULT_BAND_7': 0.00053005, 'RADIANCE_MULT_BAND_8': 0.011694, 'IMAGE_QUALITY_TIRS': 9, 'TRUNCATION_OLI': 'UPPER', 'CLOUD_COVER': 0.06, 'GEOMETRIC_RMSE_VERIFY': 4.062, 'COLLECTION_CATEGORY': 'T1', 'GRID_CELL_SIZE_REFLECTIVE': 30, 'CLOUD_COVER_LAND': 0.06, 'GEOMETRIC_RMSE_MODEL': 5.153, 'COLLECTION_NUMBER': 2, 'IMAGE_QUALITY_OLI': 9, 'LANDSAT_SCENE_ID': 'LC80250392018003LGN00', 'WRS_PATH': 25, 'PANCHROMATIC_SAMPLES': 15461, 'PANCHROMATIC_LINES': 15741, 'GEOMETRIC_RMSE_MODEL_Y': 4.169, 'REFLECTIVE_LINES': 7871, 'GEOMETRIC_RMSE_MODEL_X': 3.029, 'system:asset_size': 1159703197, 'system:index': 'LC08_025039_20180103', 'DATA_SOURCE_ELEVATION': 'GLS2000', 'REFLECTANCE_ADD_BAND_1': -0.1, 'REFLECTANCE_ADD_BAND_2': -0.1, 'DATUM': 'WGS84', 'REFLECTANCE_ADD_BAND_3': -0.1, 'REFLECTANCE_ADD_BAND_4': -0.1, 'REFLECTANCE_ADD_BAND_5': -0.1, 'REFLECTANCE_ADD_BAND_6': -0.1, 'REFLECTANCE_ADD_BAND_7': -0.1, 'REFLECTANCE_ADD_BAND_8': -0.1, 'GROUND_CONTROL_POINTS_VERSION': 5, 'UTM_ZONE': 15, 'system:time_end': 1514998246894, 'LANDSAT_PRODUCT_ID': 'LC08_L1TP_025039_20180103_20200902_02_T1', 'REFLECTANCE_ADD_BAND_9': -0.1, 'GRID_CELL_SIZE_PANCHROMATIC': 15, 'RADIANCE_ADD_BAND_4': -51.66662, 'REFLECTANCE_MULT_BAND_7': 2e-05, 'system:time_start': 1514998246894, 'RADIANCE_ADD_BAND_5': -31.6174, 'REFLECTANCE_MULT_BAND_6': 2e-05, 'RADIANCE_ADD_BAND_6': -7.86296, 'REFLECTANCE_MULT_BAND_9': 2e-05, 'PROCESSING_SOFTWARE_VERSION': 'LPGS_15.3.1c', 'RADIANCE_ADD_BAND_7': -2.65024, 'REFLECTANCE_MULT_BAND_8': 2e-05, 'RADIANCE_ADD_BAND_1': -64.93129, 'RADIANCE_ADD_BAND_2': -66.49043, 'RADIANCE_ADD_BAND_3': -61.27036, 'REFLECTANCE_MULT_BAND_1': 2e-05, 'RADIANCE_ADD_BAND_8': -58.4724, 'REFLECTANCE_MULT_BAND_3': 2e-05, 'RADIANCE_ADD_BAND_9': -12.3568, 'REFLECTANCE_MULT_BAND_2': 2e-05, 'REFLECTANCE_MULT_BAND_5': 2e-05, 'REFLECTANCE_MULT_BAND_4': 2e-05, 'THERMAL_LINES': 7871, 'TIRS_SSM_POSITION_STATUS': 'ESTIMATED', 'GRID_CELL_SIZE_THERMAL': 30, 'NADIR_OFFNADIR': 'NADIR', 'RADIANCE_ADD_BAND_11': 0.1, 'REQUEST_ID': 'L2', 'EARTH_SUN_DISTANCE': 0.983285, 'TIRS_SSM_MODEL': 'FINAL', 'SCENE_CENTER_TIME': '16:50:46.8948920Z', 'SUN_ELEVATION': 32.42354226, 'RADIANCE_ADD_BAND_10': 0.1, 'ROLL_ANGLE': -0.001, 'DATE_PRODUCT_GENERATED': 1599044013000, 'K1_CONSTANT_BAND_10': 774.8853, 'SATURATION_BAND_1': 'N', 'SATURATION_BAND_2': 'N', 'SATURATION_BAND_3': 'N', 'SATURATION_BAND_4': 'N', 'SATURATION_BAND_5': 'Y', 'MAP_PROJECTION': 'UTM', 'SATURATION_BAND_6': 'Y', 'SENSOR_ID': 'OLI_TIRS', 'SATURATION_BAND_7': 'Y', 'K1_CONSTANT_BAND_11': 480.8883, 'SATURATION_BAND_8': 'N', 'SATURATION_BAND_9': 'N', 'TARGET_WRS_PATH': 25, 'PROCESSING_LEVEL': 'L1TP', 'RADIANCE_MULT_BAND_11': 0.0003342, 'RADIANCE_MULT_BAND_10': 0.0003342, 'GROUND_CONTROL_POINTS_MODEL': 717, 'SPACECRAFT_ID': 'LANDSAT_8', 'THERMAL_SAMPLES': 7731, 'GROUND_CONTROL_POINTS_VERIFY': 147}}\n"
     ]
    },
    {
     "data": {
      "application/vnd.jupyter.widget-view+json": {
       "model_id": "630b6f255c8046cf94d9e60250942bb5",
       "version_major": 2,
       "version_minor": 0
      },
      "text/plain": [
       "Map(center=[20, 0], controls=(WidgetControl(options=['position', 'transparent_bg'], widget=HBox(children=(Togg…"
      ]
     },
     "metadata": {},
     "output_type": "display_data"
    }
   ],
   "source": [
    "Map = geemap.Map()\n",
    "img = ee.Image('LANDSAT/LC08/C02/T1_TOA/LC08_025039_20180103')\n",
    "print(img.getInfo())\n",
    "Map"
   ]
  }
 ],
 "metadata": {
  "kernelspec": {
   "display_name": "Python 3 (ipykernel)",
   "language": "python",
   "name": "python3"
  },
  "language_info": {
   "codemirror_mode": {
    "name": "ipython",
    "version": 3
   },
   "file_extension": ".py",
   "mimetype": "text/x-python",
   "name": "python",
   "nbconvert_exporter": "python",
   "pygments_lexer": "ipython3",
   "version": "3.9.12"
  }
 },
 "nbformat": 4,
 "nbformat_minor": 1
}