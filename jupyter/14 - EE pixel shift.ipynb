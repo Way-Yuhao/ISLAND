{
 "cells": [
  {
   "cell_type": "markdown",
   "id": "04006627-8107-4fbf-91d6-b4c65ce1a896",
   "metadata": {
    "jupyter": {
     "outputs_hidden": true
    }
   },
   "source": [
    "We use this notebook to investigate the pixel shift caused by ee.export()"
   ]
  },
  {
   "cell_type": "code",
   "execution_count": 1,
   "id": "5d13ed77-2287-4a44-8a77-d27747313c7c",
   "metadata": {},
   "outputs": [],
   "source": [
    "import os\n",
    "service_prefix = ''\n",
    "os.environ['LOCALTILESERVER_CLIENT_PREFIX'] = f\"{service_prefix}/proxy/{{port}}\"\n",
    "import sys\n",
    "import ee\n",
    "import geemap\n",
    "import numpy as np\n",
    "import tqdm\n",
    "import cv2\n",
    "import seaborn as sns\n",
    "from datetime import datetime\n",
    "module_path = os.path.abspath(os.path.join('..'))\n",
    "if module_path not in sys.path:\n",
    "    sys.path.append(module_path)\n",
    "from omegaconf import DictConfig, OmegaConf\n",
    "import hydra\n",
    "import cv2\n",
    "from eval.surfrad import get_emis_at, read_surfrad_file_from_url, get_surfrad_surf_temp_at\n",
    "from util.ee_utils import get_landsat_capture_time, get_landsat_lst, cvt_lat_lon_to_path_row, query_geotiff"
   ]
  },
  {
   "cell_type": "markdown",
   "id": "07f8441b-6696-4704-acb1-bf426829dca6",
   "metadata": {
    "jp-MarkdownHeadingCollapsed": true,
    "tags": []
   },
   "source": [
    "## Original half a pixel shift"
   ]
  },
  {
   "cell_type": "code",
   "execution_count": 2,
   "id": "63e00f0c-49a1-49ea-a9b6-5bdc4b8b4ee1",
   "metadata": {},
   "outputs": [
    {
     "data": {
      "application/vnd.jupyter.widget-view+json": {
       "model_id": "6641b47a1d6043dc8906f165ea477dfb",
       "version_major": 2,
       "version_minor": 0
      },
      "text/plain": [
       "Map(center=[20, 0], controls=(WidgetControl(options=['position', 'transparent_bg'], widget=HBox(children=(Togg…"
      ]
     },
     "metadata": {},
     "output_type": "display_data"
    }
   ],
   "source": [
    "vis = {\n",
    "  'min': 280,\n",
    "  'max': 340,\n",
    "  'palette' : sns.color_palette('inferno', 20).as_hex(),\n",
    "}\n",
    "config = OmegaConf.load('../config/surfrad.yaml')\n",
    "station_id = 'BND'\n",
    "date_ = '20170611'\n",
    "lon = config['stations'][station_id]['Longitude']\n",
    "lat = config['stations'][station_id]['Latitude']\n",
    "scene_id = config['stations'][station_id]['scene_id']\n",
    "Map = geemap.Map()\n",
    "Map.add_basemap('HYBRID')\n",
    "\n",
    "img_path = f'/home/yuhaoliu/Code/UrbanSurfTemp/data/{station_id}/lst/LC08_ST_B10_{date_}.tif'\n",
    "# output_path = '/home/yuhaoliu/Code/UrbanSurfTemp/data/Austin/output_referenced_f75/lst/20170303.tif'\n",
    "image = ee.Image(f'LANDSAT/LC08/C02/T1_L2/LC08_{scene_id}_{date_}')\n",
    "Map.add_raster(img_path, palette=vis['palette'], vmax=vis['max'], vmin=vis['min'], layer_name='downloaded_lst')\n",
    "Map.addLayer(image.select('ST_B10').multiply(0.00341802).add(149), vis, 'landsat_lst')\n",
    "Map"
   ]
  },
  {
   "cell_type": "markdown",
   "id": "995bd55c-44a8-4ebb-bb89-d87812ad1709",
   "metadata": {
    "jp-MarkdownHeadingCollapsed": true,
    "tags": []
   },
   "source": [
    "## Debugging the issue by exporting to Google Drive "
   ]
  },
  {
   "cell_type": "markdown",
   "id": "19645d34-2947-481c-a4b3-5ec9f9cb0b83",
   "metadata": {},
   "source": [
    "```python\n",
    "geemap.ee_export_image_to_drive(img, description=\"entire_image_all_bands\", folder=\"export\", region=None, scale=30)\n",
    "geemap.ee_export_image_to_drive(img.select('ST_B10'), description=\"entire_image_bt10\", folder=\"export\", region=None, scale=30)\n",
    "geemap.ee_export_image_to_drive(img.select('ST_B10').multiply(0.00341802).add(149), description=\"entire_image_scaled\", folder=\"export\", region=None, scale=30)\n",
    "geemap.ee_export_image_\n",
    "```"
   ]
  },
  {
   "cell_type": "code",
   "execution_count": 2,
   "id": "f981233c-c028-40ab-ab9c-c088e6ed2527",
   "metadata": {},
   "outputs": [
    {
     "data": {
      "application/vnd.jupyter.widget-view+json": {
       "model_id": "f1c675c2b41146a9a07ce39c31798d77",
       "version_major": 2,
       "version_minor": 0
      },
      "text/plain": [
       "Map(center=[20, 0], controls=(WidgetControl(options=['position', 'transparent_bg'], widget=HBox(children=(Togg…"
      ]
     },
     "metadata": {},
     "output_type": "display_data"
    }
   ],
   "source": [
    "vis = {\n",
    "  'min': 280,\n",
    "  'max': 340,\n",
    "  'palette' : sns.color_palette('inferno', 20).as_hex(),\n",
    "}\n",
    "config = OmegaConf.load('../config/surfrad.yaml')\n",
    "station_id = 'BND'\n",
    "date_ = '20170611'\n",
    "lon = config['stations'][station_id]['Longitude']\n",
    "lat = config['stations'][station_id]['Latitude']\n",
    "scene_id = config['stations'][station_id]['scene_id']\n",
    "Map = geemap.Map()\n",
    "Map.add_basemap('HYBRID')\n",
    "\n",
    "image = ee.Image(f'LANDSAT/LC08/C02/T1_L2/LC08_{scene_id}_{date_}')\n",
    "downloaded_path = f'/home/yuhaoliu/Code/UrbanSurfTemp/data/{station_id}/lst/LC08_ST_B10_{date_}.tif'\n",
    "# entire_bt10 = '/home/yuhaoliu/Data/ISLAND/gdrive/entire_image_bt10.tif'\n",
    "entire_scaled = '/home/yuhaoliu/Data/ISLAND/gdrive/entire_image_scaled.tif'\n",
    "cropped_scaled = '/home/yuhaoliu/Data/ISLAND/gdrive/cropped_scaled.tif'\n",
    "Map.add_raster(downloaded_path, palette=vis['palette'], vmax=vis['max'], vmin=vis['min'], layer_name='downloaded_lst')\n",
    "Map.add_raster(cropped_scaled, palette=vis['palette'], vmax=vis['max'], vmin=vis['min'], layer_name='cropped_scaled')\n",
    "Map.add_raster(entire_scaled, palette=vis['palette'], vmax=vis['max'], vmin=vis['min'], layer_name='entire_scaled')\n",
    "Map.addLayer(image.select('ST_B10').multiply(0.00341802).add(149), vis, 'landsat_lst')\n",
    "Map"
   ]
  },
  {
   "cell_type": "code",
   "execution_count": 6,
   "id": "362aef5f-835d-4fbd-a954-717a1ca5ef1f",
   "metadata": {},
   "outputs": [
    {
     "name": "stdout",
     "output_type": "stream",
     "text": [
      "LANDSAT LST = 334.53696163999996 K\n",
      "Direct download GeoTIFF LST = 331.79912762000004\n",
      "Gdrive GeoTIFF LST = 334.53696163999996\n"
     ]
    }
   ],
   "source": [
    "lon, lat = -88.261, 40.145\n",
    "\n",
    "landsat_lst = get_landsat_lst(lon, lat, image=image)\n",
    "capture_time = get_landsat_capture_time(image=image)\n",
    "print(f'LANDSAT LST = {landsat_lst} K')\n",
    "\n",
    "direct_download_lst = query_geotiff(lon, lat, downloaded_path)\n",
    "print(f'Direct download GeoTIFF LST = {direct_download_lst}')\n",
    "\n",
    "gdrive_lst = query_geotiff(lon, lat, cropped_scaled)\n",
    "print(f'Gdrive GeoTIFF LST = {gdrive_lst}')"
   ]
  },
  {
   "cell_type": "markdown",
   "id": "05ac2617-d2f5-486c-abd3-1e3fd44ed7ac",
   "metadata": {},
   "source": [
    "When ee.Image are exported to Google Drive, even when there is cropping applied, there is no pixel shift."
   ]
  },
  {
   "cell_type": "markdown",
   "id": "717de56d-74bd-4dc3-9585-067e801139c1",
   "metadata": {},
   "source": [
    "## Loading modified images"
   ]
  },
  {
   "cell_type": "code",
   "execution_count": 2,
   "id": "39796054-31e1-4420-8daf-a7f959e775a2",
   "metadata": {},
   "outputs": [
    {
     "data": {
      "application/vnd.jupyter.widget-view+json": {
       "model_id": "d6c989b7a31f40a2b530e2c0c91606fb",
       "version_major": 2,
       "version_minor": 0
      },
      "text/plain": [
       "Map(center=[20, 0], controls=(WidgetControl(options=['position', 'transparent_bg'], widget=HBox(children=(Togg…"
      ]
     },
     "metadata": {},
     "output_type": "display_data"
    }
   ],
   "source": [
    "vis = {\n",
    "  'min': 280,\n",
    "  'max': 340,\n",
    "  'palette' : sns.color_palette('inferno', 20).as_hex(),\n",
    "}\n",
    "config = OmegaConf.load('../config/surfrad.yaml')\n",
    "station_id = 'BND'\n",
    "date_ = '20170611'\n",
    "lon = config['stations'][station_id]['Longitude']\n",
    "lat = config['stations'][station_id]['Latitude']\n",
    "scene_id = config['stations'][station_id]['scene_id']\n",
    "Map = geemap.Map()\n",
    "Map.add_basemap('HYBRID')\n",
    "\n",
    "img_path = f'/home/yuhaoliu/Code/UrbanSurfTemp/data/{station_id}/lst/LC08_ST_B10_{date_}.tif'\n",
    "aligned_path = '/home/yuhaoliu/Code/UrbanSurfTemp/tmp/align.tif'\n",
    "image = ee.Image(f'LANDSAT/LC08/C02/T1_L2/LC08_{scene_id}_{date_}')\n",
    "Map.add_raster(img_path, palette=vis['palette'], vmax=vis['max'], vmin=vis['min'], layer_name='downloaded_lst')\n",
    "Map.add_raster(aligned_path, palette=vis['palette'], vmax=vis['max'], vmin=vis['min'], layer_name='aligned_lst')\n",
    "Map.addLayer(image.select('ST_B10').multiply(0.00341802).add(149), vis, 'landsat_lst')\n",
    "Map"
   ]
  },
  {
   "cell_type": "code",
   "execution_count": 5,
   "id": "0cd4bd37-873c-42ae-a26f-00d8d43979ba",
   "metadata": {},
   "outputs": [
    {
     "name": "stdout",
     "output_type": "stream",
     "text": [
      "LANDSAT LST = 334.53696163999996 K\n",
      "Direct download GeoTIFF LST = 331.79912762000004\n",
      "Aligned GeoTIFF LST = 334.53696163999996\n"
     ]
    }
   ],
   "source": [
    "lon, lat = -88.261, 40.145\n",
    "\n",
    "landsat_lst = get_landsat_lst(lon, lat, image=image)\n",
    "capture_time = get_landsat_capture_time(image=image)\n",
    "print(f'LANDSAT LST = {landsat_lst} K')\n",
    "\n",
    "direct_download_lst = query_geotiff(lon, lat, img_path)\n",
    "print(f'Direct download GeoTIFF LST = {direct_download_lst}')\n",
    "\n",
    "aligned_lst = query_geotiff(lon, lat, aligned_path)\n",
    "print(f'Aligned GeoTIFF LST = {aligned_lst}')"
   ]
  },
  {
   "cell_type": "markdown",
   "id": "4a34df74-2164-444c-b6b6-6b307928690b",
   "metadata": {},
   "source": [
    "Success!"
   ]
  },
  {
   "cell_type": "code",
   "execution_count": 2,
   "id": "da1de9bf-f9ee-4e32-866d-3e4607968372",
   "metadata": {},
   "outputs": [
    {
     "data": {
      "application/vnd.jupyter.widget-view+json": {
       "model_id": "71e2b557980c400aae85d4494b6d2808",
       "version_major": 2,
       "version_minor": 0
      },
      "text/plain": [
       "Map(center=[20, 0], controls=(WidgetControl(options=['position', 'transparent_bg'], widget=HBox(children=(Togg…"
      ]
     },
     "metadata": {},
     "output_type": "display_data"
    }
   ],
   "source": [
    "vis = {\n",
    "  'min': 270,\n",
    "  'max': 320,\n",
    "  'palette' : sns.color_palette('inferno', 20).as_hex(),\n",
    "}\n",
    "config = OmegaConf.load('../config/surfrad.yaml')\n",
    "station_id = 'PSU'\n",
    "date_ = '20170322'\n",
    "lon = config['stations'][station_id]['Longitude']\n",
    "lat = config['stations'][station_id]['Latitude']\n",
    "scene_id = config['stations'][station_id]['scene_id']\n",
    "Map = geemap.Map()\n",
    "Map.add_basemap('HYBRID')\n",
    "\n",
    "img_path = f'/home/yuhaoliu/Code/UrbanSurfTemp/data/{station_id}/lst/LC08_ST_B10_{date_}.tif'\n",
    "aligned_path = '/home/yuhaoliu/Code/UrbanSurfTemp/tmp/align_2.tif'\n",
    "image = ee.Image(f'LANDSAT/LC08/C02/T1_L2/LC08_{scene_id}_{date_}')\n",
    "Map.add_raster(img_path, palette=vis['palette'], vmax=vis['max'], vmin=vis['min'], layer_name='downloaded_lst')\n",
    "Map.add_raster(aligned_path, palette=vis['palette'], vmax=vis['max'], vmin=vis['min'], layer_name='aligned_lst')\n",
    "Map.addLayer(image.select('ST_B10').multiply(0.00341802).add(149), vis, 'landsat_lst')\n",
    "Map"
   ]
  }
 ],
 "metadata": {
  "kernelspec": {
   "display_name": "Python 3 (ipykernel)",
   "language": "python",
   "name": "python3"
  },
  "language_info": {
   "codemirror_mode": {
    "name": "ipython",
    "version": 3
   },
   "file_extension": ".py",
   "mimetype": "text/x-python",
   "name": "python",
   "nbconvert_exporter": "python",
   "pygments_lexer": "ipython3",
   "version": "3.9.13"
  }
 },
 "nbformat": 4,
 "nbformat_minor": 5
}
