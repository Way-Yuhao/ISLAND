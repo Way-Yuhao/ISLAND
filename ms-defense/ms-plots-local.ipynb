{
 "cells": [
  {
   "cell_type": "code",
   "execution_count": 3,
   "id": "570b0d5b-b651-4c43-bc86-333f9b96c55a",
   "metadata": {
    "tags": []
   },
   "outputs": [],
   "source": [
    "import os\n",
    "import os.path as p\n",
    "import sys\n",
    "import cv2\n",
    "import ee\n",
    "import geemap\n",
    "import seaborn as sns\n",
    "from natsort import natsorted\n",
    "module_path = os.path.abspath(os.path.join('..'))\n",
    "if module_path not in sys.path:\n",
    "    sys.path.append(module_path)\n",
    "from util.helper import get_scene_id"
   ]
  },
  {
   "cell_type": "code",
   "execution_count": 4,
   "id": "b3a26273-3a27-4578-b030-0d784e3b1032",
   "metadata": {
    "tags": []
   },
   "outputs": [
    {
     "data": {
      "text/html": [
       "<p>To authorize access needed by Earth Engine, open the following\n",
       "        URL in a web browser and follow the instructions:</p>\n",
       "        <p><a href=https://code.earthengine.google.com/client-auth?scopes=https%3A//www.googleapis.com/auth/earthengine%20https%3A//www.googleapis.com/auth/devstorage.full_control&request_id=NWPOIgI4lZfXsz2OzD9E9L8oFovObttQKyM8IZYGulI&tc=yj_nKXnkT645gc08JKldDi9EBWYx3sJ6kqEx7zSDOYw&cc=qbWgYSKtg5xfIosTRHcNjCO6HvbDJZ0_ljdNU5x0ycE>https://code.earthengine.google.com/client-auth?scopes=https%3A//www.googleapis.com/auth/earthengine%20https%3A//www.googleapis.com/auth/devstorage.full_control&request_id=NWPOIgI4lZfXsz2OzD9E9L8oFovObttQKyM8IZYGulI&tc=yj_nKXnkT645gc08JKldDi9EBWYx3sJ6kqEx7zSDOYw&cc=qbWgYSKtg5xfIosTRHcNjCO6HvbDJZ0_ljdNU5x0ycE</a></p>\n",
       "        <p>The authorization workflow will generate a code, which you should paste in the box below.</p>\n",
       "        "
      ],
      "text/plain": [
       "<IPython.core.display.HTML object>"
      ]
     },
     "metadata": {},
     "output_type": "display_data"
    },
    {
     "name": "stdin",
     "output_type": "stream",
     "text": [
      "Enter verification code:  4/1AfJohXk-G4mVz_qoi_708n7S5xWPHZPqVAp7VMJpCjupp_JTw6H3cCBsdn0\n"
     ]
    },
    {
     "name": "stdout",
     "output_type": "stream",
     "text": [
      "\n",
      "Successfully saved authorization token.\n"
     ]
    }
   ],
   "source": [
    "ee.Authenticate()"
   ]
  },
  {
   "cell_type": "code",
   "execution_count": 7,
   "id": "ca69fa9d-893d-40c1-b8b9-58108731c6a5",
   "metadata": {
    "tags": []
   },
   "outputs": [
    {
     "data": {
      "application/vnd.jupyter.widget-view+json": {
       "model_id": "9eadd56895df4cc797835912487a0e29",
       "version_major": 2,
       "version_minor": 0
      },
      "text/plain": [
       "Map(center=[29.7662, -95.241], controls=(WidgetControl(options=['position', 'transparent_bg'], widget=HBox(chi…"
      ]
     },
     "execution_count": 7,
     "metadata": {},
     "output_type": "execute_result"
    }
   ],
   "source": [
    "root_ = '/Users/yuhaoliu/mnt/r10/Code/UrbanSurfTemp/data/'\n",
    "\n",
    "date_ = 20220215\n",
    "city = 'Houston'\n",
    "scene_id = get_scene_id(city)\n",
    "vis = {\n",
    "  'min': 280.0,\n",
    "  'max': 320.0,\n",
    "  'palette' : sns.color_palette('magma', 20).as_hex(),\n",
    "}\n",
    "vis_rgb = {'min': 0.0, 'max': 0.4}\n",
    "vis_emis = {'min': 0.95, 'max': 1.0, 'palette' : sns.color_palette('cividis', 20).as_hex()}\n",
    "Map = geemap.Map(center=(29.7662, -95.2410), zoom=9)\n",
    "# from earth engine \n",
    "landsat_b10 = ee.Image(f'LANDSAT/LC08/C02/T1_TOA/LC08_{scene_id}_{date_}').select('B10')\n",
    "landsat_rgb = ee.Image(f'LANDSAT/LC08/C02/T1_TOA/LC08_{scene_id}_{date_}').select(['B4', 'B3', 'B2'])\n",
    "landsat_st = ee.Image(f'LANDSAT/LC08/C02/T1_L2/LC08_{scene_id}_{date_}').select('ST_B10').multiply(0.00341802).add(149)\n",
    "landsat_emis = ee.Image(f'LANDSAT/LC08/C02/T1_L2/LC08_{scene_id}_{date_}').select('ST_EMIS').multiply(0.0001)\n",
    "dataset = ee.ImageCollection('USGS/NLCD_RELEASES/2019_REL/NLCD')\n",
    "nlcd_2019 = dataset.filter(ee.Filter.eq('system:index', '2019')).first()\n",
    "landcover_2019 = nlcd_2019.select('landcover')\n",
    "ours = p.join(root_, f'{city}/output_referenced/st/st_{date_}.tif')\n",
    "# MISSING OCCLUSION\n",
    "cloud = p.join(root_, f'Houston/analysis/LC08_cloud_{date_}.tif')\n",
    "shadow = p.join(root_, f'Houston/analysis/LC08_shadow_{date_}.tif')\n",
    "occlusion = p.join(root_, f'Houston/analysis/LC08_occlusion_{date_}.tif')\n",
    "spatial = p.join(root_, f'Houston/analysis/reconst_20170422_spatial.tif')\n",
    "temporal = p.join(root_, f'Houston/analysis/reconst_20170422_temporal.tif')\n",
    "ours_bt = p.join(root_, f'Houston/output_referenced/bt/bt_{date_}.tif')\n",
    "ours_st = p.join(root_, f'Houston/output_referenced/st/st_{date_}.tif')\n",
    "# add layers\n",
    "Map.add_raster(source=ours, layer_name='ours', palette=vis['palette'], vmin=vis['min'], vmax=vis['max'])\n",
    "Map.addLayer(landsat_rgb, vis_rgb, name='rgb')\n",
    "# Map.addLayer(landsat_b10, vis, name='landsat_b10')\n",
    "Map.addLayer(landsat_st, vis, name='landsat_st')\n",
    "Map.addLayer(landsat_emis, vis_emis, name='landsat_emis')\n",
    "# Map.addLayer(landcover_2019, None, 'landcover')\n",
    "# Map.add_raster(source=cloud, layer_name='cloud')\n",
    "# Map.add_raster(source=shadow, layer_name='shadow')\n",
    "# Map.add_raster(source=occlusion, layer_name='occlusion')\n",
    "# Map.add_raster(source=spatial, layer_name='spatial', palette=vis['palette'], vmin=vis['min'], vmax=vis['max'])\n",
    "# Map.add_raster(source=temporal, layer_name='temporal', palette=vis['palette'], vmin=vis['min'], vmax=vis['max'])\n",
    "# Map.add_raster(source=ours_bt, layer_name='ours_bt', palette=vis['palette'], vmin=vis['min'], vmax=vis['max'])\n",
    "## Map.add_raster(source=ours_st, layer_name='ours_st', palette=vis['palette'], vmin=vis['min'], vmax=vis['max'])\n",
    "Map.add_colorbar(vis, label='Brightness Temperature (K)')\n",
    "Map.add_colorbar(vis_emis, label='Emissivity')\n",
    "Map"
   ]
  }
 ],
 "metadata": {
  "kernelspec": {
   "display_name": "Python 3 (ipykernel)",
   "language": "python",
   "name": "python3"
  },
  "language_info": {
   "codemirror_mode": {
    "name": "ipython",
    "version": 3
   },
   "file_extension": ".py",
   "mimetype": "text/x-python",
   "name": "python",
   "nbconvert_exporter": "python",
   "pygments_lexer": "ipython3",
   "version": "3.11.5"
  }
 },
 "nbformat": 4,
 "nbformat_minor": 5
}
