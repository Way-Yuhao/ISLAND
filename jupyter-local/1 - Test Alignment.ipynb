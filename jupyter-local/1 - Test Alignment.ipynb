{
 "cells": [
  {
   "cell_type": "markdown",
   "metadata": {
    "jupyter": {
     "outputs_hidden": true
    },
    "tags": []
   },
   "source": [
    "## Plotting an user-uploaded GeoTIFF file"
   ]
  },
  {
   "cell_type": "code",
   "execution_count": 1,
   "metadata": {
    "tags": []
   },
   "outputs": [],
   "source": [
    "import os\n",
    "import os.path as p\n",
    "import geemap"
   ]
  },
  {
   "cell_type": "code",
   "execution_count": 4,
   "metadata": {
    "tags": []
   },
   "outputs": [
    {
     "data": {
      "application/vnd.jupyter.widget-view+json": {
       "model_id": "6c56d2aa9f3a4c1ca61a4855fcbb858a",
       "version_major": 2,
       "version_minor": 0
      },
      "text/plain": [
       "Map(center=[20, 0], controls=(WidgetControl(options=['position', 'transparent_bg'], widget=HBox(children=(Togg…"
      ]
     },
     "metadata": {},
     "output_type": "display_data"
    }
   ],
   "source": [
    "thermal = '/Users/yuhaoliu/Downloads/vis/st_20180425.tif'\n",
    "nlcd = '/Users/yuhaoliu/Downloads/vis/phoenix_nlcd.tif'\n",
    "Map = geemap.Map()\n",
    "Map.add_raster(source=thermal, layer_name='thermal', color_map='twilight')\n",
    "# Map.add_raster(source=nlcd, layer_name='nlcd')\n",
    "Map"
   ]
  },
  {
   "cell_type": "markdown",
   "metadata": {},
   "source": [
    "## What about input B10 files?"
   ]
  },
  {
   "cell_type": "code",
   "execution_count": 13,
   "metadata": {
    "tags": []
   },
   "outputs": [
    {
     "data": {
      "application/vnd.jupyter.widget-view+json": {
       "model_id": "3ae6dda8f6bd45bcb104b58034fab607",
       "version_major": 2,
       "version_minor": 0
      },
      "text/plain": [
       "Map(center=[20, 0], controls=(WidgetControl(options=['position', 'transparent_bg'], widget=HBox(children=(Togg…"
      ]
     },
     "metadata": {},
     "output_type": "display_data"
    }
   ],
   "source": [
    "# b10 = '/Users/yuhaoliu/Downloads/landsat thermal images/LC08_B10_20170321.tif'\n",
    "result1 = '/Users/yuhaoliu/mnt/r10/Code/UrbanSurfTemp/data/New York/output_referenced/bt/bt_20220619.tif'\n",
    "# result2 = '/Users/yuhaoliu/mnt/r10/Code/UrbanSurfTemp/data/Houston/output_referenced/bt/bt_20220623.tif'\n",
    "Map = geemap.Map()\n",
    "Map.add_raster(source=result1)\n",
    "# Map.add_raster(source=result2)\n",
    "Map"
   ]
  }
 ],
 "metadata": {
  "kernelspec": {
   "display_name": "Python 3 (ipykernel)",
   "language": "python",
   "name": "python3"
  },
  "language_info": {
   "codemirror_mode": {
    "name": "ipython",
    "version": 3
   },
   "file_extension": ".py",
   "mimetype": "text/x-python",
   "name": "python",
   "nbconvert_exporter": "python",
   "pygments_lexer": "ipython3",
   "version": "3.11.0"
  }
 },
 "nbformat": 4,
 "nbformat_minor": 4
}
