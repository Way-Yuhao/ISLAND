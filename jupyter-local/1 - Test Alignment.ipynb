{
 "cells": [
  {
   "cell_type": "markdown",
   "metadata": {
    "jupyter": {
     "outputs_hidden": true
    },
    "tags": []
   },
   "source": [
    "## Plotting an user-uploaded GeoTIFF file"
   ]
  },
  {
   "cell_type": "code",
   "execution_count": 1,
   "metadata": {
    "tags": []
   },
   "outputs": [],
   "source": [
    "import os\n",
    "import os.path as p\n",
    "import geemap"
   ]
  },
  {
   "cell_type": "code",
   "execution_count": 4,
   "metadata": {
    "tags": []
   },
   "outputs": [
    {
     "data": {
      "application/vnd.jupyter.widget-view+json": {
       "model_id": "6c56d2aa9f3a4c1ca61a4855fcbb858a",
       "version_major": 2,
       "version_minor": 0
      },
      "text/plain": [
       "Map(center=[20, 0], controls=(WidgetControl(options=['position', 'transparent_bg'], widget=HBox(children=(Togg…"
      ]
     },
     "metadata": {},
     "output_type": "display_data"
    }
   ],
   "source": [
    "thermal = '/Users/yuhaoliu/Downloads/vis/st_20180425.tif'\n",
    "nlcd = '/Users/yuhaoliu/Downloads/vis/phoenix_nlcd.tif'\n",
    "Map = geemap.Map()\n",
    "Map.add_raster(source=thermal, layer_name='thermal', color_map='twilight')\n",
    "# Map.add_raster(source=nlcd, layer_name='nlcd')\n",
    "Map"
   ]
  },
  {
   "cell_type": "markdown",
   "metadata": {},
   "source": [
    "## What about input B10 files?"
   ]
  },
  {
   "cell_type": "code",
   "execution_count": 6,
   "metadata": {
    "tags": []
   },
   "outputs": [
    {
     "ename": "ValueError",
     "evalue": "The source path does not exist.",
     "output_type": "error",
     "traceback": [
      "\u001B[0;31m---------------------------------------------------------------------------\u001B[0m",
      "\u001B[0;31mValueError\u001B[0m                                Traceback (most recent call last)",
      "Cell \u001B[0;32mIn[6], line 3\u001B[0m\n\u001B[1;32m      1\u001B[0m b10 \u001B[38;5;241m=\u001B[39m \u001B[38;5;124m'\u001B[39m\u001B[38;5;124m/Users/yuhaoliu/Downloads/landsat thermal images/LC08_B10_20170312.tif\u001B[39m\u001B[38;5;124m'\u001B[39m\n\u001B[1;32m      2\u001B[0m Map \u001B[38;5;241m=\u001B[39m geemap\u001B[38;5;241m.\u001B[39mMap()\n\u001B[0;32m----> 3\u001B[0m \u001B[43mMap\u001B[49m\u001B[38;5;241;43m.\u001B[39;49m\u001B[43madd_raster\u001B[49m\u001B[43m(\u001B[49m\u001B[43msource\u001B[49m\u001B[38;5;241;43m=\u001B[39;49m\u001B[43mb10\u001B[49m\u001B[43m)\u001B[49m\n\u001B[1;32m      4\u001B[0m Map\n",
      "File \u001B[0;32m~/opt/miniconda3/envs/ee-local/lib/python3.11/site-packages/geemap/geemap.py:3656\u001B[0m, in \u001B[0;36mMap.add_raster\u001B[0;34m(self, source, band, palette, vmin, vmax, nodata, attribution, layer_name, **kwargs)\u001B[0m\n\u001B[1;32m   3653\u001B[0m     \u001B[38;5;28mprint\u001B[39m(\u001B[38;5;124m\"\u001B[39m\u001B[38;5;124mThis add_raster() function is not supported in Colab.\u001B[39m\u001B[38;5;124m\"\u001B[39m)\n\u001B[1;32m   3654\u001B[0m     \u001B[38;5;28;01mreturn\u001B[39;00m\n\u001B[0;32m-> 3656\u001B[0m tile_layer, tile_client \u001B[38;5;241m=\u001B[39m \u001B[43mget_local_tile_layer\u001B[49m\u001B[43m(\u001B[49m\n\u001B[1;32m   3657\u001B[0m \u001B[43m    \u001B[49m\u001B[43msource\u001B[49m\u001B[43m,\u001B[49m\n\u001B[1;32m   3658\u001B[0m \u001B[43m    \u001B[49m\u001B[43mband\u001B[49m\u001B[38;5;241;43m=\u001B[39;49m\u001B[43mband\u001B[49m\u001B[43m,\u001B[49m\n\u001B[1;32m   3659\u001B[0m \u001B[43m    \u001B[49m\u001B[43mpalette\u001B[49m\u001B[38;5;241;43m=\u001B[39;49m\u001B[43mpalette\u001B[49m\u001B[43m,\u001B[49m\n\u001B[1;32m   3660\u001B[0m \u001B[43m    \u001B[49m\u001B[43mvmin\u001B[49m\u001B[38;5;241;43m=\u001B[39;49m\u001B[43mvmin\u001B[49m\u001B[43m,\u001B[49m\n\u001B[1;32m   3661\u001B[0m \u001B[43m    \u001B[49m\u001B[43mvmax\u001B[49m\u001B[38;5;241;43m=\u001B[39;49m\u001B[43mvmax\u001B[49m\u001B[43m,\u001B[49m\n\u001B[1;32m   3662\u001B[0m \u001B[43m    \u001B[49m\u001B[43mnodata\u001B[49m\u001B[38;5;241;43m=\u001B[39;49m\u001B[43mnodata\u001B[49m\u001B[43m,\u001B[49m\n\u001B[1;32m   3663\u001B[0m \u001B[43m    \u001B[49m\u001B[43mattribution\u001B[49m\u001B[38;5;241;43m=\u001B[39;49m\u001B[43mattribution\u001B[49m\u001B[43m,\u001B[49m\n\u001B[1;32m   3664\u001B[0m \u001B[43m    \u001B[49m\u001B[43mlayer_name\u001B[49m\u001B[38;5;241;43m=\u001B[39;49m\u001B[43mlayer_name\u001B[49m\u001B[43m,\u001B[49m\n\u001B[1;32m   3665\u001B[0m \u001B[43m    \u001B[49m\u001B[43mreturn_client\u001B[49m\u001B[38;5;241;43m=\u001B[39;49m\u001B[38;5;28;43;01mTrue\u001B[39;49;00m\u001B[43m,\u001B[49m\n\u001B[1;32m   3666\u001B[0m \u001B[43m    \u001B[49m\u001B[38;5;241;43m*\u001B[39;49m\u001B[38;5;241;43m*\u001B[39;49m\u001B[43mkwargs\u001B[49m\u001B[43m,\u001B[49m\n\u001B[1;32m   3667\u001B[0m \u001B[43m\u001B[49m\u001B[43m)\u001B[49m\n\u001B[1;32m   3669\u001B[0m \u001B[38;5;28mself\u001B[39m\u001B[38;5;241m.\u001B[39madd_layer(tile_layer)\n\u001B[1;32m   3671\u001B[0m output \u001B[38;5;241m=\u001B[39m widgets\u001B[38;5;241m.\u001B[39mOutput()\n",
      "File \u001B[0;32m~/opt/miniconda3/envs/ee-local/lib/python3.11/site-packages/geemap/common.py:10533\u001B[0m, in \u001B[0;36mget_local_tile_layer\u001B[0;34m(source, port, debug, projection, band, palette, vmin, vmax, nodata, attribution, tile_format, layer_name, return_client, **kwargs)\u001B[0m\n\u001B[1;32m  10531\u001B[0m         source \u001B[38;5;241m=\u001B[39m os\u001B[38;5;241m.\u001B[39mpath\u001B[38;5;241m.\u001B[39mabspath(source)\n\u001B[1;32m  10532\u001B[0m     \u001B[38;5;28;01mif\u001B[39;00m \u001B[38;5;129;01mnot\u001B[39;00m os\u001B[38;5;241m.\u001B[39mpath\u001B[38;5;241m.\u001B[39mexists(source):\n\u001B[0;32m> 10533\u001B[0m         \u001B[38;5;28;01mraise\u001B[39;00m \u001B[38;5;167;01mValueError\u001B[39;00m(\u001B[38;5;124m\"\u001B[39m\u001B[38;5;124mThe source path does not exist.\u001B[39m\u001B[38;5;124m\"\u001B[39m)\n\u001B[1;32m  10534\u001B[0m \u001B[38;5;28;01melse\u001B[39;00m:\n\u001B[1;32m  10535\u001B[0m     source \u001B[38;5;241m=\u001B[39m github_raw_url(source)\n",
      "\u001B[0;31mValueError\u001B[0m: The source path does not exist."
     ]
    }
   ],
   "source": [
    "b10 = '/Users/yuhaoliu/Downloads/landsat thermal images/LC08_B10_20170321.tif'\n",
    "Map = geemap.Map()\n",
    "Map.add_raster(source=b10)\n",
    "Map"
   ]
  }
 ],
 "metadata": {
  "kernelspec": {
   "display_name": "Python 3 (ipykernel)",
   "language": "python",
   "name": "python3"
  },
  "language_info": {
   "codemirror_mode": {
    "name": "ipython",
    "version": 3
   },
   "file_extension": ".py",
   "mimetype": "text/x-python",
   "name": "python",
   "nbconvert_exporter": "python",
   "pygments_lexer": "ipython3",
   "version": "3.11.0"
  }
 },
 "nbformat": 4,
 "nbformat_minor": 4
}
