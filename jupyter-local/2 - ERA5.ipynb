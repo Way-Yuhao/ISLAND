{
 "cells": [
  {
   "cell_type": "code",
   "execution_count": 1,
   "id": "21e389e1-1087-4636-a591-87714da7a470",
   "metadata": {
    "tags": []
   },
   "outputs": [],
   "source": [
    "import os\n",
    "import os.path as p\n",
    "import sys\n",
    "import ee\n",
    "import geemap\n",
    "import seaborn as sns\n",
    "module_path = os.path.abspath(os.path.join('..'))\n",
    "if module_path not in sys.path:\n",
    "    sys.path.append(module_path)\n",
    "from util.helper import get_scene_id\n",
    "root_ = '/Users/yuhaoliu/mnt/r10/Code/UrbanSurfTemp/data/'"
   ]
  },
  {
   "cell_type": "code",
   "execution_count": 5,
   "id": "3261155a-9f0d-4896-9a97-bd62c7841b6a",
   "metadata": {
    "tags": []
   },
   "outputs": [],
   "source": [
    "# ee.Authenticate()  # if needed"
   ]
  },
  {
   "cell_type": "markdown",
   "id": "dc7a150f-c89f-446b-9202-a25103bcc5e8",
   "metadata": {},
   "source": [
    "## Visualization of input and output"
   ]
  },
  {
   "cell_type": "code",
   "execution_count": 31,
   "id": "815af580-76bb-44e1-9e7d-efbdbce4b37f",
   "metadata": {
    "tags": []
   },
   "outputs": [
    {
     "data": {
      "application/vnd.jupyter.widget-view+json": {
       "model_id": "a61e1d4eb9844efc92944e73cd65bcee",
       "version_major": 2,
       "version_minor": 0
      },
      "text/plain": [
       "Map(center=[20, 0], controls=(WidgetControl(options=['position', 'transparent_bg'], widget=HBox(children=(Togg…"
      ]
     },
     "metadata": {},
     "output_type": "display_data"
    }
   ],
   "source": [
    "date_ = 20170422\n",
    "city = 'Houston'\n",
    "scene_id = get_scene_id(city)\n",
    "vis = {\n",
    "  'min': 280.0,\n",
    "  'max': 320.0,\n",
    "  'palette' : sns.color_palette('magma', 20).as_hex(),\n",
    "}\n",
    "vis_rgb = {'min': 0.0, 'max': 0.4}\n",
    "vis_emis = {'min': 0.9, 'max': 1.0, 'palette' : sns.color_palette('cividis', 20).as_hex()}\n",
    "Map = geemap.Map()\n",
    "# from earth engine \n",
    "landsat_b10 = ee.Image(f'LANDSAT/LC08/C02/T1_TOA/LC08_{scene_id}_{date_}').select('B10')\n",
    "landsat_rgb = ee.Image(f'LANDSAT/LC08/C02/T1_TOA/LC08_{scene_id}_{date_}').select(['B4', 'B3', 'B2'])\n",
    "landsat_st = ee.Image(f'LANDSAT/LC08/C02/T1_L2/LC08_{scene_id}_{date_}').select('ST_B10').multiply(0.00341802).add(149)\n",
    "landsat_emis = ee.Image(f'LANDSAT/LC08/C02/T1_L2/LC08_{scene_id}_{date_}').select('ST_EMIS').multiply(0.0001)\n",
    "# ours\n",
    "# MISSING OCCLUSION\n",
    "cloud = p.join(root_, f'Houston/analysis/LC08_cloud_{date_}.tif')\n",
    "shadow = p.join(root_, f'Houston/analysis/LC08_shadow_{date_}.tif')\n",
    "occlusion = p.join(root_, f'Houston/analysis/LC08_occlusion_{date_}.tif')\n",
    "spatial = p.join(root_, f'Houston/analysis/reconst_20170422_spatial.tif')\n",
    "temporal = p.join(root_, f'Houston/analysis/reconst_20170422_temporal.tif')\n",
    "ours_bt = p.join(root_, f'Houston/output_referenced/bt/bt_{date_}.tif')\n",
    "ours_st = p.join(root_, f'Houston/output_referenced/st/st_{date_}.tif')\n",
    "# add layers\n",
    "Map.addLayer(landsat_rgb, vis_rgb, name='rgb')\n",
    "Map.addLayer(landsat_b10, vis, name='landsat_b10')\n",
    "Map.addLayer(landsat_st, vis, name='landsat_st')\n",
    "Map.addLayer(landsat_emis, vis_emis, name='landsat_emis')\n",
    "# Map.add_raster(source=cloud, layer_name='cloud')\n",
    "# Map.add_raster(source=shadow, layer_name='shadow')\n",
    "# Map.add_raster(source=occlusion, layer_name='occlusion')\n",
    "# Map.add_raster(source=spatial, layer_name='spatial', palette=vis['palette'], vmin=vis['min'], vmax=vis['max'])\n",
    "# Map.add_raster(source=temporal, layer_name='temporal', palette=vis['palette'], vmin=vis['min'], vmax=vis['max'])\n",
    "# Map.add_raster(source=ours_bt, layer_name='ours_bt', palette=vis['palette'], vmin=vis['min'], vmax=vis['max'])\n",
    "Map.add_raster(source=ours_st, layer_name='ours_st', palette=vis['palette'], vmin=vis['min'], vmax=vis['max'])\n",
    "Map.add_colorbar(vis, label='Brightness Temperature (K)')\n",
    "Map.add_colorbar(vis_emis, label='Emissivity')\n",
    "Map"
   ]
  },
  {
   "cell_type": "code",
   "execution_count": 39,
   "id": "260c79c5-e85a-49f3-ab68-425a7846485f",
   "metadata": {
    "tags": []
   },
   "outputs": [
    {
     "name": "stdout",
     "output_type": "stream",
     "text": [
      "Generating URL ...\n",
      "Downloading data from https://earthengine.googleapis.com/v1alpha/projects/earthengine-legacy/thumbnails/4d12ca00385bb0c87f678bd7e237e6c5-d81d2fbeaa0d75f61f00e5a236685b1f:getPixels\n",
      "Please wait ...\n",
      "Data downloaded to /Users/yuhaoliu/Desktop\n"
     ]
    }
   ],
   "source": [
    "# feature = Map.draw_last_feature\n",
    "# roi = feature.geometry()\n",
    "# image = landsat_emis.clip(roi).unmask()\n",
    "# geemap.ee_export_image(\n",
    "#     image, filename='/Users/yuhaoliu/Desktop/input_output.tif', scale=90, region=roi, file_per_band=True\n",
    "# )"
   ]
  },
  {
   "cell_type": "markdown",
   "id": "8433af7f-18a5-4973-a499-fb577a341e9b",
   "metadata": {},
   "source": [
    "## Comparison with other products"
   ]
  },
  {
   "cell_type": "code",
   "execution_count": 14,
   "id": "49ebf58f-91d1-4e0d-9a65-33a3ba597340",
   "metadata": {
    "tags": []
   },
   "outputs": [
    {
     "data": {
      "application/vnd.jupyter.widget-view+json": {
       "model_id": "8262b6c0a8dd451bb8c5d1ca0cd034f5",
       "version_major": 2,
       "version_minor": 0
      },
      "text/plain": [
       "Map(center=[20, 0], controls=(WidgetControl(options=['position', 'transparent_bg'], widget=HBox(children=(Togg…"
      ]
     },
     "metadata": {},
     "output_type": "display_data"
    }
   ],
   "source": [
    "city = 'Philadelphia'\n",
    "date_ = 20210709\n",
    "scene_id = get_scene_id(city)\n",
    "vis = {\n",
    "  'min': 290.0,\n",
    "  'max': 325.0,\n",
    "  'palette' : sns.color_palette('magma', 100).as_hex(),\n",
    "}\n",
    "vis_rgb = {'min': 0.0, 'max': 0.4}\n",
    "\n",
    "Map = geemap.Map()\n",
    "era5_img = ee.Image(f'ECMWF/ERA5_LAND/HOURLY/{date_}T16').select('skin_temperature')\n",
    "landsat_st = ee.Image(f'LANDSAT/LC08/C02/T1_L2/LC08_{scene_id}_{date_}').select('ST_B10').multiply(0.00341802).add(149)\n",
    "# landsat_b10 = ee.Image(f'LANDSAT/LC08/C02/T1_TOA/LC08_{scene_id}_{date_}').select('B10')\n",
    "landsat_rgb = ee.Image(f'LANDSAT/LC08/C02/T1_TOA/LC08_{scene_id}_{date_}').select(['B4', 'B3', 'B2'])\n",
    "ours = p.join(root_, f'{city}/output_referenced/st/st_{date_}.tif')\n",
    "ours_bt = p.join(root_, f'{city}/output_referenced/bt/bt_{date_}.tif')\n",
    "Map.addLayer(era5_img, vis, name='era5')\n",
    "Map.addLayer(landsat_rgb,vis_rgb, name='rgb')\n",
    "Map.addLayer(landsat_st, vis, name='landsat_st')\n",
    "Map.add_raster(source=ours, layer_name='ours', palette=vis['palette'], vmin=vis['min'], vmax=vis['max'])\n",
    "# Map.add_raster(source=ours_bt, layer_name='our_bt', palette=vis['palette'], vmin=vis['min'], vmax=vis['max'])\n",
    "Map.add_colorbar(vis, label='Surface Temperature')\n",
    "Map"
   ]
  },
  {
   "cell_type": "code",
   "execution_count": null,
   "id": "0e08d782-8f54-497e-9a22-62f54eb71ede",
   "metadata": {},
   "outputs": [],
   "source": []
  }
 ],
 "metadata": {
  "kernelspec": {
   "display_name": "Python 3 (ipykernel)",
   "language": "python",
   "name": "python3"
  },
  "language_info": {
   "codemirror_mode": {
    "name": "ipython",
    "version": 3
   },
   "file_extension": ".py",
   "mimetype": "text/x-python",
   "name": "python",
   "nbconvert_exporter": "python",
   "pygments_lexer": "ipython3",
   "version": "3.11.0"
  }
 },
 "nbformat": 4,
 "nbformat_minor": 5
}
