{
 "cells": [
  {
   "cell_type": "code",
   "execution_count": 1,
   "id": "21e389e1-1087-4636-a591-87714da7a470",
   "metadata": {
    "tags": []
   },
   "outputs": [],
   "source": [
    "import os\n",
    "import os.path as p\n",
    "import sys\n",
    "import ee\n",
    "import geemap\n",
    "import seaborn as sns\n",
    "module_path = os.path.abspath(os.path.join('..'))\n",
    "if module_path not in sys.path:\n",
    "    sys.path.append(module_path)\n",
    "from util.helper import get_scene_id\n",
    "root_ = '/Users/yuhaoliu/mnt/r10/Code/UrbanSurfTemp/data/'"
   ]
  },
  {
   "cell_type": "markdown",
   "id": "dc7a150f-c89f-446b-9202-a25103bcc5e8",
   "metadata": {},
   "source": [
    "## Visualization of input and output"
   ]
  },
  {
   "cell_type": "code",
   "execution_count": 21,
   "id": "815af580-76bb-44e1-9e7d-efbdbce4b37f",
   "metadata": {
    "tags": []
   },
   "outputs": [
    {
     "data": {
      "application/vnd.jupyter.widget-view+json": {
       "model_id": "8ecbbe0d52db490686280fda730a67e2",
       "version_major": 2,
       "version_minor": 0
      },
      "text/plain": [
       "Map(center=[20, 0], controls=(WidgetControl(options=['position', 'transparent_bg'], widget=HBox(children=(Togg…"
      ]
     },
     "metadata": {},
     "output_type": "display_data"
    }
   ],
   "source": [
    "date_ = 20170422\n",
    "scene_id = get_scene_id(city)\n",
    "vis = {\n",
    "  'min': 280.0,\n",
    "  'max': 305.0,\n",
    "  # 'palette': [\n",
    "  #   \"#000080\",\"#0000D9\",\"#4000FF\",\"#8000FF\",\"#0080FF\",\"#00FFFF\",\n",
    "  #   \"#00FF80\",\"#80FF00\",\"#DAFF00\",\"#FFFF00\",\"#FFF500\",\"#FFDA00\",\n",
    "  #   \"#FFB000\",\"#FFA400\",\"#FF4F00\",\"#FF2500\",\"#FF0A00\",\"#FF00FF\",\n",
    "  # ]\n",
    "  'palette' : sns.color_palette('magma', 20).as_hex(),\n",
    "}\n",
    "vis_rgb = {'min': 0.0, 'max': 0.4}\n",
    "\n",
    "Map = geemap.Map()\n",
    "landsat_b10 = ee.Image(f'LANDSAT/LC08/C02/T1_TOA/LC08_{scene_id}_{date_}').select('B10')\n",
    "landsat_rgb = ee.Image(f'LANDSAT/LC08/C02/T1_TOA/LC08_{scene_id}_{date_}').select(['B4', 'B3', 'B2'])\n",
    "ours = p.join(root_, f'Houston/output_referenced/bt/bt_{date_}.tif')\n",
    "Map.addLayer(landsat_rgb,vis_rgb, name='rgb')\n",
    "Map.addLayer(landsat_b10,vis, name='landsat_b10')\n",
    "Map.add_raster(source=ours, layer_name='ours', palette=vis['palette'], vmin=vis['min'], vmax=vis['max'])\n",
    "Map.add_colorbar(vis, label='Surface Temperature')\n",
    "Map"
   ]
  },
  {
   "cell_type": "markdown",
   "id": "8433af7f-18a5-4973-a499-fb577a341e9b",
   "metadata": {},
   "source": [
    "## Comparison with other products"
   ]
  },
  {
   "cell_type": "code",
   "execution_count": 14,
   "id": "49ebf58f-91d1-4e0d-9a65-33a3ba597340",
   "metadata": {
    "tags": []
   },
   "outputs": [
    {
     "data": {
      "application/vnd.jupyter.widget-view+json": {
       "model_id": "8262b6c0a8dd451bb8c5d1ca0cd034f5",
       "version_major": 2,
       "version_minor": 0
      },
      "text/plain": [
       "Map(center=[20, 0], controls=(WidgetControl(options=['position', 'transparent_bg'], widget=HBox(children=(Togg…"
      ]
     },
     "metadata": {},
     "output_type": "display_data"
    }
   ],
   "source": [
    "city = 'Philadelphia'\n",
    "date_ = 20210709\n",
    "scene_id = get_scene_id(city)\n",
    "vis = {\n",
    "  'min': 290.0,\n",
    "  'max': 325.0,\n",
    "  'palette' : sns.color_palette('magma', 100).as_hex(),\n",
    "}\n",
    "vis_rgb = {'min': 0.0, 'max': 0.4}\n",
    "\n",
    "Map = geemap.Map()\n",
    "era5_img = ee.Image(f'ECMWF/ERA5_LAND/HOURLY/{date_}T16').select('skin_temperature')\n",
    "landsat_st = ee.Image(f'LANDSAT/LC08/C02/T1_L2/LC08_{scene_id}_{date_}').select('ST_B10').multiply(0.00341802).add(149)\n",
    "# landsat_b10 = ee.Image(f'LANDSAT/LC08/C02/T1_TOA/LC08_{scene_id}_{date_}').select('B10')\n",
    "landsat_rgb = ee.Image(f'LANDSAT/LC08/C02/T1_TOA/LC08_{scene_id}_{date_}').select(['B4', 'B3', 'B2'])\n",
    "ours = p.join(root_, f'{city}/output_referenced/st/st_{date_}.tif')\n",
    "ours_bt = p.join(root_, f'{city}/output_referenced/bt/bt_{date_}.tif')\n",
    "Map.addLayer(era5_img, vis, name='era5')\n",
    "Map.addLayer(landsat_rgb,vis_rgb, name='rgb')\n",
    "Map.addLayer(landsat_st, vis, name='landsat_st')\n",
    "Map.add_raster(source=ours, layer_name='ours', palette=vis['palette'], vmin=vis['min'], vmax=vis['max'])\n",
    "# Map.add_raster(source=ours_bt, layer_name='our_bt', palette=vis['palette'], vmin=vis['min'], vmax=vis['max'])\n",
    "Map.add_colorbar(vis, label='Surface Temperature')\n",
    "Map"
   ]
  },
  {
   "cell_type": "code",
   "execution_count": null,
   "id": "0e08d782-8f54-497e-9a22-62f54eb71ede",
   "metadata": {},
   "outputs": [],
   "source": []
  }
 ],
 "metadata": {
  "kernelspec": {
   "display_name": "Python 3 (ipykernel)",
   "language": "python",
   "name": "python3"
  },
  "language_info": {
   "codemirror_mode": {
    "name": "ipython",
    "version": 3
   },
   "file_extension": ".py",
   "mimetype": "text/x-python",
   "name": "python",
   "nbconvert_exporter": "python",
   "pygments_lexer": "ipython3",
   "version": "3.11.0"
  }
 },
 "nbformat": 4,
 "nbformat_minor": 5
}
